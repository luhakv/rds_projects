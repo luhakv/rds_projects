{
 "cells": [
  {
   "cell_type": "markdown",
   "metadata": {},
   "source": [
    "# Итоговое задание по Проекту 6. рекомендательные_системы\n",
    "***\n",
    "### Импорт библиотек"
   ]
  },
  {
   "cell_type": "code",
   "execution_count": 1,
   "metadata": {},
   "outputs": [],
   "source": [
    "import numpy as np\n",
    "import pandas as pd\n",
    "from collections import Counter\n",
    "import json\n",
    "import re\n",
    "import os\n",
    "from datetime import datetime\n",
    "import matplotlib.pyplot as plt\n",
    "%matplotlib inline\n",
    "\n",
    "import seaborn as sns\n",
    "\n",
    "import warnings\n",
    "warnings.filterwarnings(\"ignore\")\n",
    "\n",
    "from itertools import combinations\n",
    "from scipy.stats import ttest_ind\n",
    "import scipy.sparse as sparse\n",
    "\n",
    "from lightfm import LightFM\n",
    "from lightfm.cross_validation import random_train_test_split\n",
    "from lightfm.evaluation import auc_score, precision_at_k, recall_at_k\n",
    "import sklearn\n",
    "from sklearn.model_selection import train_test_split\n",
    "from sklearn.metrics import auc, roc_auc_score, roc_curve\n",
    "\n",
    "pd.set_option('display.max_columns', None)"
   ]
  },
  {
   "cell_type": "markdown",
   "metadata": {},
   "source": [
    "### Объявление базовых функций"
   ]
  },
  {
   "cell_type": "code",
   "execution_count": 2,
   "metadata": {},
   "outputs": [],
   "source": [
    "def show_roc_curve(y_true, y_pred_prob):\n",
    "    \"\"\"Функция отображает ROC-кривую\"\"\"\n",
    "    fpr, tpr, _ = roc_curve(y_true, y_pred_prob)\n",
    "    plt.figure()\n",
    "    plt.plot([0, 1], label='Случайный классификатор', linestyle='--')\n",
    "    plt.plot(fpr, tpr, label = 'LightFM')\n",
    "    plt.title('ROC AUC = %0.3f' % roc_auc_score(y_true, y_pred_prob))\n",
    "    plt.ylabel('True Positive Rate')\n",
    "    plt.xlabel('False Positive Rate')\n",
    "    plt.legend(loc = 'lower right')\n",
    "    plt.show()"
   ]
  },
  {
   "cell_type": "code",
   "execution_count": 3,
   "metadata": {},
   "outputs": [],
   "source": [
    "def describe_cols(df):\n",
    "    list_ = list(df.columns)\n",
    "    temp_dict = {}\n",
    "    temp_dict['Признак'] = list_\n",
    "    temp_dict['Тип'] = df.dtypes\n",
    "    temp_dict['Кол-во пропусков(NaN)'] = df.isnull().sum().values \n",
    "    temp_df = pd.DataFrame.from_dict(temp_dict, orient='index')\n",
    "    display(temp_df.T)\n",
    "    return"
   ]
  },
  {
   "cell_type": "markdown",
   "metadata": {},
   "source": [
    "### Импорт данных"
   ]
  },
  {
   "cell_type": "markdown",
   "metadata": {},
   "source": [
    "'# для kaggle  \n",
    "for dirname, _, filenames in os.walk('/kaggle/input'):\n",
    "    for filename in filenames:\n",
    "        print(os.path.join(dirname, filename))\n",
    "        \n",
    "train = pd.read_csv('/kaggle/input/recommendationsv4/train.csv')\n",
    "test = pd.read_csv('/kaggle/input/recommendationsv4/test.csv')\n",
    "submission = pd.read_csv('/kaggle/input/recommendationsv4/sample_submission.csv')\n",
    "\n",
    "with open ('/kaggle/input/recommendationsv4/meta_Grocery_and_Gourmet_Food.json') as f:\n",
    "    meta=[]\n",
    "    for line in f.readlines():\n",
    "        meta.append(json.loads(line))\n",
    "meta = pd.DataFrame(meta)"
   ]
  },
  {
   "cell_type": "code",
   "execution_count": 4,
   "metadata": {},
   "outputs": [],
   "source": [
    "# для jupiter\n",
    "train = pd.read_csv('train.csv')\n",
    "test = pd.read_csv('test.csv')\n",
    "submission = pd.read_csv('sample_submission.csv')\n",
    "\n",
    "with open ('meta_Grocery_and_Gourmet_Food.json') as f:\n",
    "    meta=[]\n",
    "    for line in f.readlines():\n",
    "        meta.append(json.loads(line))\n",
    "meta = pd.DataFrame(meta)"
   ]
  },
  {
   "cell_type": "code",
   "execution_count": 5,
   "metadata": {
    "scrolled": true
   },
   "outputs": [
    {
     "data": {
      "text/html": [
       "<div>\n",
       "<style scoped>\n",
       "    .dataframe tbody tr th:only-of-type {\n",
       "        vertical-align: middle;\n",
       "    }\n",
       "\n",
       "    .dataframe tbody tr th {\n",
       "        vertical-align: top;\n",
       "    }\n",
       "\n",
       "    .dataframe thead th {\n",
       "        text-align: right;\n",
       "    }\n",
       "</style>\n",
       "<table border=\"1\" class=\"dataframe\">\n",
       "  <thead>\n",
       "    <tr style=\"text-align: right;\">\n",
       "      <th></th>\n",
       "      <th>category</th>\n",
       "      <th>description</th>\n",
       "      <th>title</th>\n",
       "      <th>brand</th>\n",
       "      <th>rank</th>\n",
       "      <th>also_view</th>\n",
       "      <th>main_cat</th>\n",
       "      <th>price</th>\n",
       "      <th>asin</th>\n",
       "      <th>also_buy</th>\n",
       "      <th>image</th>\n",
       "      <th>date</th>\n",
       "      <th>feature</th>\n",
       "      <th>details</th>\n",
       "      <th>similar_item</th>\n",
       "      <th>tech1</th>\n",
       "      <th>fit</th>\n",
       "    </tr>\n",
       "  </thead>\n",
       "  <tbody>\n",
       "    <tr>\n",
       "      <th>0</th>\n",
       "      <td>[Grocery &amp; Gourmet Food, Dairy, Cheese &amp; Eggs,...</td>\n",
       "      <td>[BEEMSTER GOUDA CHEESE AGED 18/24 MONTHS, Stat...</td>\n",
       "      <td>Beemster Gouda - Aged 18/24 Months - App. 1.5 Lbs</td>\n",
       "      <td>Ariola Imports</td>\n",
       "      <td>165,181inGroceryGourmetFood(</td>\n",
       "      <td>[B0000D9MYM, B0000D9MYL, B00ADHIGBA, B00H9OX59...</td>\n",
       "      <td>Grocery</td>\n",
       "      <td>$41.91</td>\n",
       "      <td>0681727810</td>\n",
       "      <td>NaN</td>\n",
       "      <td>NaN</td>\n",
       "      <td>NaN</td>\n",
       "      <td>NaN</td>\n",
       "      <td>NaN</td>\n",
       "      <td>NaN</td>\n",
       "      <td>NaN</td>\n",
       "      <td>NaN</td>\n",
       "    </tr>\n",
       "  </tbody>\n",
       "</table>\n",
       "</div>"
      ],
      "text/plain": [
       "                                            category  \\\n",
       "0  [Grocery & Gourmet Food, Dairy, Cheese & Eggs,...   \n",
       "\n",
       "                                         description  \\\n",
       "0  [BEEMSTER GOUDA CHEESE AGED 18/24 MONTHS, Stat...   \n",
       "\n",
       "                                               title           brand  \\\n",
       "0  Beemster Gouda - Aged 18/24 Months - App. 1.5 Lbs  Ariola Imports   \n",
       "\n",
       "                           rank  \\\n",
       "0  165,181inGroceryGourmetFood(   \n",
       "\n",
       "                                           also_view main_cat   price  \\\n",
       "0  [B0000D9MYM, B0000D9MYL, B00ADHIGBA, B00H9OX59...  Grocery  $41.91   \n",
       "\n",
       "         asin also_buy image date feature details similar_item tech1  fit  \n",
       "0  0681727810      NaN   NaN  NaN     NaN     NaN          NaN   NaN  NaN  "
      ]
     },
     "execution_count": 5,
     "metadata": {},
     "output_type": "execute_result"
    }
   ],
   "source": [
    "meta.head(1)"
   ]
  },
  {
   "cell_type": "markdown",
   "metadata": {},
   "source": [
    "Проверяем на дубликаты"
   ]
  },
  {
   "cell_type": "code",
   "execution_count": 6,
   "metadata": {},
   "outputs": [
    {
     "name": "stdout",
     "output_type": "stream",
     "text": [
      "В тренировочном датасете - 28960, в тестовом датасете - 0\n"
     ]
    }
   ],
   "source": [
    "print(f'В тренировочном датасете - {train.duplicated().sum()}, в тестовом датасете - {test.duplicated().sum()}')"
   ]
  },
  {
   "cell_type": "code",
   "execution_count": 7,
   "metadata": {},
   "outputs": [],
   "source": [
    "train.drop_duplicates(inplace=True)"
   ]
  },
  {
   "cell_type": "markdown",
   "metadata": {},
   "source": [
    "### Рассмотрим датасеты"
   ]
  },
  {
   "cell_type": "code",
   "execution_count": 8,
   "metadata": {},
   "outputs": [
    {
     "data": {
      "text/plain": [
       "((287209, 17), (828935, 14), (285965, 11), (285965, 2))"
      ]
     },
     "execution_count": 8,
     "metadata": {},
     "output_type": "execute_result"
    }
   ],
   "source": [
    "meta.shape, train.shape, test.shape, submission.shape"
   ]
  },
  {
   "cell_type": "code",
   "execution_count": 9,
   "metadata": {
    "scrolled": true
   },
   "outputs": [
    {
     "name": "stdout",
     "output_type": "stream",
     "text": [
      "<class 'pandas.core.frame.DataFrame'>\n",
      "Int64Index: 828935 entries, 0 to 857894\n",
      "Data columns (total 14 columns):\n",
      " #   Column          Non-Null Count   Dtype  \n",
      "---  ------          --------------   -----  \n",
      " 0   overall         828935 non-null  float64\n",
      " 1   verified        828935 non-null  bool   \n",
      " 2   reviewTime      828935 non-null  object \n",
      " 3   asin            828935 non-null  object \n",
      " 4   reviewerName    828771 non-null  object \n",
      " 5   reviewText      828661 non-null  object \n",
      " 6   summary         828769 non-null  object \n",
      " 7   unixReviewTime  828935 non-null  int64  \n",
      " 8   vote            115991 non-null  object \n",
      " 9   style           429265 non-null  object \n",
      " 10  image           7026 non-null    object \n",
      " 11  userid          828935 non-null  int64  \n",
      " 12  itemid          828935 non-null  int64  \n",
      " 13  rating          828935 non-null  float64\n",
      "dtypes: bool(1), float64(2), int64(3), object(8)\n",
      "memory usage: 89.3+ MB\n"
     ]
    },
    {
     "data": {
      "text/html": [
       "<div>\n",
       "<style scoped>\n",
       "    .dataframe tbody tr th:only-of-type {\n",
       "        vertical-align: middle;\n",
       "    }\n",
       "\n",
       "    .dataframe tbody tr th {\n",
       "        vertical-align: top;\n",
       "    }\n",
       "\n",
       "    .dataframe thead th {\n",
       "        text-align: right;\n",
       "    }\n",
       "</style>\n",
       "<table border=\"1\" class=\"dataframe\">\n",
       "  <thead>\n",
       "    <tr style=\"text-align: right;\">\n",
       "      <th></th>\n",
       "      <th>overall</th>\n",
       "      <th>verified</th>\n",
       "      <th>reviewTime</th>\n",
       "      <th>asin</th>\n",
       "      <th>reviewerName</th>\n",
       "      <th>reviewText</th>\n",
       "      <th>summary</th>\n",
       "      <th>unixReviewTime</th>\n",
       "      <th>vote</th>\n",
       "      <th>style</th>\n",
       "      <th>image</th>\n",
       "      <th>userid</th>\n",
       "      <th>itemid</th>\n",
       "      <th>rating</th>\n",
       "    </tr>\n",
       "  </thead>\n",
       "  <tbody>\n",
       "    <tr>\n",
       "      <th>0</th>\n",
       "      <td>5.0</td>\n",
       "      <td>True</td>\n",
       "      <td>10 4, 2016</td>\n",
       "      <td>B01CPNIEQG</td>\n",
       "      <td>Heather</td>\n",
       "      <td>These are my FAVORITE spices in my collection....</td>\n",
       "      <td>Must Add to your Spice kitchen!</td>\n",
       "      <td>1475539200</td>\n",
       "      <td>NaN</td>\n",
       "      <td>NaN</td>\n",
       "      <td>NaN</td>\n",
       "      <td>102179</td>\n",
       "      <td>37138</td>\n",
       "      <td>1.0</td>\n",
       "    </tr>\n",
       "    <tr>\n",
       "      <th>1</th>\n",
       "      <td>5.0</td>\n",
       "      <td>True</td>\n",
       "      <td>03 1, 2016</td>\n",
       "      <td>B006F63M8U</td>\n",
       "      <td>Linda Odom</td>\n",
       "      <td>Add A package to my Coffee and it makes a good...</td>\n",
       "      <td>Milk Chocolate Swiis MIss Hot Cocoa Mix</td>\n",
       "      <td>1456790400</td>\n",
       "      <td>NaN</td>\n",
       "      <td>{'Size:': ' 60-0.73 oz Envelopes'}</td>\n",
       "      <td>NaN</td>\n",
       "      <td>3625</td>\n",
       "      <td>17322</td>\n",
       "      <td>1.0</td>\n",
       "    </tr>\n",
       "  </tbody>\n",
       "</table>\n",
       "</div>"
      ],
      "text/plain": [
       "   overall  verified  reviewTime        asin reviewerName  \\\n",
       "0      5.0      True  10 4, 2016  B01CPNIEQG      Heather   \n",
       "1      5.0      True  03 1, 2016  B006F63M8U   Linda Odom   \n",
       "\n",
       "                                          reviewText  \\\n",
       "0  These are my FAVORITE spices in my collection....   \n",
       "1  Add A package to my Coffee and it makes a good...   \n",
       "\n",
       "                                   summary  unixReviewTime vote  \\\n",
       "0          Must Add to your Spice kitchen!      1475539200  NaN   \n",
       "1  Milk Chocolate Swiis MIss Hot Cocoa Mix      1456790400  NaN   \n",
       "\n",
       "                                style image  userid  itemid  rating  \n",
       "0                                 NaN   NaN  102179   37138     1.0  \n",
       "1  {'Size:': ' 60-0.73 oz Envelopes'}   NaN    3625   17322     1.0  "
      ]
     },
     "execution_count": 9,
     "metadata": {},
     "output_type": "execute_result"
    }
   ],
   "source": [
    "train.info()\n",
    "train.head(2)"
   ]
  },
  {
   "cell_type": "code",
   "execution_count": 10,
   "metadata": {
    "scrolled": true
   },
   "outputs": [
    {
     "name": "stdout",
     "output_type": "stream",
     "text": [
      "<class 'pandas.core.frame.DataFrame'>\n",
      "RangeIndex: 285965 entries, 0 to 285964\n",
      "Data columns (total 11 columns):\n",
      " #   Column          Non-Null Count   Dtype \n",
      "---  ------          --------------   ----- \n",
      " 0   verified        285965 non-null  bool  \n",
      " 1   reviewTime      285965 non-null  object\n",
      " 2   asin            285965 non-null  object\n",
      " 3   reviewerName    285918 non-null  object\n",
      " 4   unixReviewTime  285965 non-null  int64 \n",
      " 5   vote            39462 non-null   object\n",
      " 6   style           147680 non-null  object\n",
      " 7   image           2368 non-null    object\n",
      " 8   userid          285965 non-null  int64 \n",
      " 9   itemid          285965 non-null  int64 \n",
      " 10  Id              285965 non-null  int64 \n",
      "dtypes: bool(1), int64(4), object(6)\n",
      "memory usage: 22.1+ MB\n"
     ]
    },
    {
     "data": {
      "text/html": [
       "<div>\n",
       "<style scoped>\n",
       "    .dataframe tbody tr th:only-of-type {\n",
       "        vertical-align: middle;\n",
       "    }\n",
       "\n",
       "    .dataframe tbody tr th {\n",
       "        vertical-align: top;\n",
       "    }\n",
       "\n",
       "    .dataframe thead th {\n",
       "        text-align: right;\n",
       "    }\n",
       "</style>\n",
       "<table border=\"1\" class=\"dataframe\">\n",
       "  <thead>\n",
       "    <tr style=\"text-align: right;\">\n",
       "      <th></th>\n",
       "      <th>verified</th>\n",
       "      <th>reviewTime</th>\n",
       "      <th>asin</th>\n",
       "      <th>reviewerName</th>\n",
       "      <th>unixReviewTime</th>\n",
       "      <th>vote</th>\n",
       "      <th>style</th>\n",
       "      <th>image</th>\n",
       "      <th>userid</th>\n",
       "      <th>itemid</th>\n",
       "      <th>Id</th>\n",
       "    </tr>\n",
       "  </thead>\n",
       "  <tbody>\n",
       "    <tr>\n",
       "      <th>0</th>\n",
       "      <td>True</td>\n",
       "      <td>10 1, 2016</td>\n",
       "      <td>B001E5E3X0</td>\n",
       "      <td>Rudys Mom</td>\n",
       "      <td>1475280000</td>\n",
       "      <td>NaN</td>\n",
       "      <td>NaN</td>\n",
       "      <td>NaN</td>\n",
       "      <td>68877</td>\n",
       "      <td>7506</td>\n",
       "      <td>0</td>\n",
       "    </tr>\n",
       "    <tr>\n",
       "      <th>1</th>\n",
       "      <td>True</td>\n",
       "      <td>06 29, 2014</td>\n",
       "      <td>B005BYXX5E</td>\n",
       "      <td>pharg</td>\n",
       "      <td>1404000000</td>\n",
       "      <td>2</td>\n",
       "      <td>NaN</td>\n",
       "      <td>NaN</td>\n",
       "      <td>50442</td>\n",
       "      <td>15530</td>\n",
       "      <td>1</td>\n",
       "    </tr>\n",
       "  </tbody>\n",
       "</table>\n",
       "</div>"
      ],
      "text/plain": [
       "   verified   reviewTime        asin reviewerName  unixReviewTime vote style  \\\n",
       "0      True   10 1, 2016  B001E5E3X0    Rudys Mom      1475280000  NaN   NaN   \n",
       "1      True  06 29, 2014  B005BYXX5E        pharg      1404000000    2   NaN   \n",
       "\n",
       "  image  userid  itemid  Id  \n",
       "0   NaN   68877    7506   0  \n",
       "1   NaN   50442   15530   1  "
      ]
     },
     "execution_count": 10,
     "metadata": {},
     "output_type": "execute_result"
    }
   ],
   "source": [
    "test.info()\n",
    "test.head(2)"
   ]
  },
  {
   "cell_type": "markdown",
   "metadata": {},
   "source": [
    "### Описание датасета тест\n",
    "overall - рейтинг, который поставил пользователь  \n",
    "verified - был ли отзыв верифицирован  \n",
    "reviewTime - когда был отзыв написан  \n",
    "reviewerName - имя пользователя  \n",
    "reviewText - текст отзыва  \n",
    "summary - сжатый отзыв  \n",
    "vote - количество голосований за отзыв  \n",
    "style - метаданные  \n",
    "image - изображение продукта  \n",
    "userid - id пользователя  \n",
    "itemid - id товара  \n",
    "id - id для предсказания  "
   ]
  },
  {
   "cell_type": "code",
   "execution_count": 11,
   "metadata": {},
   "outputs": [
    {
     "name": "stdout",
     "output_type": "stream",
     "text": [
      "<class 'pandas.core.frame.DataFrame'>\n",
      "RangeIndex: 287209 entries, 0 to 287208\n",
      "Data columns (total 17 columns):\n",
      " #   Column        Non-Null Count   Dtype \n",
      "---  ------        --------------   ----- \n",
      " 0   category      287209 non-null  object\n",
      " 1   description   251802 non-null  object\n",
      " 2   title         287205 non-null  object\n",
      " 3   brand         275787 non-null  object\n",
      " 4   rank          275494 non-null  object\n",
      " 5   also_view     121012 non-null  object\n",
      " 6   main_cat      285716 non-null  object\n",
      " 7   price         132136 non-null  object\n",
      " 8   asin          287209 non-null  object\n",
      " 9   also_buy      83332 non-null   object\n",
      " 10  image         150214 non-null  object\n",
      " 11  date          9663 non-null    object\n",
      " 12  feature       16374 non-null   object\n",
      " 13  details       273323 non-null  object\n",
      " 14  similar_item  256 non-null     object\n",
      " 15  tech1         744 non-null     object\n",
      " 16  fit           4 non-null       object\n",
      "dtypes: object(17)\n",
      "memory usage: 37.3+ MB\n"
     ]
    },
    {
     "data": {
      "text/html": [
       "<div>\n",
       "<style scoped>\n",
       "    .dataframe tbody tr th:only-of-type {\n",
       "        vertical-align: middle;\n",
       "    }\n",
       "\n",
       "    .dataframe tbody tr th {\n",
       "        vertical-align: top;\n",
       "    }\n",
       "\n",
       "    .dataframe thead th {\n",
       "        text-align: right;\n",
       "    }\n",
       "</style>\n",
       "<table border=\"1\" class=\"dataframe\">\n",
       "  <thead>\n",
       "    <tr style=\"text-align: right;\">\n",
       "      <th></th>\n",
       "      <th>category</th>\n",
       "      <th>description</th>\n",
       "      <th>title</th>\n",
       "      <th>brand</th>\n",
       "      <th>rank</th>\n",
       "      <th>also_view</th>\n",
       "      <th>main_cat</th>\n",
       "      <th>price</th>\n",
       "      <th>asin</th>\n",
       "      <th>also_buy</th>\n",
       "      <th>image</th>\n",
       "      <th>date</th>\n",
       "      <th>feature</th>\n",
       "      <th>details</th>\n",
       "      <th>similar_item</th>\n",
       "      <th>tech1</th>\n",
       "      <th>fit</th>\n",
       "    </tr>\n",
       "  </thead>\n",
       "  <tbody>\n",
       "    <tr>\n",
       "      <th>0</th>\n",
       "      <td>[Grocery &amp; Gourmet Food, Dairy, Cheese &amp; Eggs,...</td>\n",
       "      <td>[BEEMSTER GOUDA CHEESE AGED 18/24 MONTHS, Stat...</td>\n",
       "      <td>Beemster Gouda - Aged 18/24 Months - App. 1.5 Lbs</td>\n",
       "      <td>Ariola Imports</td>\n",
       "      <td>165,181inGroceryGourmetFood(</td>\n",
       "      <td>[B0000D9MYM, B0000D9MYL, B00ADHIGBA, B00H9OX59...</td>\n",
       "      <td>Grocery</td>\n",
       "      <td>$41.91</td>\n",
       "      <td>0681727810</td>\n",
       "      <td>NaN</td>\n",
       "      <td>NaN</td>\n",
       "      <td>NaN</td>\n",
       "      <td>NaN</td>\n",
       "      <td>NaN</td>\n",
       "      <td>NaN</td>\n",
       "      <td>NaN</td>\n",
       "      <td>NaN</td>\n",
       "    </tr>\n",
       "    <tr>\n",
       "      <th>1</th>\n",
       "      <td>[Grocery &amp; Gourmet Food, Cooking &amp; Baking, Sug...</td>\n",
       "      <td>[Shipped from UK, please allow 10 to 21 busine...</td>\n",
       "      <td>Trim Healthy Mama Xylitol</td>\n",
       "      <td>NaN</td>\n",
       "      <td>315,867inGroceryGourmetFood(</td>\n",
       "      <td>NaN</td>\n",
       "      <td>Grocery</td>\n",
       "      <td>NaN</td>\n",
       "      <td>0853347867</td>\n",
       "      <td>[B01898YHXK, B01BCM6LAC, B00Q4OL47O, B00Q4OL5Q...</td>\n",
       "      <td>[https://images-na.ssl-images-amazon.com/image...</td>\n",
       "      <td>NaN</td>\n",
       "      <td>NaN</td>\n",
       "      <td>NaN</td>\n",
       "      <td>NaN</td>\n",
       "      <td>NaN</td>\n",
       "      <td>NaN</td>\n",
       "    </tr>\n",
       "  </tbody>\n",
       "</table>\n",
       "</div>"
      ],
      "text/plain": [
       "                                            category  \\\n",
       "0  [Grocery & Gourmet Food, Dairy, Cheese & Eggs,...   \n",
       "1  [Grocery & Gourmet Food, Cooking & Baking, Sug...   \n",
       "\n",
       "                                         description  \\\n",
       "0  [BEEMSTER GOUDA CHEESE AGED 18/24 MONTHS, Stat...   \n",
       "1  [Shipped from UK, please allow 10 to 21 busine...   \n",
       "\n",
       "                                               title           brand  \\\n",
       "0  Beemster Gouda - Aged 18/24 Months - App. 1.5 Lbs  Ariola Imports   \n",
       "1                          Trim Healthy Mama Xylitol             NaN   \n",
       "\n",
       "                           rank  \\\n",
       "0  165,181inGroceryGourmetFood(   \n",
       "1  315,867inGroceryGourmetFood(   \n",
       "\n",
       "                                           also_view main_cat   price  \\\n",
       "0  [B0000D9MYM, B0000D9MYL, B00ADHIGBA, B00H9OX59...  Grocery  $41.91   \n",
       "1                                                NaN  Grocery     NaN   \n",
       "\n",
       "         asin                                           also_buy  \\\n",
       "0  0681727810                                                NaN   \n",
       "1  0853347867  [B01898YHXK, B01BCM6LAC, B00Q4OL47O, B00Q4OL5Q...   \n",
       "\n",
       "                                               image date feature details  \\\n",
       "0                                                NaN  NaN     NaN     NaN   \n",
       "1  [https://images-na.ssl-images-amazon.com/image...  NaN     NaN     NaN   \n",
       "\n",
       "  similar_item tech1  fit  \n",
       "0          NaN   NaN  NaN  \n",
       "1          NaN   NaN  NaN  "
      ]
     },
     "execution_count": 11,
     "metadata": {},
     "output_type": "execute_result"
    }
   ],
   "source": [
    "meta.info()\n",
    "meta.head(2)"
   ]
  },
  {
   "cell_type": "code",
   "execution_count": 12,
   "metadata": {
    "scrolled": false
   },
   "outputs": [
    {
     "name": "stdout",
     "output_type": "stream",
     "text": [
      "<class 'pandas.core.frame.DataFrame'>\n",
      "RangeIndex: 285965 entries, 0 to 285964\n",
      "Data columns (total 2 columns):\n",
      " #   Column  Non-Null Count   Dtype  \n",
      "---  ------  --------------   -----  \n",
      " 0   Id      285965 non-null  int64  \n",
      " 1   rating  285965 non-null  float64\n",
      "dtypes: float64(1), int64(1)\n",
      "memory usage: 4.4 MB\n"
     ]
    },
    {
     "data": {
      "text/html": [
       "<div>\n",
       "<style scoped>\n",
       "    .dataframe tbody tr th:only-of-type {\n",
       "        vertical-align: middle;\n",
       "    }\n",
       "\n",
       "    .dataframe tbody tr th {\n",
       "        vertical-align: top;\n",
       "    }\n",
       "\n",
       "    .dataframe thead th {\n",
       "        text-align: right;\n",
       "    }\n",
       "</style>\n",
       "<table border=\"1\" class=\"dataframe\">\n",
       "  <thead>\n",
       "    <tr style=\"text-align: right;\">\n",
       "      <th></th>\n",
       "      <th>Id</th>\n",
       "      <th>rating</th>\n",
       "    </tr>\n",
       "  </thead>\n",
       "  <tbody>\n",
       "    <tr>\n",
       "      <th>0</th>\n",
       "      <td>0</td>\n",
       "      <td>0.282813</td>\n",
       "    </tr>\n",
       "    <tr>\n",
       "      <th>1</th>\n",
       "      <td>1</td>\n",
       "      <td>0.629758</td>\n",
       "    </tr>\n",
       "    <tr>\n",
       "      <th>2</th>\n",
       "      <td>2</td>\n",
       "      <td>0.916899</td>\n",
       "    </tr>\n",
       "    <tr>\n",
       "      <th>3</th>\n",
       "      <td>3</td>\n",
       "      <td>0.702790</td>\n",
       "    </tr>\n",
       "    <tr>\n",
       "      <th>4</th>\n",
       "      <td>4</td>\n",
       "      <td>0.043446</td>\n",
       "    </tr>\n",
       "  </tbody>\n",
       "</table>\n",
       "</div>"
      ],
      "text/plain": [
       "   Id    rating\n",
       "0   0  0.282813\n",
       "1   1  0.629758\n",
       "2   2  0.916899\n",
       "3   3  0.702790\n",
       "4   4  0.043446"
      ]
     },
     "execution_count": 12,
     "metadata": {},
     "output_type": "execute_result"
    }
   ],
   "source": [
    "submission.info()\n",
    "submission.head()"
   ]
  },
  {
   "cell_type": "markdown",
   "metadata": {},
   "source": [
    "### Описание датасета submission\n",
    "id - id для предсказания  \n",
    "rating - рейтинг    "
   ]
  },
  {
   "cell_type": "markdown",
   "metadata": {},
   "source": [
    "### Итог:"
   ]
  },
  {
   "cell_type": "markdown",
   "metadata": {},
   "source": [
    "Видим, что в тренировочном датасете на 4 столбца больше, чем в тестовом:\n",
    "overall,reviewText,summary,rating  \n",
    "При этом в тренировочном датасете нет столбца id  \n",
    "В мету и тренировочный датасет можно объеднить в 1 по признаку asin"
   ]
  },
  {
   "cell_type": "code",
   "execution_count": 13,
   "metadata": {},
   "outputs": [],
   "source": [
    "df_train = pd.merge(train,meta, on = 'asin')"
   ]
  },
  {
   "cell_type": "code",
   "execution_count": 14,
   "metadata": {},
   "outputs": [
    {
     "data": {
      "text/html": [
       "<div>\n",
       "<style scoped>\n",
       "    .dataframe tbody tr th:only-of-type {\n",
       "        vertical-align: middle;\n",
       "    }\n",
       "\n",
       "    .dataframe tbody tr th {\n",
       "        vertical-align: top;\n",
       "    }\n",
       "\n",
       "    .dataframe thead th {\n",
       "        text-align: right;\n",
       "    }\n",
       "</style>\n",
       "<table border=\"1\" class=\"dataframe\">\n",
       "  <thead>\n",
       "    <tr style=\"text-align: right;\">\n",
       "      <th></th>\n",
       "      <th>overall</th>\n",
       "      <th>verified</th>\n",
       "      <th>reviewTime</th>\n",
       "      <th>asin</th>\n",
       "      <th>reviewerName</th>\n",
       "      <th>reviewText</th>\n",
       "      <th>summary</th>\n",
       "      <th>unixReviewTime</th>\n",
       "      <th>vote</th>\n",
       "      <th>style</th>\n",
       "      <th>image_x</th>\n",
       "      <th>userid</th>\n",
       "      <th>itemid</th>\n",
       "      <th>rating</th>\n",
       "      <th>category</th>\n",
       "      <th>description</th>\n",
       "      <th>title</th>\n",
       "      <th>brand</th>\n",
       "      <th>rank</th>\n",
       "      <th>also_view</th>\n",
       "      <th>main_cat</th>\n",
       "      <th>price</th>\n",
       "      <th>also_buy</th>\n",
       "      <th>image_y</th>\n",
       "      <th>date</th>\n",
       "      <th>feature</th>\n",
       "      <th>details</th>\n",
       "      <th>similar_item</th>\n",
       "      <th>tech1</th>\n",
       "      <th>fit</th>\n",
       "    </tr>\n",
       "  </thead>\n",
       "  <tbody>\n",
       "    <tr>\n",
       "      <th>0</th>\n",
       "      <td>5.0</td>\n",
       "      <td>True</td>\n",
       "      <td>10 4, 2016</td>\n",
       "      <td>B01CPNIEQG</td>\n",
       "      <td>Heather</td>\n",
       "      <td>These are my FAVORITE spices in my collection....</td>\n",
       "      <td>Must Add to your Spice kitchen!</td>\n",
       "      <td>1475539200</td>\n",
       "      <td>NaN</td>\n",
       "      <td>NaN</td>\n",
       "      <td>NaN</td>\n",
       "      <td>102179</td>\n",
       "      <td>37138</td>\n",
       "      <td>1.0</td>\n",
       "      <td>[Grocery &amp; Gourmet Food, Herbs, Spices &amp; Seaso...</td>\n",
       "      <td>[Adobo seasoning (known as adobo seco) is a ve...</td>\n",
       "      <td>Primal Palate Organic Spices Adobo Seasoning, ...</td>\n",
       "      <td>Primal Palate Organic Spices</td>\n",
       "      <td>19,771inGroceryGourmetFood(</td>\n",
       "      <td>[B00AJRKRJS, B01NALHAY9, B01DGZ2B48, B01EZ489A...</td>\n",
       "      <td>Grocery</td>\n",
       "      <td>$9.95</td>\n",
       "      <td>[B01DGZ2B48, B01EZ489AO, B01DH795LM, B01EYW2LC...</td>\n",
       "      <td>[https://images-na.ssl-images-amazon.com/image...</td>\n",
       "      <td>NaN</td>\n",
       "      <td>NaN</td>\n",
       "      <td>\\n      &lt;div class=\"content\"&gt;\\n\\n\\n\\n\\n\\n\\n&lt;ul...</td>\n",
       "      <td>NaN</td>\n",
       "      <td>NaN</td>\n",
       "      <td>NaN</td>\n",
       "    </tr>\n",
       "    <tr>\n",
       "      <th>1</th>\n",
       "      <td>5.0</td>\n",
       "      <td>False</td>\n",
       "      <td>03 31, 2017</td>\n",
       "      <td>B01CPNIEQG</td>\n",
       "      <td>Tina McClain</td>\n",
       "      <td>Love this seasoning on chicken! The flavor is ...</td>\n",
       "      <td>Love all their seasoning!!</td>\n",
       "      <td>1490918400</td>\n",
       "      <td>NaN</td>\n",
       "      <td>NaN</td>\n",
       "      <td>NaN</td>\n",
       "      <td>117314</td>\n",
       "      <td>37138</td>\n",
       "      <td>1.0</td>\n",
       "      <td>[Grocery &amp; Gourmet Food, Herbs, Spices &amp; Seaso...</td>\n",
       "      <td>[Adobo seasoning (known as adobo seco) is a ve...</td>\n",
       "      <td>Primal Palate Organic Spices Adobo Seasoning, ...</td>\n",
       "      <td>Primal Palate Organic Spices</td>\n",
       "      <td>19,771inGroceryGourmetFood(</td>\n",
       "      <td>[B00AJRKRJS, B01NALHAY9, B01DGZ2B48, B01EZ489A...</td>\n",
       "      <td>Grocery</td>\n",
       "      <td>$9.95</td>\n",
       "      <td>[B01DGZ2B48, B01EZ489AO, B01DH795LM, B01EYW2LC...</td>\n",
       "      <td>[https://images-na.ssl-images-amazon.com/image...</td>\n",
       "      <td>NaN</td>\n",
       "      <td>NaN</td>\n",
       "      <td>\\n      &lt;div class=\"content\"&gt;\\n\\n\\n\\n\\n\\n\\n&lt;ul...</td>\n",
       "      <td>NaN</td>\n",
       "      <td>NaN</td>\n",
       "      <td>NaN</td>\n",
       "    </tr>\n",
       "  </tbody>\n",
       "</table>\n",
       "</div>"
      ],
      "text/plain": [
       "   overall  verified   reviewTime        asin  reviewerName  \\\n",
       "0      5.0      True   10 4, 2016  B01CPNIEQG       Heather   \n",
       "1      5.0     False  03 31, 2017  B01CPNIEQG  Tina McClain   \n",
       "\n",
       "                                          reviewText  \\\n",
       "0  These are my FAVORITE spices in my collection....   \n",
       "1  Love this seasoning on chicken! The flavor is ...   \n",
       "\n",
       "                           summary  unixReviewTime vote style image_x  userid  \\\n",
       "0  Must Add to your Spice kitchen!      1475539200  NaN   NaN     NaN  102179   \n",
       "1       Love all their seasoning!!      1490918400  NaN   NaN     NaN  117314   \n",
       "\n",
       "   itemid  rating                                           category  \\\n",
       "0   37138     1.0  [Grocery & Gourmet Food, Herbs, Spices & Seaso...   \n",
       "1   37138     1.0  [Grocery & Gourmet Food, Herbs, Spices & Seaso...   \n",
       "\n",
       "                                         description  \\\n",
       "0  [Adobo seasoning (known as adobo seco) is a ve...   \n",
       "1  [Adobo seasoning (known as adobo seco) is a ve...   \n",
       "\n",
       "                                               title  \\\n",
       "0  Primal Palate Organic Spices Adobo Seasoning, ...   \n",
       "1  Primal Palate Organic Spices Adobo Seasoning, ...   \n",
       "\n",
       "                          brand                         rank  \\\n",
       "0  Primal Palate Organic Spices  19,771inGroceryGourmetFood(   \n",
       "1  Primal Palate Organic Spices  19,771inGroceryGourmetFood(   \n",
       "\n",
       "                                           also_view main_cat  price  \\\n",
       "0  [B00AJRKRJS, B01NALHAY9, B01DGZ2B48, B01EZ489A...  Grocery  $9.95   \n",
       "1  [B00AJRKRJS, B01NALHAY9, B01DGZ2B48, B01EZ489A...  Grocery  $9.95   \n",
       "\n",
       "                                            also_buy  \\\n",
       "0  [B01DGZ2B48, B01EZ489AO, B01DH795LM, B01EYW2LC...   \n",
       "1  [B01DGZ2B48, B01EZ489AO, B01DH795LM, B01EYW2LC...   \n",
       "\n",
       "                                             image_y date feature  \\\n",
       "0  [https://images-na.ssl-images-amazon.com/image...  NaN     NaN   \n",
       "1  [https://images-na.ssl-images-amazon.com/image...  NaN     NaN   \n",
       "\n",
       "                                             details similar_item tech1  fit  \n",
       "0  \\n      <div class=\"content\">\\n\\n\\n\\n\\n\\n\\n<ul...          NaN   NaN  NaN  \n",
       "1  \\n      <div class=\"content\">\\n\\n\\n\\n\\n\\n\\n<ul...          NaN   NaN  NaN  "
      ]
     },
     "execution_count": 14,
     "metadata": {},
     "output_type": "execute_result"
    }
   ],
   "source": [
    "df_train.head(2)"
   ]
  },
  {
   "cell_type": "code",
   "execution_count": 15,
   "metadata": {},
   "outputs": [
    {
     "data": {
      "text/html": [
       "<div>\n",
       "<style scoped>\n",
       "    .dataframe tbody tr th:only-of-type {\n",
       "        vertical-align: middle;\n",
       "    }\n",
       "\n",
       "    .dataframe tbody tr th {\n",
       "        vertical-align: top;\n",
       "    }\n",
       "\n",
       "    .dataframe thead th {\n",
       "        text-align: right;\n",
       "    }\n",
       "</style>\n",
       "<table border=\"1\" class=\"dataframe\">\n",
       "  <thead>\n",
       "    <tr style=\"text-align: right;\">\n",
       "      <th></th>\n",
       "      <th>verified</th>\n",
       "      <th>reviewTime</th>\n",
       "      <th>asin</th>\n",
       "      <th>reviewerName</th>\n",
       "      <th>unixReviewTime</th>\n",
       "      <th>vote</th>\n",
       "      <th>style</th>\n",
       "      <th>image</th>\n",
       "      <th>userid</th>\n",
       "      <th>itemid</th>\n",
       "      <th>Id</th>\n",
       "    </tr>\n",
       "  </thead>\n",
       "  <tbody>\n",
       "    <tr>\n",
       "      <th>0</th>\n",
       "      <td>True</td>\n",
       "      <td>10 1, 2016</td>\n",
       "      <td>B001E5E3X0</td>\n",
       "      <td>Rudys Mom</td>\n",
       "      <td>1475280000</td>\n",
       "      <td>NaN</td>\n",
       "      <td>NaN</td>\n",
       "      <td>NaN</td>\n",
       "      <td>68877</td>\n",
       "      <td>7506</td>\n",
       "      <td>0</td>\n",
       "    </tr>\n",
       "    <tr>\n",
       "      <th>1</th>\n",
       "      <td>True</td>\n",
       "      <td>06 29, 2014</td>\n",
       "      <td>B005BYXX5E</td>\n",
       "      <td>pharg</td>\n",
       "      <td>1404000000</td>\n",
       "      <td>2</td>\n",
       "      <td>NaN</td>\n",
       "      <td>NaN</td>\n",
       "      <td>50442</td>\n",
       "      <td>15530</td>\n",
       "      <td>1</td>\n",
       "    </tr>\n",
       "  </tbody>\n",
       "</table>\n",
       "</div>"
      ],
      "text/plain": [
       "   verified   reviewTime        asin reviewerName  unixReviewTime vote style  \\\n",
       "0      True   10 1, 2016  B001E5E3X0    Rudys Mom      1475280000  NaN   NaN   \n",
       "1      True  06 29, 2014  B005BYXX5E        pharg      1404000000    2   NaN   \n",
       "\n",
       "  image  userid  itemid  Id  \n",
       "0   NaN   68877    7506   0  \n",
       "1   NaN   50442   15530   1  "
      ]
     },
     "execution_count": 15,
     "metadata": {},
     "output_type": "execute_result"
    }
   ],
   "source": [
    "test.head(2)"
   ]
  },
  {
   "cell_type": "markdown",
   "metadata": {},
   "source": [
    "### Первичная обработка датасетов"
   ]
  },
  {
   "cell_type": "code",
   "execution_count": 16,
   "metadata": {
    "scrolled": true
   },
   "outputs": [
    {
     "data": {
      "text/html": [
       "<div>\n",
       "<style scoped>\n",
       "    .dataframe tbody tr th:only-of-type {\n",
       "        vertical-align: middle;\n",
       "    }\n",
       "\n",
       "    .dataframe tbody tr th {\n",
       "        vertical-align: top;\n",
       "    }\n",
       "\n",
       "    .dataframe thead th {\n",
       "        text-align: right;\n",
       "    }\n",
       "</style>\n",
       "<table border=\"1\" class=\"dataframe\">\n",
       "  <thead>\n",
       "    <tr style=\"text-align: right;\">\n",
       "      <th></th>\n",
       "      <th>Признак</th>\n",
       "      <th>Тип</th>\n",
       "      <th>Кол-во пропусков(NaN)</th>\n",
       "    </tr>\n",
       "  </thead>\n",
       "  <tbody>\n",
       "    <tr>\n",
       "      <th>0</th>\n",
       "      <td>overall</td>\n",
       "      <td>float64</td>\n",
       "      <td>0</td>\n",
       "    </tr>\n",
       "    <tr>\n",
       "      <th>1</th>\n",
       "      <td>verified</td>\n",
       "      <td>bool</td>\n",
       "      <td>0</td>\n",
       "    </tr>\n",
       "    <tr>\n",
       "      <th>2</th>\n",
       "      <td>reviewTime</td>\n",
       "      <td>object</td>\n",
       "      <td>0</td>\n",
       "    </tr>\n",
       "    <tr>\n",
       "      <th>3</th>\n",
       "      <td>asin</td>\n",
       "      <td>object</td>\n",
       "      <td>0</td>\n",
       "    </tr>\n",
       "    <tr>\n",
       "      <th>4</th>\n",
       "      <td>reviewerName</td>\n",
       "      <td>object</td>\n",
       "      <td>168</td>\n",
       "    </tr>\n",
       "    <tr>\n",
       "      <th>5</th>\n",
       "      <td>reviewText</td>\n",
       "      <td>object</td>\n",
       "      <td>278</td>\n",
       "    </tr>\n",
       "    <tr>\n",
       "      <th>6</th>\n",
       "      <td>summary</td>\n",
       "      <td>object</td>\n",
       "      <td>167</td>\n",
       "    </tr>\n",
       "    <tr>\n",
       "      <th>7</th>\n",
       "      <td>unixReviewTime</td>\n",
       "      <td>int64</td>\n",
       "      <td>0</td>\n",
       "    </tr>\n",
       "    <tr>\n",
       "      <th>8</th>\n",
       "      <td>vote</td>\n",
       "      <td>object</td>\n",
       "      <td>728732</td>\n",
       "    </tr>\n",
       "    <tr>\n",
       "      <th>9</th>\n",
       "      <td>style</td>\n",
       "      <td>object</td>\n",
       "      <td>407242</td>\n",
       "    </tr>\n",
       "    <tr>\n",
       "      <th>10</th>\n",
       "      <td>image_x</td>\n",
       "      <td>object</td>\n",
       "      <td>840455</td>\n",
       "    </tr>\n",
       "    <tr>\n",
       "      <th>11</th>\n",
       "      <td>userid</td>\n",
       "      <td>int64</td>\n",
       "      <td>0</td>\n",
       "    </tr>\n",
       "    <tr>\n",
       "      <th>12</th>\n",
       "      <td>itemid</td>\n",
       "      <td>int64</td>\n",
       "      <td>0</td>\n",
       "    </tr>\n",
       "    <tr>\n",
       "      <th>13</th>\n",
       "      <td>rating</td>\n",
       "      <td>float64</td>\n",
       "      <td>0</td>\n",
       "    </tr>\n",
       "    <tr>\n",
       "      <th>14</th>\n",
       "      <td>category</td>\n",
       "      <td>object</td>\n",
       "      <td>0</td>\n",
       "    </tr>\n",
       "    <tr>\n",
       "      <th>15</th>\n",
       "      <td>description</td>\n",
       "      <td>object</td>\n",
       "      <td>71495</td>\n",
       "    </tr>\n",
       "    <tr>\n",
       "      <th>16</th>\n",
       "      <td>title</td>\n",
       "      <td>object</td>\n",
       "      <td>0</td>\n",
       "    </tr>\n",
       "    <tr>\n",
       "      <th>17</th>\n",
       "      <td>brand</td>\n",
       "      <td>object</td>\n",
       "      <td>6104</td>\n",
       "    </tr>\n",
       "    <tr>\n",
       "      <th>18</th>\n",
       "      <td>rank</td>\n",
       "      <td>object</td>\n",
       "      <td>34598</td>\n",
       "    </tr>\n",
       "    <tr>\n",
       "      <th>19</th>\n",
       "      <td>also_view</td>\n",
       "      <td>object</td>\n",
       "      <td>384222</td>\n",
       "    </tr>\n",
       "    <tr>\n",
       "      <th>20</th>\n",
       "      <td>main_cat</td>\n",
       "      <td>object</td>\n",
       "      <td>955</td>\n",
       "    </tr>\n",
       "    <tr>\n",
       "      <th>21</th>\n",
       "      <td>price</td>\n",
       "      <td>object</td>\n",
       "      <td>258621</td>\n",
       "    </tr>\n",
       "    <tr>\n",
       "      <th>22</th>\n",
       "      <td>also_buy</td>\n",
       "      <td>object</td>\n",
       "      <td>120735</td>\n",
       "    </tr>\n",
       "    <tr>\n",
       "      <th>23</th>\n",
       "      <td>image_y</td>\n",
       "      <td>object</td>\n",
       "      <td>92239</td>\n",
       "    </tr>\n",
       "    <tr>\n",
       "      <th>24</th>\n",
       "      <td>date</td>\n",
       "      <td>object</td>\n",
       "      <td>835506</td>\n",
       "    </tr>\n",
       "    <tr>\n",
       "      <th>25</th>\n",
       "      <td>feature</td>\n",
       "      <td>object</td>\n",
       "      <td>704859</td>\n",
       "    </tr>\n",
       "    <tr>\n",
       "      <th>26</th>\n",
       "      <td>details</td>\n",
       "      <td>object</td>\n",
       "      <td>14608</td>\n",
       "    </tr>\n",
       "    <tr>\n",
       "      <th>27</th>\n",
       "      <td>similar_item</td>\n",
       "      <td>object</td>\n",
       "      <td>846455</td>\n",
       "    </tr>\n",
       "    <tr>\n",
       "      <th>28</th>\n",
       "      <td>tech1</td>\n",
       "      <td>object</td>\n",
       "      <td>843221</td>\n",
       "    </tr>\n",
       "    <tr>\n",
       "      <th>29</th>\n",
       "      <td>fit</td>\n",
       "      <td>object</td>\n",
       "      <td>847593</td>\n",
       "    </tr>\n",
       "  </tbody>\n",
       "</table>\n",
       "</div>"
      ],
      "text/plain": [
       "           Признак      Тип Кол-во пропусков(NaN)\n",
       "0          overall  float64                     0\n",
       "1         verified     bool                     0\n",
       "2       reviewTime   object                     0\n",
       "3             asin   object                     0\n",
       "4     reviewerName   object                   168\n",
       "5       reviewText   object                   278\n",
       "6          summary   object                   167\n",
       "7   unixReviewTime    int64                     0\n",
       "8             vote   object                728732\n",
       "9            style   object                407242\n",
       "10         image_x   object                840455\n",
       "11          userid    int64                     0\n",
       "12          itemid    int64                     0\n",
       "13          rating  float64                     0\n",
       "14        category   object                     0\n",
       "15     description   object                 71495\n",
       "16           title   object                     0\n",
       "17           brand   object                  6104\n",
       "18            rank   object                 34598\n",
       "19       also_view   object                384222\n",
       "20        main_cat   object                   955\n",
       "21           price   object                258621\n",
       "22        also_buy   object                120735\n",
       "23         image_y   object                 92239\n",
       "24            date   object                835506\n",
       "25         feature   object                704859\n",
       "26         details   object                 14608\n",
       "27    similar_item   object                846455\n",
       "28           tech1   object                843221\n",
       "29             fit   object                847593"
      ]
     },
     "metadata": {},
     "output_type": "display_data"
    }
   ],
   "source": [
    "describe_cols(df_train)"
   ]
  },
  {
   "cell_type": "markdown",
   "metadata": {},
   "source": [
    "Итого мы имеем 1 бинарный признак, 5 числовых, 24 категориальных.  "
   ]
  },
  {
   "cell_type": "markdown",
   "metadata": {},
   "source": [
    "### Детальный анализ по переменным\n",
    "---"
   ]
  },
  {
   "cell_type": "code",
   "execution_count": 17,
   "metadata": {},
   "outputs": [
    {
     "data": {
      "text/plain": [
       "Index(['overall', 'verified', 'reviewTime', 'asin', 'reviewerName',\n",
       "       'reviewText', 'summary', 'unixReviewTime', 'vote', 'style', 'image_x',\n",
       "       'userid', 'itemid', 'rating', 'category', 'description', 'title',\n",
       "       'brand', 'rank', 'also_view', 'main_cat', 'price', 'also_buy',\n",
       "       'image_y', 'date', 'feature', 'details', 'similar_item', 'tech1',\n",
       "       'fit'],\n",
       "      dtype='object')"
      ]
     },
     "execution_count": 17,
     "metadata": {},
     "output_type": "execute_result"
    }
   ],
   "source": [
    "df_train.columns"
   ]
  },
  {
   "cell_type": "code",
   "execution_count": 18,
   "metadata": {},
   "outputs": [],
   "source": [
    "#Напишем функцию, которая выдаст нам необходимую информацию для первичного анализа признака.\n",
    "def col_info(df,hist=False):\n",
    "    print('Количество пропусков: {},'.format(df.isnull().sum()))\n",
    "    print('{},'.format(df.describe()))\n",
    "    print('Распределение:\\n{},'.format(df.value_counts()))\n",
    "    if hist==True:\n",
    "        print(df.hist())"
   ]
  },
  {
   "cell_type": "markdown",
   "metadata": {},
   "source": [
    "#### overall"
   ]
  },
  {
   "cell_type": "code",
   "execution_count": 19,
   "metadata": {
    "scrolled": true
   },
   "outputs": [
    {
     "name": "stdout",
     "output_type": "stream",
     "text": [
      "Количество пропусков: 0,\n",
      "count    847593.000000\n",
      "mean          4.441068\n",
      "std           1.065026\n",
      "min           1.000000\n",
      "25%           4.000000\n",
      "50%           5.000000\n",
      "75%           5.000000\n",
      "max           5.000000\n",
      "Name: overall, dtype: float64,\n",
      "Распределение:\n",
      "5.0    607524\n",
      "4.0    111868\n",
      "3.0     59795\n",
      "1.0     37071\n",
      "2.0     31335\n",
      "Name: overall, dtype: int64,\n",
      "AxesSubplot(0.125,0.125;0.775x0.755)\n"
     ]
    },
    {
     "data": {
      "image/png": "[encoded data removed]",
      "text/plain": [
       "<Figure size 432x288 with 1 Axes>"
      ]
     },
     "metadata": {
      "needs_background": "light"
     },
     "output_type": "display_data"
    }
   ],
   "source": [
    "col_info(df_train.overall,True)"
   ]
  },
  {
   "cell_type": "markdown",
   "metadata": {},
   "source": [
    "Похоже на оценку по пятибальной шкале. Большая часть - пятерки. Пропусков нет.  \n",
    "Возможно есть смысл преобразовать в dummy переменную"
   ]
  },
  {
   "cell_type": "code",
   "execution_count": 20,
   "metadata": {},
   "outputs": [
    {
     "name": "stdout",
     "output_type": "stream",
     "text": [
      "Количество пропусков: 0,\n",
      "count     847593\n",
      "unique         2\n",
      "top         True\n",
      "freq      736369\n",
      "Name: verified, dtype: object,\n",
      "Распределение:\n",
      "True     736369\n",
      "False    111224\n",
      "Name: verified, dtype: int64,\n"
     ]
    }
   ],
   "source": [
    "col_info(df_train.verified)"
   ]
  },
  {
   "cell_type": "markdown",
   "metadata": {},
   "source": [
    "Пропусков нет. Заменим значения на 1 и 0."
   ]
  },
  {
   "cell_type": "markdown",
   "metadata": {},
   "source": [
    "#### verified"
   ]
  },
  {
   "cell_type": "code",
   "execution_count": 21,
   "metadata": {},
   "outputs": [],
   "source": [
    "df_train['verified'] = df_train['verified'].apply(lambda x: 1 if x == True else 0)"
   ]
  },
  {
   "cell_type": "markdown",
   "metadata": {},
   "source": [
    "Посмотрим, как влияет признак verified на среднюю оценку."
   ]
  },
  {
   "cell_type": "code",
   "execution_count": 22,
   "metadata": {},
   "outputs": [
    {
     "name": "stdout",
     "output_type": "stream",
     "text": [
      "1:  4.479455273103566\n",
      "0:  4.186920089189384\n"
     ]
    },
    {
     "data": {
      "text/plain": [
       "<matplotlib.axes._subplots.AxesSubplot at 0x1d22f9e1488>"
      ]
     },
     "execution_count": 22,
     "metadata": {},
     "output_type": "execute_result"
    },
    {
     "data": {
      "image/png": "[encoded data removed]",
      "text/plain": [
       "<Figure size 432x288 with 1 Axes>"
      ]
     },
     "metadata": {
      "needs_background": "light"
     },
     "output_type": "display_data"
    }
   ],
   "source": [
    "print('1: ',df_train[df_train['verified'] == 1].overall.mean())\n",
    "df_train['overall'][df_train['verified'] == 1].hist()\n",
    "print('0: ',df_train[df_train['verified'] == 0].overall.mean())\n",
    "df_train['overall'][df_train['verified'] == 0].hist()"
   ]
  },
  {
   "cell_type": "markdown",
   "metadata": {},
   "source": [
    "Средняя оценка у верифицированных пользователей немного выше, но распределение cхожее"
   ]
  },
  {
   "cell_type": "markdown",
   "metadata": {},
   "source": [
    "#### reviewTime"
   ]
  },
  {
   "cell_type": "code",
   "execution_count": 23,
   "metadata": {
    "scrolled": false
   },
   "outputs": [
    {
     "name": "stdout",
     "output_type": "stream",
     "text": [
      "Количество пропусков: 0,\n",
      "count         847593\n",
      "unique          4580\n",
      "top       03 1, 2016\n",
      "freq             941\n",
      "Name: reviewTime, dtype: object,\n",
      "Распределение:\n",
      "03 1, 2016     941\n",
      "07 14, 2016    873\n",
      "01 20, 2016    783\n",
      "06 3, 2015     783\n",
      "02 20, 2016    767\n",
      "              ... \n",
      "10 2, 2005       1\n",
      "12 15, 2004      1\n",
      "08 19, 2006      1\n",
      "06 26, 2006      1\n",
      "08 15, 2006      1\n",
      "Name: reviewTime, Length: 4580, dtype: int64,\n"
     ]
    }
   ],
   "source": [
    "col_info(df_train['reviewTime'])"
   ]
  },
  {
   "cell_type": "markdown",
   "metadata": {},
   "source": [
    "Информация з этого стоблца дублируется в unixReviewTime в более удобном формате. Удалим данный столбец."
   ]
  },
  {
   "cell_type": "code",
   "execution_count": 24,
   "metadata": {},
   "outputs": [],
   "source": [
    "df_train.drop(['reviewTime'], axis=1, inplace = True)"
   ]
  },
  {
   "cell_type": "markdown",
   "metadata": {},
   "source": [
    "#### reviewerName"
   ]
  },
  {
   "cell_type": "code",
   "execution_count": 25,
   "metadata": {},
   "outputs": [
    {
     "name": "stdout",
     "output_type": "stream",
     "text": [
      "Количество пропусков: 168,\n",
      "count              847425\n",
      "unique             101207\n",
      "top       Amazon Customer\n",
      "freq                31346\n",
      "Name: reviewerName, dtype: object,\n",
      "Распределение:\n",
      "Amazon Customer    31346\n",
      "Kindle Customer     6128\n",
      "Linda                729\n",
      "John                 714\n",
      "David                606\n",
      "                   ...  \n",
      "Richard Semsem         1\n",
      "NomiRules              1\n",
      "MSN. NURSE             1\n",
      "Healthy momma          1\n",
      "T. Clinger             1\n",
      "Name: reviewerName, Length: 101207, dtype: int64,\n"
     ]
    }
   ],
   "source": [
    "col_info(df_train['reviewerName'])"
   ]
  },
  {
   "cell_type": "markdown",
   "metadata": {},
   "source": [
    "Лидерство занимают отзывы из Amazon и Kindle.  \n",
    "Скорее всего данный столбец будет бесполезен, удалим его."
   ]
  },
  {
   "cell_type": "code",
   "execution_count": 26,
   "metadata": {},
   "outputs": [],
   "source": [
    "df_train.drop(['reviewerName'], axis=1, inplace = True)"
   ]
  },
  {
   "cell_type": "markdown",
   "metadata": {},
   "source": [
    "####  reviewText"
   ]
  },
  {
   "cell_type": "code",
   "execution_count": 27,
   "metadata": {},
   "outputs": [],
   "source": [
    "df_train.drop(['reviewText'], axis=1, inplace = True)"
   ]
  },
  {
   "cell_type": "markdown",
   "metadata": {},
   "source": [
    "#### summary"
   ]
  },
  {
   "cell_type": "code",
   "execution_count": 28,
   "metadata": {},
   "outputs": [],
   "source": [
    "df_train.drop(['summary'], axis=1, inplace = True)"
   ]
  },
  {
   "cell_type": "markdown",
   "metadata": {},
   "source": [
    "#### asin"
   ]
  },
  {
   "cell_type": "markdown",
   "metadata": {},
   "source": [
    "Использовался для совмещения двух датасетов, в дальнейшем больше не нужен"
   ]
  },
  {
   "cell_type": "code",
   "execution_count": 29,
   "metadata": {},
   "outputs": [],
   "source": [
    "df_train.drop(['asin'], axis=1, inplace = True)"
   ]
  },
  {
   "cell_type": "markdown",
   "metadata": {},
   "source": [
    "#### unixReviewTime"
   ]
  },
  {
   "cell_type": "code",
   "execution_count": 30,
   "metadata": {},
   "outputs": [
    {
     "name": "stdout",
     "output_type": "stream",
     "text": [
      "Количество пропусков: 0,\n",
      "count    8.475930e+05\n",
      "mean     1.441914e+09\n",
      "std      5.992384e+07\n",
      "min      9.657792e+08\n",
      "25%      1.412122e+09\n",
      "50%      1.449360e+09\n",
      "75%      1.485130e+09\n",
      "max      1.538438e+09\n",
      "Name: unixReviewTime, dtype: float64,\n",
      "Распределение:\n",
      "1456790400    941\n",
      "1468454400    873\n",
      "1433289600    783\n",
      "1453248000    783\n",
      "1455926400    767\n",
      "             ... \n",
      "1113782400      1\n",
      "1132444800      1\n",
      "1167609600      1\n",
      "1105142400      1\n",
      "1155081600      1\n",
      "Name: unixReviewTime, Length: 4580, dtype: int64,\n",
      "AxesSubplot(0.125,0.125;0.775x0.755)\n"
     ]
    },
    {
     "data": {
      "image/png": "[encoded data removed]",
      "text/plain": [
       "<Figure size 432x288 with 1 Axes>"
      ]
     },
     "metadata": {
      "needs_background": "light"
     },
     "output_type": "display_data"
    }
   ],
   "source": [
    "col_info(df_train.unixReviewTime,True)"
   ]
  },
  {
   "cell_type": "code",
   "execution_count": 31,
   "metadata": {},
   "outputs": [
    {
     "data": {
      "text/plain": [
       "<matplotlib.axes._subplots.AxesSubplot at 0x1d235bb5608>"
      ]
     },
     "execution_count": 31,
     "metadata": {},
     "output_type": "execute_result"
    },
    {
     "data": {
      "image/png": "[encoded data removed]",
      "text/plain": [
       "<Figure size 432x288 with 1 Axes>"
      ]
     },
     "metadata": {
      "needs_background": "light"
     },
     "output_type": "display_data"
    }
   ],
   "source": [
    "df_train.unixReviewTime.hist(bins=100)\n",
    "df_train[df_train.overall == 5].unixReviewTime.hist(bins=100)\n",
    "df_train[df_train.overall == 4].unixReviewTime.hist(bins=100)\n",
    "df_train[df_train.overall == 3].unixReviewTime.hist(bins=100)\n",
    "df_train[df_train.overall == 1].unixReviewTime.hist(bins=100)\n",
    "df_train[df_train.overall == 2].unixReviewTime.hist(bins=100)"
   ]
  },
  {
   "cell_type": "code",
   "execution_count": 32,
   "metadata": {},
   "outputs": [
    {
     "name": "stdout",
     "output_type": "stream",
     "text": [
      "Первый отзыв: 2000-08-09 00:00:00\n",
      "25 квантиль: 2014-10-01 00:00:00\n",
      "50 квантиль: 2015-12-06 00:00:00\n",
      "75 квантиль: 2017-01-23 00:00:00\n",
      "Последний отзыв: 2018-10-02 00:00:00\n"
     ]
    }
   ],
   "source": [
    "Q25 = int(df_train['unixReviewTime'].quantile(0.25))\n",
    "Q50 = int(df_train['unixReviewTime'].quantile(0.50))\n",
    "Q75 = int(df_train['unixReviewTime'].quantile(0.75))\n",
    "print('Первый отзыв:', datetime.utcfromtimestamp(df_train['unixReviewTime'].min()).strftime('%Y-%m-%d %H:%M:%S'))\n",
    "print('25 квантиль:', datetime.utcfromtimestamp(Q25).strftime('%Y-%m-%d %H:%M:%S'))\n",
    "print('50 квантиль:', datetime.utcfromtimestamp(Q50).strftime('%Y-%m-%d %H:%M:%S'))\n",
    "print('75 квантиль:', datetime.utcfromtimestamp(Q75).strftime('%Y-%m-%d %H:%M:%S'))\n",
    "print('Последний отзыв:', datetime.utcfromtimestamp(df_train['unixReviewTime'].max()).strftime('%Y-%m-%d %H:%M:%S'))"
   ]
  },
  {
   "cell_type": "code",
   "execution_count": 33,
   "metadata": {},
   "outputs": [],
   "source": [
    "# Создадим 4 категории в зависимости от даты написания\n",
    "def cat_date(x):\n",
    "    if x <= Q25: x = 'old'\n",
    "    elif Q25 < x <= Q50: x = 'middle_old'\n",
    "    elif Q50 < x <= Q75: x = 'middle_new'\n",
    "    elif Q75 < x: x = 'new'\n",
    "    return x      \n",
    "\n",
    "# Заменим значения в столбце на категории\n",
    "df_train['unixReviewTime'] = df_train['unixReviewTime'].apply(lambda x: cat_date(x))"
   ]
  },
  {
   "cell_type": "markdown",
   "metadata": {},
   "source": [
    "#### vote"
   ]
  },
  {
   "cell_type": "code",
   "execution_count": 34,
   "metadata": {},
   "outputs": [
    {
     "name": "stdout",
     "output_type": "stream",
     "text": [
      "Количество пропусков: 728732,\n",
      "count     118861.0\n",
      "unique       477.0\n",
      "top            2.0\n",
      "freq       30774.0\n",
      "Name: vote, dtype: float64,\n",
      "Распределение:\n",
      "2.0      30774\n",
      "3.0      15336\n",
      "2        13786\n",
      "4.0       8893\n",
      "3         6969\n",
      "         ...  \n",
      "218          1\n",
      "507.0        1\n",
      "122.0        1\n",
      "120.0        1\n",
      "375          1\n",
      "Name: vote, Length: 477, dtype: int64,\n"
     ]
    }
   ],
   "source": [
    "col_info(df_train['vote'])"
   ]
  },
  {
   "cell_type": "code",
   "execution_count": 35,
   "metadata": {},
   "outputs": [],
   "source": [
    "# будем считать что пропуски значит остутствие голоса и заменим их на 0\n",
    "df_train.vote = df_train.vote.fillna(0)"
   ]
  },
  {
   "cell_type": "code",
   "execution_count": 36,
   "metadata": {},
   "outputs": [],
   "source": [
    "# Сделаем признак категориальным, разделив на 3 категории по количеству голосов\n",
    "df_train['vote'] = df_train['vote'].astype('str').apply(lambda x: x.replace(',', ''))\n",
    "df_train['vote'] = df_train['vote'].astype('float').astype('int64')\n",
    "\n",
    "\n",
    "def cat_vote(x):\n",
    "    if x < 10:\n",
    "        x = 'low'\n",
    "    elif 10 <= x <= 100:\n",
    "        x = 'middle'\n",
    "    elif 100 < x:\n",
    "        x = 'high'\n",
    "    return x\n",
    "\n",
    "\n",
    "# Заменим значения в столбце на категории\n",
    "df_train['vote'] = df_train['vote'].apply(lambda x: cat_vote(x))"
   ]
  },
  {
   "cell_type": "markdown",
   "metadata": {},
   "source": [
    "#### style"
   ]
  },
  {
   "cell_type": "code",
   "execution_count": 37,
   "metadata": {},
   "outputs": [
    {
     "name": "stdout",
     "output_type": "stream",
     "text": [
      "Количество пропусков: 407242,\n",
      "count                      440351\n",
      "unique                      25892\n",
      "top       {'Size:': ' Pack of 1'}\n",
      "freq                         4856\n",
      "Name: style, dtype: object,\n",
      "Распределение:\n",
      "{'Size:': ' Pack of 1'}                                                                    4856\n",
      "{'Package Quantity:': ' 1'}                                                                4526\n",
      "{'Package Type:': ' Standard Packaging'}                                                   3898\n",
      "{'Size:': ' 1 Pack'}                                                                       3848\n",
      "{'Size:': ' 24 Count'}                                                                     3640\n",
      "                                                                                           ... \n",
      "{'Size:': ' 19.07 Ounce (Pack of 3)', 'Style Name:': ' Fun Size Pouch'}                       1\n",
      "{'Style:': ' CRUSHED'}                                                                        1\n",
      "{'Size:': ' 1 - 1 lb. Bags', 'Flavor:': ' Smoke House Reserve Blend Brisket Injection'}       1\n",
      "{'Size:': ' 10-Count Envelopes (Pack of 12)', 'Flavor:': ' Mini Marshmallows'}                1\n",
      "{'Flavor:': ' Franks'}                                                                        1\n",
      "Name: style, Length: 25892, dtype: int64,\n"
     ]
    }
   ],
   "source": [
    "col_info(df_train['style'])"
   ]
  },
  {
   "cell_type": "markdown",
   "metadata": {},
   "source": [
    "Много пропусков - удаляем"
   ]
  },
  {
   "cell_type": "code",
   "execution_count": 38,
   "metadata": {},
   "outputs": [],
   "source": [
    "df_train.drop(['style'], axis=1, inplace = True)"
   ]
  },
  {
   "cell_type": "markdown",
   "metadata": {},
   "source": [
    "#### image_x"
   ]
  },
  {
   "cell_type": "code",
   "execution_count": 39,
   "metadata": {},
   "outputs": [],
   "source": [
    "#Изображение продукта, можно удалить.\n",
    "df_train = df_train.drop(['image_x'],axis=1)"
   ]
  },
  {
   "cell_type": "markdown",
   "metadata": {},
   "source": [
    "#### userid"
   ]
  },
  {
   "cell_type": "code",
   "execution_count": 40,
   "metadata": {},
   "outputs": [
    {
     "name": "stdout",
     "output_type": "stream",
     "text": [
      "Количество пропусков: 0,\n",
      "count    847593.000000\n",
      "mean      53756.091163\n",
      "std       37211.809152\n",
      "min           0.000000\n",
      "25%       20347.000000\n",
      "50%       48581.000000\n",
      "75%       84723.000000\n",
      "max      127495.000000\n",
      "Name: userid, dtype: float64,\n",
      "Распределение:\n",
      "842      427\n",
      "17987    317\n",
      "355      302\n",
      "2024     296\n",
      "2809     279\n",
      "        ... \n",
      "66068      1\n",
      "71046      1\n",
      "90602      1\n",
      "37414      1\n",
      "77032      1\n",
      "Name: userid, Length: 127448, dtype: int64,\n"
     ]
    }
   ],
   "source": [
    "col_info(df_train['userid'])"
   ]
  },
  {
   "cell_type": "markdown",
   "metadata": {},
   "source": [
    "Пропусков нет, идем дальше."
   ]
  },
  {
   "cell_type": "markdown",
   "metadata": {},
   "source": [
    "#### uitemid"
   ]
  },
  {
   "cell_type": "code",
   "execution_count": 41,
   "metadata": {},
   "outputs": [
    {
     "name": "stdout",
     "output_type": "stream",
     "text": [
      "Количество пропусков: 0,\n",
      "count    847593.00000\n",
      "mean      17090.10489\n",
      "std       11584.74670\n",
      "min           0.00000\n",
      "25%        6478.00000\n",
      "50%       16108.00000\n",
      "75%       26719.00000\n",
      "max       41319.00000\n",
      "Name: itemid, dtype: float64,\n",
      "Распределение:\n",
      "22208    5430\n",
      "23540    4733\n",
      "24556    4611\n",
      "379      4252\n",
      "32046    2449\n",
      "         ... \n",
      "38965       1\n",
      "23635       1\n",
      "34272       1\n",
      "39917       1\n",
      "38902       1\n",
      "Name: itemid, Length: 41302, dtype: int64,\n"
     ]
    }
   ],
   "source": [
    "col_info(df_train['itemid'])"
   ]
  },
  {
   "cell_type": "code",
   "execution_count": 42,
   "metadata": {},
   "outputs": [],
   "source": [
    "#### rating"
   ]
  },
  {
   "cell_type": "code",
   "execution_count": 43,
   "metadata": {},
   "outputs": [
    {
     "name": "stdout",
     "output_type": "stream",
     "text": [
      "Количество пропусков: 0,\n",
      "count    847593.000000\n",
      "mean          0.848747\n",
      "std           0.358296\n",
      "min           0.000000\n",
      "25%           1.000000\n",
      "50%           1.000000\n",
      "75%           1.000000\n",
      "max           1.000000\n",
      "Name: rating, dtype: float64,\n",
      "Распределение:\n",
      "1.0    719392\n",
      "0.0    128201\n",
      "Name: rating, dtype: int64,\n"
     ]
    }
   ],
   "source": [
    "col_info(df_train['rating'])"
   ]
  },
  {
   "cell_type": "markdown",
   "metadata": {},
   "source": [
    "Целевая переменная, бинарная.  \n",
    "Сравним корелляцию с оценкой"
   ]
  },
  {
   "cell_type": "code",
   "execution_count": 44,
   "metadata": {},
   "outputs": [
    {
     "name": "stdout",
     "output_type": "stream",
     "text": [
      "Оценки при rating = 0:\n",
      " 3.0    59795\n",
      "1.0    37071\n",
      "2.0    31335\n",
      "Name: overall, dtype: int64\n",
      "Оценки при rating = 1:\n",
      " 5.0    607524\n",
      "4.0    111868\n",
      "Name: overall, dtype: int64\n"
     ]
    }
   ],
   "source": [
    "print('Оценки при rating = 0:\\n', df_train[df_train.rating == 0].overall.value_counts())\n",
    "print('Оценки при rating = 1:\\n', df_train[df_train.rating == 1].overall.value_counts())"
   ]
  },
  {
   "cell_type": "markdown",
   "metadata": {},
   "source": [
    "При оценках 4 или 5 считаем, что товар понравился. 1,2 или 3 - не понравился."
   ]
  },
  {
   "cell_type": "markdown",
   "metadata": {},
   "source": [
    "#### category"
   ]
  },
  {
   "cell_type": "code",
   "execution_count": 45,
   "metadata": {},
   "outputs": [],
   "source": [
    "# Удалим столбец с категориями\n",
    "df_train.drop(['category'], axis = 1,inplace = True)"
   ]
  },
  {
   "cell_type": "markdown",
   "metadata": {},
   "source": [
    "#### description"
   ]
  },
  {
   "cell_type": "code",
   "execution_count": 46,
   "metadata": {},
   "outputs": [],
   "source": [
    "df_train.drop(['description'], axis = 1,inplace = True)"
   ]
  },
  {
   "cell_type": "markdown",
   "metadata": {},
   "source": [
    "#### title"
   ]
  },
  {
   "cell_type": "code",
   "execution_count": 47,
   "metadata": {},
   "outputs": [],
   "source": [
    "df_train.drop(['title'], axis = 1,inplace = True)"
   ]
  },
  {
   "cell_type": "markdown",
   "metadata": {},
   "source": [
    "#### brand"
   ]
  },
  {
   "cell_type": "code",
   "execution_count": 48,
   "metadata": {
    "scrolled": true
   },
   "outputs": [
    {
     "name": "stdout",
     "output_type": "stream",
     "text": [
      "Количество пропусков: 6104,\n",
      "count     841489\n",
      "unique      8866\n",
      "top         KIND\n",
      "freq       22506\n",
      "Name: brand, dtype: object,\n",
      "Распределение:\n",
      "KIND                           22506\n",
      "Bob's Red Mill                 13061\n",
      "Twinings                       11182\n",
      "Planters                       10384\n",
      "Frontier                        6926\n",
      "                               ...  \n",
      "Righteously Raw                    1\n",
      "Tsogo                              1\n",
      "Drumstick                          1\n",
      "Coco Lite Muligrn Pop Cakes        1\n",
      "Caf Indulgencia                    1\n",
      "Name: brand, Length: 8866, dtype: int64,\n"
     ]
    }
   ],
   "source": [
    "col_info(df_train['brand'])"
   ]
  },
  {
   "cell_type": "markdown",
   "metadata": {},
   "source": [
    "С этим столбцом поступим по аналогии с reviewerName, удалим"
   ]
  },
  {
   "cell_type": "code",
   "execution_count": 49,
   "metadata": {},
   "outputs": [],
   "source": [
    "df_train.drop(['brand'], axis = 1,inplace = True)"
   ]
  },
  {
   "cell_type": "markdown",
   "metadata": {},
   "source": [
    "#### rank"
   ]
  },
  {
   "cell_type": "code",
   "execution_count": 50,
   "metadata": {},
   "outputs": [
    {
     "name": "stdout",
     "output_type": "stream",
     "text": [
      "Количество пропусков: 34598,\n"
     ]
    }
   ],
   "source": [
    "print('Количество пропусков: {},'.format(df_train['rank'].isnull().sum()))"
   ]
  },
  {
   "cell_type": "code",
   "execution_count": 51,
   "metadata": {},
   "outputs": [
    {
     "name": "stdout",
     "output_type": "stream",
     "text": [
      "Количество пропусков: 0,\n",
      "count    8.475930e+05\n",
      "mean     6.676660e+05\n",
      "std      2.289290e+06\n",
      "min      4.000000e+00\n",
      "25%      1.094000e+04\n",
      "50%      4.999900e+04\n",
      "75%      1.799160e+05\n",
      "max      9.999999e+06\n",
      "Name: rank, dtype: float64,\n",
      "Распределение:\n",
      "9999999    47163\n",
      "18          7421\n",
      "4575        4733\n",
      "2949        4611\n",
      "142261      4252\n",
      "           ...  \n",
      "1169810        1\n",
      "784450         1\n",
      "293005         1\n",
      "265756         1\n",
      "643797         1\n",
      "Name: rank, Length: 35977, dtype: int64,\n"
     ]
    }
   ],
   "source": [
    "# Приведем все к str\n",
    "df_train['rank'] = df_train['rank'].astype('str')\n",
    "# Удалим все значения кроме числовых\n",
    "df_train['rank'] = df_train['rank'].apply(lambda x: re.sub('\\D', '', x))\n",
    "# Заменим пропуски на высокий ранг (предположим, что чем ниже ранг, тем лучше)\n",
    "df_train['rank'] = df_train['rank'].apply(lambda x: 9999999 if x == '' else x)\n",
    "df_train['rank'] = df_train['rank'].astype('float')\n",
    "# Остаются какие-то большие значения, заменим их на высокий ранг\n",
    "df_train['rank'] = df_train['rank'].apply(lambda x: 9999999 if x > 9999999 else x)\n",
    "df_train['rank'] = df_train['rank'].astype('int32')\n",
    "# Посмотрим на результат\n",
    "col_info(df_train['rank'])"
   ]
  },
  {
   "cell_type": "code",
   "execution_count": 52,
   "metadata": {},
   "outputs": [],
   "source": [
    "# Создадим 3 категории рангов\n",
    "def cat_rank(x):\n",
    "    if x < 1093: x = 'high'\n",
    "    elif 1093 <= x <= 18000: x = 'middle'\n",
    "    elif 18000 < x: x = 'low'\n",
    "    return x      \n",
    "\n",
    "# Заменим значения в столбце на категории\n",
    "df_train['rank'] = df_train['rank'].apply(lambda x: cat_rank(x))"
   ]
  },
  {
   "cell_type": "markdown",
   "metadata": {},
   "source": [
    "#### also_view"
   ]
  },
  {
   "cell_type": "code",
   "execution_count": 53,
   "metadata": {},
   "outputs": [],
   "source": [
    "df_train.drop(['also_view'], axis = 1,inplace = True)"
   ]
  },
  {
   "cell_type": "markdown",
   "metadata": {},
   "source": [
    "#### main_cat"
   ]
  },
  {
   "cell_type": "code",
   "execution_count": 54,
   "metadata": {},
   "outputs": [
    {
     "name": "stdout",
     "output_type": "stream",
     "text": [
      "Количество пропусков: 955,\n",
      "count      846638\n",
      "unique         17\n",
      "top       Grocery\n",
      "freq       802613\n",
      "Name: main_cat, dtype: object,\n",
      "Распределение:\n",
      "Grocery                      802613\n",
      "Health & Personal Care        31705\n",
      "Amazon Home                    7383\n",
      "All Beauty                     1522\n",
      "Sports & Outdoors              1322\n",
      "Industrial & Scientific         902\n",
      "Office Products                 631\n",
      "Toys & Games                    304\n",
      "Pet Supplies                    125\n",
      "Tools & Home Improvement         53\n",
      "Baby                             34\n",
      "Arts, Crafts & Sewing            19\n",
      "Home Audio & Theater              9\n",
      "Camera & Photo                    8\n",
      "Musical Instruments               3\n",
      "Software                          3\n",
      "Cell Phones & Accessories         2\n",
      "Name: main_cat, dtype: int64,\n"
     ]
    }
   ],
   "source": [
    "col_info(df_train.main_cat)"
   ]
  },
  {
   "cell_type": "markdown",
   "metadata": {},
   "source": [
    "Заполним пропуски значением Other"
   ]
  },
  {
   "cell_type": "code",
   "execution_count": 55,
   "metadata": {},
   "outputs": [],
   "source": [
    "df_train['main_cat'] = df_train['main_cat'].fillna('Other')"
   ]
  },
  {
   "cell_type": "markdown",
   "metadata": {},
   "source": [
    "#### price"
   ]
  },
  {
   "cell_type": "code",
   "execution_count": 56,
   "metadata": {},
   "outputs": [
    {
     "name": "stdout",
     "output_type": "stream",
     "text": [
      "Количество пропусков: 258621,\n",
      "count     588972\n",
      "unique      4601\n",
      "top       $14.99\n",
      "freq       14241\n",
      "Name: price, dtype: object,\n",
      "Распределение:\n",
      "$14.99              14241\n",
      "$13.67              10660\n",
      "$19.99               9043\n",
      "$14.79               5632\n",
      "$15.53               5561\n",
      "                    ...  \n",
      "$73.47                  2\n",
      "$19.99 - $295.00        1\n",
      "$35.16                  1\n",
      "$44.14                  1\n",
      "$6.93                   1\n",
      "Name: price, Length: 4601, dtype: int64,\n"
     ]
    }
   ],
   "source": [
    "col_info(df_train['price'])"
   ]
  },
  {
   "cell_type": "code",
   "execution_count": 57,
   "metadata": {},
   "outputs": [],
   "source": [
    "price = df_train['price'].astype('str').apply(lambda x: re.sub('\\D', '', x))\n",
    "price = price.loc[price!=''].astype('float')\n",
    "price = price.loc[price<99999]\n",
    "pr_mean = round(price.mean(),2)\n",
    "price=None\n",
    "df_train['price'] = df_train['price'].astype('str').apply(lambda x: re.sub('\\D', '', x))\n",
    "df_train['price'] = df_train['price'].apply(lambda x: pr_mean if x =='' else x).astype('float')\n",
    "df_train['price'] = df_train['price'].apply(lambda x: pr_mean if x >999999 else x)"
   ]
  },
  {
   "cell_type": "code",
   "execution_count": 58,
   "metadata": {},
   "outputs": [],
   "source": [
    "def cat_price(x):\n",
    "    if x < 1397: x = 'low price'\n",
    "    elif 1397 <= x <= 2099: x = 'middle price'\n",
    "    elif 2099 < x: x = 'high price'\n",
    "    return x      \n",
    "\n",
    "df_train['price'] = df_train['price'].apply(lambda x: cat_price(x))"
   ]
  },
  {
   "cell_type": "markdown",
   "metadata": {},
   "source": [
    "#### also_buy"
   ]
  },
  {
   "cell_type": "code",
   "execution_count": 59,
   "metadata": {},
   "outputs": [],
   "source": [
    "#Так же как и с \"also_view\", удаляем.\n",
    "df_train.drop(['also_buy'], axis = 1,inplace = True)"
   ]
  },
  {
   "cell_type": "markdown",
   "metadata": {},
   "source": [
    "#### image_y"
   ]
  },
  {
   "cell_type": "code",
   "execution_count": 60,
   "metadata": {},
   "outputs": [],
   "source": [
    "df_train.drop(['image_y'], axis = 1,inplace = True)"
   ]
  },
  {
   "cell_type": "markdown",
   "metadata": {},
   "source": [
    "#### date"
   ]
  },
  {
   "cell_type": "code",
   "execution_count": 61,
   "metadata": {},
   "outputs": [
    {
     "name": "stdout",
     "output_type": "stream",
     "text": [
      "Количество пропусков: 835506,\n",
      "count               12087\n",
      "unique                417\n",
      "top       January 1, 2006\n",
      "freq                  561\n",
      "Name: date, dtype: object,\n",
      "Распределение:\n",
      "January 1, 2006      561\n",
      "May 5, 2003          428\n",
      "October 29, 2003     424\n",
      "January 7, 2008      372\n",
      "March 10, 2004       294\n",
      "                    ... \n",
      "August 2, 2008         2\n",
      "December 21, 2007      2\n",
      "January 18, 2008       1\n",
      "February 13, 2008      1\n",
      "February 21, 2015      1\n",
      "Name: date, Length: 417, dtype: int64,\n"
     ]
    }
   ],
   "source": [
    "col_info(df_train['date'])"
   ]
  },
  {
   "cell_type": "markdown",
   "metadata": {},
   "source": [
    "Очень большое кол-во пропусков, удаляем"
   ]
  },
  {
   "cell_type": "code",
   "execution_count": 62,
   "metadata": {},
   "outputs": [],
   "source": [
    "df_train.drop(['date'], axis = 1,inplace = True)"
   ]
  },
  {
   "cell_type": "markdown",
   "metadata": {},
   "source": [
    "#### feature"
   ]
  },
  {
   "cell_type": "markdown",
   "metadata": {},
   "source": [
    "Очень большое кол-во пропусков, удаляем"
   ]
  },
  {
   "cell_type": "code",
   "execution_count": 63,
   "metadata": {},
   "outputs": [],
   "source": [
    "df_train.drop(['feature'], axis = 1,inplace = True)"
   ]
  },
  {
   "cell_type": "markdown",
   "metadata": {},
   "source": [
    "#### details"
   ]
  },
  {
   "cell_type": "markdown",
   "metadata": {},
   "source": [
    "Очень большое кол-во пропусков, удаляем"
   ]
  },
  {
   "cell_type": "code",
   "execution_count": 64,
   "metadata": {},
   "outputs": [],
   "source": [
    "df_train.drop(['details'], axis = 1,inplace = True)"
   ]
  },
  {
   "cell_type": "markdown",
   "metadata": {},
   "source": [
    "#### similar_item"
   ]
  },
  {
   "cell_type": "markdown",
   "metadata": {},
   "source": [
    "Очень большое кол-во пропусков, удаляем"
   ]
  },
  {
   "cell_type": "code",
   "execution_count": 65,
   "metadata": {},
   "outputs": [],
   "source": [
    "df_train.drop(['similar_item'], axis = 1,inplace = True)"
   ]
  },
  {
   "cell_type": "markdown",
   "metadata": {},
   "source": [
    "#### tech1"
   ]
  },
  {
   "cell_type": "markdown",
   "metadata": {},
   "source": [
    "Очень большое кол-во пропусков, удаляем"
   ]
  },
  {
   "cell_type": "code",
   "execution_count": 66,
   "metadata": {},
   "outputs": [],
   "source": [
    "df_train.drop(['tech1'], axis = 1,inplace = True)"
   ]
  },
  {
   "cell_type": "markdown",
   "metadata": {},
   "source": [
    "#### fit"
   ]
  },
  {
   "cell_type": "markdown",
   "metadata": {},
   "source": [
    "Очень большое кол-во пропусков, удаляем"
   ]
  },
  {
   "cell_type": "code",
   "execution_count": 67,
   "metadata": {},
   "outputs": [],
   "source": [
    "df_train.drop(['fit'], axis = 1,inplace = True)"
   ]
  },
  {
   "cell_type": "markdown",
   "metadata": {},
   "source": [
    "#### Посмотрим на результат"
   ]
  },
  {
   "cell_type": "code",
   "execution_count": 68,
   "metadata": {},
   "outputs": [
    {
     "name": "stdout",
     "output_type": "stream",
     "text": [
      "<class 'pandas.core.frame.DataFrame'>\n",
      "Int64Index: 847593 entries, 0 to 847592\n",
      "Data columns (total 10 columns):\n",
      " #   Column          Non-Null Count   Dtype  \n",
      "---  ------          --------------   -----  \n",
      " 0   overall         847593 non-null  float64\n",
      " 1   verified        847593 non-null  int64  \n",
      " 2   unixReviewTime  847593 non-null  object \n",
      " 3   vote            847593 non-null  object \n",
      " 4   userid          847593 non-null  int64  \n",
      " 5   itemid          847593 non-null  int64  \n",
      " 6   rating          847593 non-null  float64\n",
      " 7   rank            847593 non-null  object \n",
      " 8   main_cat        847593 non-null  object \n",
      " 9   price           847593 non-null  object \n",
      "dtypes: float64(2), int64(3), object(5)\n",
      "memory usage: 71.1+ MB\n"
     ]
    }
   ],
   "source": [
    "df_train.info()"
   ]
  },
  {
   "cell_type": "markdown",
   "metadata": {},
   "source": [
    "Мы видим, что осталось обработать 10 категориальных признаков, из которых\n",
    "\n",
    "3 шт. (userid, itemid, rating) мы не трогаем\n",
    "признак overall отсутствует в тестовом датасете\n",
    "а для остальных 6 (verified, unixReviewTime, vote, rank, main_cat, price) сделаем dummy-переменные."
   ]
  },
  {
   "cell_type": "code",
   "execution_count": 69,
   "metadata": {},
   "outputs": [],
   "source": [
    "def get_boxplot(column):\n",
    "    fig, ax = plt.subplots(figsize = (14, 4))\n",
    "    sns.boxplot(x=column, y='overall', \n",
    "                data=df_train.loc[df_train.loc[:, column].isin(df_train.loc[:, column].value_counts().index[:10])],\n",
    "               ax=ax)\n",
    "    plt.xticks(rotation=45)\n",
    "    ax.set_title('Boxplot for ' + column)\n",
    "    plt.show()"
   ]
  },
  {
   "cell_type": "code",
   "execution_count": 70,
   "metadata": {},
   "outputs": [
    {
     "data": {
      "image/png": "[encoded data removed]",
      "text/plain": [
       "<Figure size 1008x288 with 1 Axes>"
      ]
     },
     "metadata": {
      "needs_background": "light"
     },
     "output_type": "display_data"
    },
    {
     "data": {
      "image/png": "[encoded data removed]",
      "text/plain": [
       "<Figure size 1008x288 with 1 Axes>"
      ]
     },
     "metadata": {
      "needs_background": "light"
     },
     "output_type": "display_data"
    },
    {
     "data": {
      "image/png": "[encoded data removed]",
      "text/plain": [
       "<Figure size 1008x288 with 1 Axes>"
      ]
     },
     "metadata": {
      "needs_background": "light"
     },
     "output_type": "display_data"
    },
    {
     "data": {
      "image/png": "[encoded data removed]",
      "text/plain": [
       "<Figure size 1008x288 with 1 Axes>"
      ]
     },
     "metadata": {
      "needs_background": "light"
     },
     "output_type": "display_data"
    },
    {
     "data": {
      "image/png": "[encoded data removed]",
      "text/plain": [
       "<Figure size 1008x288 with 1 Axes>"
      ]
     },
     "metadata": {
      "needs_background": "light"
     },
     "output_type": "display_data"
    },
    {
     "data": {
      "image/png": "[encoded data removed]",
      "text/plain": [
       "<Figure size 1008x288 with 1 Axes>"
      ]
     },
     "metadata": {
      "needs_background": "light"
     },
     "output_type": "display_data"
    }
   ],
   "source": [
    "for col in ['verified', 'unixReviewTime', 'vote', 'rank', 'main_cat', 'price']:\n",
    "    get_boxplot(col)"
   ]
  },
  {
   "cell_type": "code",
   "execution_count": 71,
   "metadata": {},
   "outputs": [],
   "source": [
    "def get_stat_dif(column):\n",
    "    cols = df_train.loc[:, column].value_counts().index[:10]\n",
    "    combinations_all = list(combinations(cols, 2))\n",
    "    for comb in combinations_all:\n",
    "        if ttest_ind(df_train.loc[df_train.loc[:, column] == comb[0], 'overall'], \n",
    "                        df_train.loc[df_train.loc[:, column] == comb[1], 'overall']).pvalue \\\n",
    "            <= 0.05/len(combinations_all): # Учли поправку Бонферони\n",
    "            print('Найдены статистически значимые различия для колонки', column)\n",
    "            break"
   ]
  },
  {
   "cell_type": "code",
   "execution_count": 72,
   "metadata": {},
   "outputs": [
    {
     "name": "stdout",
     "output_type": "stream",
     "text": [
      "Найдены статистически значимые различия для колонки verified\n",
      "Найдены статистически значимые различия для колонки unixReviewTime\n",
      "Найдены статистически значимые различия для колонки vote\n",
      "Найдены статистически значимые различия для колонки rank\n",
      "Найдены статистически значимые различия для колонки main_cat\n",
      "Найдены статистически значимые различия для колонки price\n"
     ]
    }
   ],
   "source": [
    "for col in ['verified', 'unixReviewTime', 'vote', 'rank', 'main_cat', 'price']:\n",
    "    get_stat_dif(col)"
   ]
  },
  {
   "cell_type": "markdown",
   "metadata": {},
   "source": [
    "Распределение оценок различается по всем шести параметрам."
   ]
  },
  {
   "cell_type": "code",
   "execution_count": 73,
   "metadata": {},
   "outputs": [],
   "source": [
    "df_train.drop(['overall'], axis = 1, inplace= True)"
   ]
  },
  {
   "cell_type": "code",
   "execution_count": 74,
   "metadata": {
    "scrolled": true
   },
   "outputs": [
    {
     "data": {
      "text/html": [
       "<div>\n",
       "<style scoped>\n",
       "    .dataframe tbody tr th:only-of-type {\n",
       "        vertical-align: middle;\n",
       "    }\n",
       "\n",
       "    .dataframe tbody tr th {\n",
       "        vertical-align: top;\n",
       "    }\n",
       "\n",
       "    .dataframe thead th {\n",
       "        text-align: right;\n",
       "    }\n",
       "</style>\n",
       "<table border=\"1\" class=\"dataframe\">\n",
       "  <thead>\n",
       "    <tr style=\"text-align: right;\">\n",
       "      <th></th>\n",
       "      <th>high</th>\n",
       "      <th>low</th>\n",
       "      <th>middle</th>\n",
       "    </tr>\n",
       "  </thead>\n",
       "  <tbody>\n",
       "    <tr>\n",
       "      <th>0</th>\n",
       "      <td>0</td>\n",
       "      <td>1</td>\n",
       "      <td>0</td>\n",
       "    </tr>\n",
       "    <tr>\n",
       "      <th>1</th>\n",
       "      <td>0</td>\n",
       "      <td>1</td>\n",
       "      <td>0</td>\n",
       "    </tr>\n",
       "  </tbody>\n",
       "</table>\n",
       "</div>"
      ],
      "text/plain": [
       "   high  low  middle\n",
       "0     0    1       0\n",
       "1     0    1       0"
      ]
     },
     "execution_count": 74,
     "metadata": {},
     "output_type": "execute_result"
    }
   ],
   "source": [
    "education_dummy = pd.get_dummies(df_train['price'])\n",
    "education_dummy1 = pd.get_dummies(df_train['rank'])\n",
    "education_dummy2 = pd.get_dummies(df_train['vote'])\n",
    "education_dummy.head(2)"
   ]
  },
  {
   "cell_type": "code",
   "execution_count": 84,
   "metadata": {},
   "outputs": [
    {
     "ename": "ValueError",
     "evalue": "columns overlap but no suffix specified: Index(['high', 'low', 'middle'], dtype='object')",
     "output_type": "error",
     "traceback": [
      "\u001b[1;31m---------------------------------------------------------------------------\u001b[0m",
      "\u001b[1;31mValueError\u001b[0m                                Traceback (most recent call last)",
      "\u001b[1;32m<ipython-input-84-2be033d30aea>\u001b[0m in \u001b[0;36m<module>\u001b[1;34m\u001b[0m\n\u001b[0;32m      1\u001b[0m \u001b[0mdf_train1\u001b[0m \u001b[1;33m=\u001b[0m \u001b[0mdf_train\u001b[0m\u001b[1;33m.\u001b[0m\u001b[0mjoin\u001b[0m\u001b[1;33m(\u001b[0m\u001b[0meducation_dummy\u001b[0m\u001b[1;33m)\u001b[0m\u001b[1;33m\u001b[0m\u001b[1;33m\u001b[0m\u001b[0m\n\u001b[0;32m      2\u001b[0m \u001b[1;31m#df_train1 = df_train1.join(education_dummy1)\u001b[0m\u001b[1;33m\u001b[0m\u001b[1;33m\u001b[0m\u001b[1;33m\u001b[0m\u001b[0m\n\u001b[1;32m----> 3\u001b[1;33m \u001b[0mdf_train1\u001b[0m \u001b[1;33m=\u001b[0m \u001b[0mdf_train1\u001b[0m\u001b[1;33m.\u001b[0m\u001b[0mjoin\u001b[0m\u001b[1;33m(\u001b[0m\u001b[0meducation_dummy2\u001b[0m\u001b[1;33m)\u001b[0m\u001b[1;33m\u001b[0m\u001b[1;33m\u001b[0m\u001b[0m\n\u001b[0m\u001b[0;32m      4\u001b[0m \u001b[0mdf_train1\u001b[0m\u001b[1;33m.\u001b[0m\u001b[0mdrop\u001b[0m\u001b[1;33m(\u001b[0m\u001b[1;33m[\u001b[0m\u001b[1;34m'vote'\u001b[0m\u001b[1;33m,\u001b[0m\u001b[1;34m'rank'\u001b[0m\u001b[1;33m,\u001b[0m\u001b[1;34m'price'\u001b[0m\u001b[1;33m]\u001b[0m\u001b[1;33m)\u001b[0m\u001b[1;33m\u001b[0m\u001b[1;33m\u001b[0m\u001b[0m\n",
      "\u001b[1;32mC:\\Programs\\anaconda\\lib\\site-packages\\pandas\\core\\frame.py\u001b[0m in \u001b[0;36mjoin\u001b[1;34m(self, other, on, how, lsuffix, rsuffix, sort)\u001b[0m\n\u001b[0;32m   7207\u001b[0m         \"\"\"\n\u001b[0;32m   7208\u001b[0m         return self._join_compat(\n\u001b[1;32m-> 7209\u001b[1;33m             \u001b[0mother\u001b[0m\u001b[1;33m,\u001b[0m \u001b[0mon\u001b[0m\u001b[1;33m=\u001b[0m\u001b[0mon\u001b[0m\u001b[1;33m,\u001b[0m \u001b[0mhow\u001b[0m\u001b[1;33m=\u001b[0m\u001b[0mhow\u001b[0m\u001b[1;33m,\u001b[0m \u001b[0mlsuffix\u001b[0m\u001b[1;33m=\u001b[0m\u001b[0mlsuffix\u001b[0m\u001b[1;33m,\u001b[0m \u001b[0mrsuffix\u001b[0m\u001b[1;33m=\u001b[0m\u001b[0mrsuffix\u001b[0m\u001b[1;33m,\u001b[0m \u001b[0msort\u001b[0m\u001b[1;33m=\u001b[0m\u001b[0msort\u001b[0m\u001b[1;33m\u001b[0m\u001b[1;33m\u001b[0m\u001b[0m\n\u001b[0m\u001b[0;32m   7210\u001b[0m         )\n\u001b[0;32m   7211\u001b[0m \u001b[1;33m\u001b[0m\u001b[0m\n",
      "\u001b[1;32mC:\\Programs\\anaconda\\lib\\site-packages\\pandas\\core\\frame.py\u001b[0m in \u001b[0;36m_join_compat\u001b[1;34m(self, other, on, how, lsuffix, rsuffix, sort)\u001b[0m\n\u001b[0;32m   7230\u001b[0m                 \u001b[0mright_index\u001b[0m\u001b[1;33m=\u001b[0m\u001b[1;32mTrue\u001b[0m\u001b[1;33m,\u001b[0m\u001b[1;33m\u001b[0m\u001b[1;33m\u001b[0m\u001b[0m\n\u001b[0;32m   7231\u001b[0m                 \u001b[0msuffixes\u001b[0m\u001b[1;33m=\u001b[0m\u001b[1;33m(\u001b[0m\u001b[0mlsuffix\u001b[0m\u001b[1;33m,\u001b[0m \u001b[0mrsuffix\u001b[0m\u001b[1;33m)\u001b[0m\u001b[1;33m,\u001b[0m\u001b[1;33m\u001b[0m\u001b[1;33m\u001b[0m\u001b[0m\n\u001b[1;32m-> 7232\u001b[1;33m                 \u001b[0msort\u001b[0m\u001b[1;33m=\u001b[0m\u001b[0msort\u001b[0m\u001b[1;33m,\u001b[0m\u001b[1;33m\u001b[0m\u001b[1;33m\u001b[0m\u001b[0m\n\u001b[0m\u001b[0;32m   7233\u001b[0m             )\n\u001b[0;32m   7234\u001b[0m         \u001b[1;32melse\u001b[0m\u001b[1;33m:\u001b[0m\u001b[1;33m\u001b[0m\u001b[1;33m\u001b[0m\u001b[0m\n",
      "\u001b[1;32mC:\\Programs\\anaconda\\lib\\site-packages\\pandas\\core\\reshape\\merge.py\u001b[0m in \u001b[0;36mmerge\u001b[1;34m(left, right, how, on, left_on, right_on, left_index, right_index, sort, suffixes, copy, indicator, validate)\u001b[0m\n\u001b[0;32m     86\u001b[0m         \u001b[0mvalidate\u001b[0m\u001b[1;33m=\u001b[0m\u001b[0mvalidate\u001b[0m\u001b[1;33m,\u001b[0m\u001b[1;33m\u001b[0m\u001b[1;33m\u001b[0m\u001b[0m\n\u001b[0;32m     87\u001b[0m     )\n\u001b[1;32m---> 88\u001b[1;33m     \u001b[1;32mreturn\u001b[0m \u001b[0mop\u001b[0m\u001b[1;33m.\u001b[0m\u001b[0mget_result\u001b[0m\u001b[1;33m(\u001b[0m\u001b[1;33m)\u001b[0m\u001b[1;33m\u001b[0m\u001b[1;33m\u001b[0m\u001b[0m\n\u001b[0m\u001b[0;32m     89\u001b[0m \u001b[1;33m\u001b[0m\u001b[0m\n\u001b[0;32m     90\u001b[0m \u001b[1;33m\u001b[0m\u001b[0m\n",
      "\u001b[1;32mC:\\Programs\\anaconda\\lib\\site-packages\\pandas\\core\\reshape\\merge.py\u001b[0m in \u001b[0;36mget_result\u001b[1;34m(self)\u001b[0m\n\u001b[0;32m    647\u001b[0m \u001b[1;33m\u001b[0m\u001b[0m\n\u001b[0;32m    648\u001b[0m         llabels, rlabels = _items_overlap_with_suffix(\n\u001b[1;32m--> 649\u001b[1;33m             \u001b[0mldata\u001b[0m\u001b[1;33m.\u001b[0m\u001b[0mitems\u001b[0m\u001b[1;33m,\u001b[0m \u001b[0mlsuf\u001b[0m\u001b[1;33m,\u001b[0m \u001b[0mrdata\u001b[0m\u001b[1;33m.\u001b[0m\u001b[0mitems\u001b[0m\u001b[1;33m,\u001b[0m \u001b[0mrsuf\u001b[0m\u001b[1;33m\u001b[0m\u001b[1;33m\u001b[0m\u001b[0m\n\u001b[0m\u001b[0;32m    650\u001b[0m         )\n\u001b[0;32m    651\u001b[0m \u001b[1;33m\u001b[0m\u001b[0m\n",
      "\u001b[1;32mC:\\Programs\\anaconda\\lib\\site-packages\\pandas\\core\\reshape\\merge.py\u001b[0m in \u001b[0;36m_items_overlap_with_suffix\u001b[1;34m(left, lsuffix, right, rsuffix)\u001b[0m\n\u001b[0;32m   2024\u001b[0m         raise ValueError(\n\u001b[0;32m   2025\u001b[0m             \u001b[1;34m\"columns overlap but no suffix specified: \"\u001b[0m\u001b[1;33m\u001b[0m\u001b[1;33m\u001b[0m\u001b[0m\n\u001b[1;32m-> 2026\u001b[1;33m             \u001b[1;34m\"{rename}\"\u001b[0m\u001b[1;33m.\u001b[0m\u001b[0mformat\u001b[0m\u001b[1;33m(\u001b[0m\u001b[0mrename\u001b[0m\u001b[1;33m=\u001b[0m\u001b[0mto_rename\u001b[0m\u001b[1;33m)\u001b[0m\u001b[1;33m\u001b[0m\u001b[1;33m\u001b[0m\u001b[0m\n\u001b[0m\u001b[0;32m   2027\u001b[0m         )\n\u001b[0;32m   2028\u001b[0m \u001b[1;33m\u001b[0m\u001b[0m\n",
      "\u001b[1;31mValueError\u001b[0m: columns overlap but no suffix specified: Index(['high', 'low', 'middle'], dtype='object')"
     ]
    }
   ],
   "source": [
    "df_train1 = df_train.join(education_dummy)\n",
    "#df_train1 = df_train1.join(education_dummy1)\n",
    "df_train1 = df_train1.join(education_dummy2)\n",
    "df_train1.drop(['vote','rank','price'])"
   ]
  },
  {
   "cell_type": "code",
   "execution_count": 82,
   "metadata": {},
   "outputs": [
    {
     "data": {
      "text/html": [
       "<div>\n",
       "<style scoped>\n",
       "    .dataframe tbody tr th:only-of-type {\n",
       "        vertical-align: middle;\n",
       "    }\n",
       "\n",
       "    .dataframe tbody tr th {\n",
       "        vertical-align: top;\n",
       "    }\n",
       "\n",
       "    .dataframe thead th {\n",
       "        text-align: right;\n",
       "    }\n",
       "</style>\n",
       "<table border=\"1\" class=\"dataframe\">\n",
       "  <thead>\n",
       "    <tr style=\"text-align: right;\">\n",
       "      <th></th>\n",
       "      <th>verified</th>\n",
       "      <th>unixReviewTime</th>\n",
       "      <th>vote</th>\n",
       "      <th>userid</th>\n",
       "      <th>itemid</th>\n",
       "      <th>rating</th>\n",
       "      <th>rank</th>\n",
       "      <th>main_cat</th>\n",
       "      <th>price</th>\n",
       "      <th>high</th>\n",
       "      <th>low</th>\n",
       "      <th>middle</th>\n",
       "    </tr>\n",
       "  </thead>\n",
       "  <tbody>\n",
       "    <tr>\n",
       "      <th>0</th>\n",
       "      <td>1</td>\n",
       "      <td>middle_new</td>\n",
       "      <td>low</td>\n",
       "      <td>102179</td>\n",
       "      <td>37138</td>\n",
       "      <td>1.0</td>\n",
       "      <td>low</td>\n",
       "      <td>Grocery</td>\n",
       "      <td>low</td>\n",
       "      <td>0</td>\n",
       "      <td>1</td>\n",
       "      <td>0</td>\n",
       "    </tr>\n",
       "    <tr>\n",
       "      <th>1</th>\n",
       "      <td>0</td>\n",
       "      <td>new</td>\n",
       "      <td>low</td>\n",
       "      <td>117314</td>\n",
       "      <td>37138</td>\n",
       "      <td>1.0</td>\n",
       "      <td>low</td>\n",
       "      <td>Grocery</td>\n",
       "      <td>low</td>\n",
       "      <td>0</td>\n",
       "      <td>1</td>\n",
       "      <td>0</td>\n",
       "    </tr>\n",
       "    <tr>\n",
       "      <th>2</th>\n",
       "      <td>1</td>\n",
       "      <td>new</td>\n",
       "      <td>low</td>\n",
       "      <td>119505</td>\n",
       "      <td>37138</td>\n",
       "      <td>0.0</td>\n",
       "      <td>low</td>\n",
       "      <td>Grocery</td>\n",
       "      <td>low</td>\n",
       "      <td>0</td>\n",
       "      <td>1</td>\n",
       "      <td>0</td>\n",
       "    </tr>\n",
       "    <tr>\n",
       "      <th>3</th>\n",
       "      <td>0</td>\n",
       "      <td>middle_new</td>\n",
       "      <td>low</td>\n",
       "      <td>124302</td>\n",
       "      <td>37138</td>\n",
       "      <td>1.0</td>\n",
       "      <td>low</td>\n",
       "      <td>Grocery</td>\n",
       "      <td>low</td>\n",
       "      <td>0</td>\n",
       "      <td>1</td>\n",
       "      <td>0</td>\n",
       "    </tr>\n",
       "    <tr>\n",
       "      <th>4</th>\n",
       "      <td>0</td>\n",
       "      <td>middle_new</td>\n",
       "      <td>low</td>\n",
       "      <td>121986</td>\n",
       "      <td>37138</td>\n",
       "      <td>1.0</td>\n",
       "      <td>low</td>\n",
       "      <td>Grocery</td>\n",
       "      <td>low</td>\n",
       "      <td>0</td>\n",
       "      <td>1</td>\n",
       "      <td>0</td>\n",
       "    </tr>\n",
       "  </tbody>\n",
       "</table>\n",
       "</div>"
      ],
      "text/plain": [
       "   verified unixReviewTime vote  userid  itemid  rating rank main_cat price  \\\n",
       "0         1     middle_new  low  102179   37138     1.0  low  Grocery   low   \n",
       "1         0            new  low  117314   37138     1.0  low  Grocery   low   \n",
       "2         1            new  low  119505   37138     0.0  low  Grocery   low   \n",
       "3         0     middle_new  low  124302   37138     1.0  low  Grocery   low   \n",
       "4         0     middle_new  low  121986   37138     1.0  low  Grocery   low   \n",
       "\n",
       "   high  low  middle  \n",
       "0     0    1       0  \n",
       "1     0    1       0  \n",
       "2     0    1       0  \n",
       "3     0    1       0  \n",
       "4     0    1       0  "
      ]
     },
     "execution_count": 82,
     "metadata": {},
     "output_type": "execute_result"
    }
   ],
   "source": [
    "df_train1.head()"
   ]
  },
  {
   "cell_type": "code",
   "execution_count": 77,
   "metadata": {},
   "outputs": [
    {
     "ename": "NameError",
     "evalue": "name 'a' is not defined",
     "output_type": "error",
     "traceback": [
      "\u001b[1;31m---------------------------------------------------------------------------\u001b[0m",
      "\u001b[1;31mNameError\u001b[0m                                 Traceback (most recent call last)",
      "\u001b[1;32m<ipython-input-77-3f786850e387>\u001b[0m in \u001b[0;36m<module>\u001b[1;34m\u001b[0m\n\u001b[1;32m----> 1\u001b[1;33m \u001b[0ma\u001b[0m\u001b[1;33m\u001b[0m\u001b[1;33m\u001b[0m\u001b[0m\n\u001b[0m",
      "\u001b[1;31mNameError\u001b[0m: name 'a' is not defined"
     ]
    }
   ],
   "source": [
    "a"
   ]
  },
  {
   "cell_type": "markdown",
   "metadata": {},
   "source": [
    "### Обучение модели"
   ]
  },
  {
   "cell_type": "code",
   "execution_count": null,
   "metadata": {},
   "outputs": [],
   "source": [
    "train_data, test_data = train_test_split(df_train,random_state=42, shuffle=True)"
   ]
  },
  {
   "cell_type": "code",
   "execution_count": null,
   "metadata": {},
   "outputs": [],
   "source": [
    "train_data.shape, test_data.shape"
   ]
  },
  {
   "cell_type": "code",
   "execution_count": null,
   "metadata": {},
   "outputs": [],
   "source": [
    "ratings_coo = sparse.coo_matrix((train_data['rating'].astype(int),\n",
    "                                 (train_data['userid'],\n",
    "                                  train_data['itemid'],)))"
   ]
  },
  {
   "cell_type": "code",
   "execution_count": null,
   "metadata": {},
   "outputs": [],
   "source": [
    "LR = 0.1\n",
    "NUM_THREADS = 12\n",
    "NUM_COMPONENTS = 150\n",
    "NUM_EPOCHS = 25\n",
    "LEARNING_SCHEDULE = 'adagrad'\n",
    "LOSS_FUNCTION = 'logistic'\n",
    "RANDOM_STATE = 42\n",
    "\n",
    "model = LightFM(learning_rate=LR,\n",
    "                loss=LOSS_FUNCTION,\n",
    "                no_components=NUM_COMPONENTS,\n",
    "                learning_schedule=LEARNING_SCHEDULE,\n",
    "                random_state=RANDOM_STATE)\n",
    "\n",
    "model = model.fit(ratings_coo,\n",
    "                  epochs=NUM_EPOCHS,\n",
    "                  num_threads=NUM_THREADS)"
   ]
  },
  {
   "cell_type": "code",
   "execution_count": null,
   "metadata": {},
   "outputs": [],
   "source": [
    "preds = model.predict(test_data['userid'].values,\n",
    "                      test_data['itemid'].values)"
   ]
  },
  {
   "cell_type": "code",
   "execution_count": null,
   "metadata": {
    "scrolled": true
   },
   "outputs": [],
   "source": [
    "sklearn.metrics.roc_auc_score(test_data['rating'],preds)"
   ]
  },
  {
   "cell_type": "code",
   "execution_count": null,
   "metadata": {},
   "outputs": [],
   "source": [
    "preds = model.predict(test['userid'].values,\n",
    "                      test['itemid'].values)"
   ]
  },
  {
   "cell_type": "code",
   "execution_count": null,
   "metadata": {},
   "outputs": [],
   "source": [
    "norm_preds = (preds - preds.min())/(preds - preds.min()).max()"
   ]
  },
  {
   "cell_type": "markdown",
   "metadata": {},
   "source": [
    "### Submission"
   ]
  },
  {
   "cell_type": "code",
   "execution_count": null,
   "metadata": {},
   "outputs": [],
   "source": [
    "submission['rating']= norm_preds\n",
    "submission.to_csv('submission.csv', index=False)"
   ]
  },
  {
   "cell_type": "code",
   "execution_count": null,
   "metadata": {},
   "outputs": [],
   "source": []
  }
 ],
 "metadata": {
  "kernelspec": {
   "display_name": "Python 3",
   "language": "python",
   "name": "python3"
  },
  "language_info": {
   "codemirror_mode": {
    "name": "ipython",
    "version": 3
   },
   "file_extension": ".py",
   "mimetype": "text/x-python",
   "name": "python",
   "nbconvert_exporter": "python",
   "pygments_lexer": "ipython3",
   "version": "3.7.6"
  }
 },
 "nbformat": 4,
 "nbformat_minor": 4
}
