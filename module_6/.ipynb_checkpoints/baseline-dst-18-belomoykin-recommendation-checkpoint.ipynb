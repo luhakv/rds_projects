{
 "cells": [
  {
   "cell_type": "markdown",
   "metadata": {
    "papermill": {
     "duration": 0.059853,
     "end_time": "2021-02-04T13:31:38.016854",
     "exception": false,
     "start_time": "2021-02-04T13:31:37.957001",
     "status": "completed"
    },
    "tags": []
   },
   "source": [
    "Введение\n",
    "\n",
    "Вас перевели в отдел инновационной разработки рекомендательных систем. Ваш работадель хочет увеличить средний чек продаж. После короткого изучения статей вы поняли, что ключом к успеху будет качественные рекомендации на сайте. Чем лучше вы сможете рекомендовать товар пользователю, тем чаще он будет добавлять товары в корзину. Простая логика, если пользователю нравится товар, он его добавляет в корзину -> средний чек растёт. Мы нашли золото!\n",
    "\n",
    "Датасет\n",
    "\n",
    "У вас будет история оценок пользователя вместе с его обзором. Вы можете использовать текст рецензии в качестве дополнительной информации. Все оценки пользователей нормированы для бинарной классификации, если человек поставил оценку продукту больше 3 (не включительно), то мы считаем, что продукт ему понравился, если меньше 4, то продукт не понравился.\n",
    "\n",
    "Метрики\n",
    "\n",
    "В качестве метрики для оценки ваших рекомендаций используется RocAuc.\n",
    "\n",
    "Условия соревнования\n",
    "\n",
    "Данное соревнование является бессрочным и доступно для всех потоков.\n",
    "Срок выполнения соревнования устанавливаеться индивидуально в каждом потоке.\n",
    "Тестовая выборка представлена в ЛидерБорде целиком, поэтому лучшие и победные решения буду проверяться на их \"адекватность\" (чтоб не было подгонки под тестовую выборку).\n",
    "В данном соревновании вам ненужны дополнительные внешние данные. Запрещается их использовать\n",
    "Разрешено использовать любые ML алгоритмы и библиотеки."
   ]
  },
  {
   "cell_type": "markdown",
   "metadata": {
    "papermill": {
     "duration": 0.049301,
     "end_time": "2021-02-04T13:31:38.119456",
     "exception": false,
     "start_time": "2021-02-04T13:31:38.070155",
     "status": "completed"
    },
    "tags": []
   },
   "source": [
    "-test.csv - набор данных, для которого вы должны сделать предсказания. У каждого наобора userid, itemid есть свой id, для которого вы должны сделать предсказание.\n",
    "\n",
    "- overall - рейтинг, который поставил пользователь\n",
    "- verified - был ли отзыв верифицирован\n",
    "- reviewTime - когда был отзыв написан\n",
    "- reviewerName - имя пользователя\n",
    "- reviewText - текст отзыва\n",
    "- summary - сжатый отзыв\n",
    "- vote - количество голосований за отзыв\n",
    "- style - метаданные\n",
    "- image - изображение продукта\n",
    "- userid - id пользователя\n",
    "- itemid - id товара\n",
    "- id - id для предсказания"
   ]
  },
  {
   "cell_type": "markdown",
   "metadata": {
    "papermill": {
     "duration": 0.053596,
     "end_time": "2021-02-04T13:31:38.222327",
     "exception": false,
     "start_time": "2021-02-04T13:31:38.168731",
     "status": "completed"
    },
    "tags": []
   },
   "source": [
    "#### Импорт библиотек"
   ]
  },
  {
   "cell_type": "code",
   "execution_count": 1,
   "metadata": {
    "_cell_guid": "b1076dfc-b9ad-4769-8c92-a6c4dae69d19",
    "_uuid": "8f2839f25d086af736a60e9eeb907d3b93b6e0e5",
    "execution": {
     "iopub.execute_input": "2021-02-04T13:31:38.328667Z",
     "iopub.status.busy": "2021-02-04T13:31:38.327811Z",
     "iopub.status.idle": "2021-02-04T13:31:39.957552Z",
     "shell.execute_reply": "2021-02-04T13:31:39.956542Z"
    },
    "papermill": {
     "duration": 1.684876,
     "end_time": "2021-02-04T13:31:39.957811",
     "exception": false,
     "start_time": "2021-02-04T13:31:38.272935",
     "status": "completed"
    },
    "tags": []
   },
   "outputs": [
    {
     "name": "stdout",
     "output_type": "stream",
     "text": [
      "/kaggle/input/grocery-gourmet/asin_title.csv\n",
      "/kaggle/input/recommendationsv4/sample_submission.csv\n",
      "/kaggle/input/recommendationsv4/train.csv\n",
      "/kaggle/input/recommendationsv4/test.csv\n",
      "/kaggle/input/recommendationsv4/meta_Grocery_and_Gourmet_Food.json\n"
     ]
    }
   ],
   "source": [
    "# This Python 3 environment comes with many helpful analytics libraries installed\n",
    "# It is defined by the kaggle/python Docker image: https://github.com/kaggle/docker-python\n",
    "# For example, here's several helpful packages to load\n",
    "\n",
    "import numpy as np # linear algebra\n",
    "import pandas as pd # data processing, CSV file I/O (e.g. pd.read_csv)\n",
    "\n",
    "# Input data files are available in the read-only \"../input/\" directory\n",
    "# For example, running this (by clicking run or pressing Shift+Enter) will list all files under the input directory\n",
    "# This Python 3 environment comes with many helpful analytics libraries installed\n",
    "# It is defined by the kaggle/python docker image: https://github.com/kaggle/docker-python\n",
    "# For example, here's several helpful packages to load in \n",
    "\n",
    "import numpy as np # linear algebra\n",
    "import pandas as pd # data processing, CSV file I/O (e.g. pd.read_csv)\n",
    "\n",
    "# Input data files are available in the \"../input/\" directory.\n",
    "# For example, running this (by clicking run or pressing Shift+Enter) will list all files under the input directory\n",
    "\n",
    "# Any results you write to the current directory are saved as output.\n",
    "import os\n",
    "for dirname, _, filenames in os.walk('/kaggle/input'):\n",
    "    for filename in filenames:\n",
    "        print(os.path.join(dirname, filename))\n",
    "\n",
    "# You can write up to 5GB to the current directory (/kaggle/working/) that gets preserved as output when you create a version using \"Save & Run All\" \n",
    "# You can also write temporary files to /kaggle/temp/, but they won't be saved outside of the current session\n",
    "\n",
    "import matplotlib.pyplot as plt\n",
    "%matplotlib inline\n",
    "\n",
    "import seaborn as sns\n",
    "\n",
    "import warnings\n",
    "warnings.filterwarnings(\"ignore\")\n",
    "\n",
    "import scipy.sparse as sparse\n",
    "\n",
    "from lightfm import LightFM\n",
    "from lightfm.cross_validation import random_train_test_split\n",
    "from lightfm.evaluation import auc_score, precision_at_k, recall_at_k\n",
    "import sklearn\n",
    "from sklearn.model_selection import train_test_split\n",
    "from sklearn.metrics import auc, roc_auc_score, roc_curve"
   ]
  },
  {
   "cell_type": "markdown",
   "metadata": {
    "papermill": {
     "duration": 0.055472,
     "end_time": "2021-02-04T13:31:40.069074",
     "exception": false,
     "start_time": "2021-02-04T13:31:40.013602",
     "status": "completed"
    },
    "tags": []
   },
   "source": [
    "### Объявление базовых функций"
   ]
  },
  {
   "cell_type": "code",
   "execution_count": 2,
   "metadata": {
    "execution": {
     "iopub.execute_input": "2021-02-04T13:31:40.185707Z",
     "iopub.status.busy": "2021-02-04T13:31:40.184686Z",
     "iopub.status.idle": "2021-02-04T13:31:40.188809Z",
     "shell.execute_reply": "2021-02-04T13:31:40.189386Z"
    },
    "papermill": {
     "duration": 0.068408,
     "end_time": "2021-02-04T13:31:40.189638",
     "exception": false,
     "start_time": "2021-02-04T13:31:40.121230",
     "status": "completed"
    },
    "tags": []
   },
   "outputs": [],
   "source": [
    "def show_roc_curve(y_true, y_pred_prob):\n",
    "    \"\"\"Функция отображает ROC-кривую\"\"\"\n",
    "    fpr, tpr, _ = roc_curve(y_true, y_pred_prob)\n",
    "    plt.figure()\n",
    "    plt.plot([0, 1], label='Случайный классификатор', linestyle='--')\n",
    "    plt.plot(fpr, tpr, label = 'LightFM')\n",
    "    plt.title('ROC AUC = %0.3f' % roc_auc_score(y_true, y_pred_prob))\n",
    "    plt.ylabel('True Positive Rate')\n",
    "    plt.xlabel('False Positive Rate')\n",
    "    plt.legend(loc = 'lower right')\n",
    "    plt.show()"
   ]
  },
  {
   "cell_type": "markdown",
   "metadata": {
    "papermill": {
     "duration": 0.055335,
     "end_time": "2021-02-04T13:31:40.300202",
     "exception": false,
     "start_time": "2021-02-04T13:31:40.244867",
     "status": "completed"
    },
    "tags": []
   },
   "source": [
    "### DATA"
   ]
  },
  {
   "cell_type": "code",
   "execution_count": 3,
   "metadata": {
    "execution": {
     "iopub.execute_input": "2021-02-04T13:31:40.413955Z",
     "iopub.status.busy": "2021-02-04T13:31:40.413144Z",
     "iopub.status.idle": "2021-02-04T13:32:00.779898Z",
     "shell.execute_reply": "2021-02-04T13:32:00.780473Z"
    },
    "papermill": {
     "duration": 20.427773,
     "end_time": "2021-02-04T13:32:00.780686",
     "exception": false,
     "start_time": "2021-02-04T13:31:40.352913",
     "status": "completed"
    },
    "tags": []
   },
   "outputs": [],
   "source": [
    "#Читаем файлы\n",
    "train = pd.read_csv('/kaggle/input/recommendationsv4/train.csv')\n",
    "test = pd.read_csv('/kaggle/input/recommendationsv4/test.csv')\n",
    "submission = pd.read_csv('/kaggle/input/recommendationsv4/sample_submission.csv')\n",
    "\n",
    "asin_title = pd.read_csv('/kaggle/input/grocery-gourmet/asin_title.csv')\n"
   ]
  },
  {
   "cell_type": "markdown",
   "metadata": {
    "papermill": {
     "duration": 0.050564,
     "end_time": "2021-02-04T13:32:00.881892",
     "exception": false,
     "start_time": "2021-02-04T13:32:00.831328",
     "status": "completed"
    },
    "tags": []
   },
   "source": [
    "Все действия с meta_Grocery_and_Gourmet_Food.json, а также извлечение некоторых его полей в .csv файл произведены в Google Colab "
   ]
  },
  {
   "cell_type": "code",
   "execution_count": 4,
   "metadata": {
    "execution": {
     "iopub.execute_input": "2021-02-04T13:32:00.992645Z",
     "iopub.status.busy": "2021-02-04T13:32:00.991444Z",
     "iopub.status.idle": "2021-02-04T13:32:00.995411Z",
     "shell.execute_reply": "2021-02-04T13:32:00.995928Z"
    },
    "papermill": {
     "duration": 0.062794,
     "end_time": "2021-02-04T13:32:00.996102",
     "exception": false,
     "start_time": "2021-02-04T13:32:00.933308",
     "status": "completed"
    },
    "tags": []
   },
   "outputs": [
    {
     "data": {
      "text/plain": [
       "\"with open ('./data_project/meta_Grocery_and_Gourmet_Food.json') as f:\\n    meta_list = []\\n    for line in f.readlines():\\n        meta_list.append(json.loads(line))\""
      ]
     },
     "execution_count": 4,
     "metadata": {},
     "output_type": "execute_result"
    }
   ],
   "source": [
    "# Считываем json-файл, делим его на части и заносим их в meta_list\n",
    "\"\"\"with open ('./data_project/meta_Grocery_and_Gourmet_Food.json') as f:\n",
    "    meta_list = []\n",
    "    for line in f.readlines():\n",
    "        meta_list.append(json.loads(line))\"\"\""
   ]
  },
  {
   "cell_type": "code",
   "execution_count": 5,
   "metadata": {
    "execution": {
     "iopub.execute_input": "2021-02-04T13:32:01.104278Z",
     "iopub.status.busy": "2021-02-04T13:32:01.103600Z",
     "iopub.status.idle": "2021-02-04T13:32:01.109664Z",
     "shell.execute_reply": "2021-02-04T13:32:01.109072Z"
    },
    "papermill": {
     "duration": 0.061508,
     "end_time": "2021-02-04T13:32:01.109835",
     "exception": false,
     "start_time": "2021-02-04T13:32:01.048327",
     "status": "completed"
    },
    "tags": []
   },
   "outputs": [
    {
     "data": {
      "text/plain": [
       "\"list_asin, list_title, list_rank = [], [], []\\nfor product in meta_list:\\n  try:\\n    list_asin.append(product['asin'])\\n  except:\\n    list_asin.append('None')\\n  try:\\n    list_title.append(product['title'])\\n  except:\\n    list_title.append('None')\\n\""
      ]
     },
     "execution_count": 5,
     "metadata": {},
     "output_type": "execute_result"
    }
   ],
   "source": [
    "# Создадим из полей json-файла 2 списка с: кодом продукта (asin), названием (title) и его рангом в различных системах(rank)\n",
    "\"\"\"list_asin, list_title, list_rank = [], [], []\n",
    "for product in meta_list:\n",
    "  try:\n",
    "    list_asin.append(product['asin'])\n",
    "  except:\n",
    "    list_asin.append('None')\n",
    "  try:\n",
    "    list_title.append(product['title'])\n",
    "  except:\n",
    "    list_title.append('None')\n",
    "\"\"\""
   ]
  },
  {
   "cell_type": "code",
   "execution_count": 6,
   "metadata": {
    "execution": {
     "iopub.execute_input": "2021-02-04T13:32:01.215287Z",
     "iopub.status.busy": "2021-02-04T13:32:01.214531Z",
     "iopub.status.idle": "2021-02-04T13:32:01.218302Z",
     "shell.execute_reply": "2021-02-04T13:32:01.219111Z"
    },
    "papermill": {
     "duration": 0.058467,
     "end_time": "2021-02-04T13:32:01.219309",
     "exception": false,
     "start_time": "2021-02-04T13:32:01.160842",
     "status": "completed"
    },
    "tags": []
   },
   "outputs": [],
   "source": [
    "# Создадим DF из этих списков:\n",
    "#df = pd.DataFrame({'asin':list_asin, 'title':list_title})"
   ]
  },
  {
   "cell_type": "code",
   "execution_count": 7,
   "metadata": {
    "execution": {
     "iopub.execute_input": "2021-02-04T13:32:01.336579Z",
     "iopub.status.busy": "2021-02-04T13:32:01.335839Z",
     "iopub.status.idle": "2021-02-04T13:32:01.358995Z",
     "shell.execute_reply": "2021-02-04T13:32:01.358202Z"
    },
    "papermill": {
     "duration": 0.087238,
     "end_time": "2021-02-04T13:32:01.359168",
     "exception": false,
     "start_time": "2021-02-04T13:32:01.271930",
     "status": "completed"
    },
    "tags": []
   },
   "outputs": [
    {
     "data": {
      "text/html": [
       "<div>\n",
       "<style scoped>\n",
       "    .dataframe tbody tr th:only-of-type {\n",
       "        vertical-align: middle;\n",
       "    }\n",
       "\n",
       "    .dataframe tbody tr th {\n",
       "        vertical-align: top;\n",
       "    }\n",
       "\n",
       "    .dataframe thead th {\n",
       "        text-align: right;\n",
       "    }\n",
       "</style>\n",
       "<table border=\"1\" class=\"dataframe\">\n",
       "  <thead>\n",
       "    <tr style=\"text-align: right;\">\n",
       "      <th></th>\n",
       "      <th>asin</th>\n",
       "      <th>title</th>\n",
       "    </tr>\n",
       "  </thead>\n",
       "  <tbody>\n",
       "    <tr>\n",
       "      <th>0</th>\n",
       "      <td>0681727810</td>\n",
       "      <td>Beemster Gouda - Aged 18/24 Months - App. 1.5 Lbs</td>\n",
       "    </tr>\n",
       "    <tr>\n",
       "      <th>1</th>\n",
       "      <td>0853347867</td>\n",
       "      <td>Trim Healthy Mama Xylitol</td>\n",
       "    </tr>\n",
       "    <tr>\n",
       "      <th>2</th>\n",
       "      <td>1888861118</td>\n",
       "      <td>Letter C - Swarovski Crystal Monogram Wedding ...</td>\n",
       "    </tr>\n",
       "    <tr>\n",
       "      <th>3</th>\n",
       "      <td>1888861517</td>\n",
       "      <td>Letter H - Swarovski Crystal Monogram Wedding ...</td>\n",
       "    </tr>\n",
       "    <tr>\n",
       "      <th>4</th>\n",
       "      <td>1888861614</td>\n",
       "      <td>Letter S - Swarovski Crystal Monogram Wedding ...</td>\n",
       "    </tr>\n",
       "    <tr>\n",
       "      <th>...</th>\n",
       "      <td>...</td>\n",
       "      <td>...</td>\n",
       "    </tr>\n",
       "    <tr>\n",
       "      <th>287204</th>\n",
       "      <td>B01HJFBN9A</td>\n",
       "      <td>Caffarel Fruit Jellies, Organic Assorted, 200 ...</td>\n",
       "    </tr>\n",
       "    <tr>\n",
       "      <th>287205</th>\n",
       "      <td>B01HJFC704</td>\n",
       "      <td>HAMPTON CREEK Spo Just Truffle Mayo, 12 Ounce</td>\n",
       "    </tr>\n",
       "    <tr>\n",
       "      <th>287206</th>\n",
       "      <td>B01HJF6FRA</td>\n",
       "      <td>HAMPTON CREEK Just Ranch Dressing, 12 Fluid Ounce</td>\n",
       "    </tr>\n",
       "    <tr>\n",
       "      <th>287207</th>\n",
       "      <td>B01HJHSVG6</td>\n",
       "      <td>Gourmet Pure Vanilla Bean Pastes - Organically...</td>\n",
       "    </tr>\n",
       "    <tr>\n",
       "      <th>287208</th>\n",
       "      <td>B01HJFRDDA</td>\n",
       "      <td>McClure's Pickles Bloody Mary Mix-Spicy-32 oz ...</td>\n",
       "    </tr>\n",
       "  </tbody>\n",
       "</table>\n",
       "<p>287209 rows × 2 columns</p>\n",
       "</div>"
      ],
      "text/plain": [
       "              asin                                              title\n",
       "0       0681727810  Beemster Gouda - Aged 18/24 Months - App. 1.5 Lbs\n",
       "1       0853347867                          Trim Healthy Mama Xylitol\n",
       "2       1888861118  Letter C - Swarovski Crystal Monogram Wedding ...\n",
       "3       1888861517  Letter H - Swarovski Crystal Monogram Wedding ...\n",
       "4       1888861614  Letter S - Swarovski Crystal Monogram Wedding ...\n",
       "...            ...                                                ...\n",
       "287204  B01HJFBN9A  Caffarel Fruit Jellies, Organic Assorted, 200 ...\n",
       "287205  B01HJFC704      HAMPTON CREEK Spo Just Truffle Mayo, 12 Ounce\n",
       "287206  B01HJF6FRA  HAMPTON CREEK Just Ranch Dressing, 12 Fluid Ounce\n",
       "287207  B01HJHSVG6  Gourmet Pure Vanilla Bean Pastes - Organically...\n",
       "287208  B01HJFRDDA  McClure's Pickles Bloody Mary Mix-Spicy-32 oz ...\n",
       "\n",
       "[287209 rows x 2 columns]"
      ]
     },
     "execution_count": 7,
     "metadata": {},
     "output_type": "execute_result"
    }
   ],
   "source": [
    "# ранее считали готовый файл\n",
    "asin_title"
   ]
  },
  {
   "cell_type": "markdown",
   "metadata": {
    "papermill": {
     "duration": 0.054523,
     "end_time": "2021-02-04T13:32:01.468644",
     "exception": false,
     "start_time": "2021-02-04T13:32:01.414121",
     "status": "completed"
    },
    "tags": []
   },
   "source": [
    "Посмотрим характеристики датасетов и их содержимое"
   ]
  },
  {
   "cell_type": "code",
   "execution_count": 8,
   "metadata": {
    "execution": {
     "iopub.execute_input": "2021-02-04T13:32:01.638331Z",
     "iopub.status.busy": "2021-02-04T13:32:01.637635Z",
     "iopub.status.idle": "2021-02-04T13:32:01.655660Z",
     "shell.execute_reply": "2021-02-04T13:32:01.655122Z"
    },
    "papermill": {
     "duration": 0.134337,
     "end_time": "2021-02-04T13:32:01.655837",
     "exception": false,
     "start_time": "2021-02-04T13:32:01.521500",
     "status": "completed"
    },
    "tags": []
   },
   "outputs": [
    {
     "name": "stdout",
     "output_type": "stream",
     "text": [
      "<class 'pandas.core.frame.DataFrame'>\n",
      "RangeIndex: 287209 entries, 0 to 287208\n",
      "Data columns (total 2 columns):\n",
      " #   Column  Non-Null Count   Dtype \n",
      "---  ------  --------------   ----- \n",
      " 0   asin    287209 non-null  object\n",
      " 1   title   287209 non-null  object\n",
      "dtypes: object(2)\n",
      "memory usage: 4.4+ MB\n"
     ]
    }
   ],
   "source": [
    "asin_title.info()"
   ]
  },
  {
   "cell_type": "code",
   "execution_count": 9,
   "metadata": {
    "execution": {
     "iopub.execute_input": "2021-02-04T13:32:01.769517Z",
     "iopub.status.busy": "2021-02-04T13:32:01.768256Z",
     "iopub.status.idle": "2021-02-04T13:32:02.408282Z",
     "shell.execute_reply": "2021-02-04T13:32:02.408837Z"
    },
    "papermill": {
     "duration": 0.700123,
     "end_time": "2021-02-04T13:32:02.409020",
     "exception": false,
     "start_time": "2021-02-04T13:32:01.708897",
     "status": "completed"
    },
    "tags": []
   },
   "outputs": [
    {
     "name": "stdout",
     "output_type": "stream",
     "text": [
      "<class 'pandas.core.frame.DataFrame'>\n",
      "RangeIndex: 857895 entries, 0 to 857894\n",
      "Data columns (total 14 columns):\n",
      " #   Column          Non-Null Count   Dtype  \n",
      "---  ------          --------------   -----  \n",
      " 0   overall         857895 non-null  float64\n",
      " 1   verified        857895 non-null  bool   \n",
      " 2   reviewTime      857895 non-null  object \n",
      " 3   asin            857895 non-null  object \n",
      " 4   reviewerName    857719 non-null  object \n",
      " 5   reviewText      857616 non-null  object \n",
      " 6   summary         857725 non-null  object \n",
      " 7   unixReviewTime  857895 non-null  int64  \n",
      " 8   vote            118740 non-null  object \n",
      " 9   style           444406 non-null  object \n",
      " 10  image           7142 non-null    object \n",
      " 11  userid          857895 non-null  int64  \n",
      " 12  itemid          857895 non-null  int64  \n",
      " 13  rating          857895 non-null  float64\n",
      "dtypes: bool(1), float64(2), int64(3), object(8)\n",
      "memory usage: 85.9+ MB\n"
     ]
    }
   ],
   "source": [
    "train.info()"
   ]
  },
  {
   "cell_type": "code",
   "execution_count": 10,
   "metadata": {
    "execution": {
     "iopub.execute_input": "2021-02-04T13:32:02.534368Z",
     "iopub.status.busy": "2021-02-04T13:32:02.533423Z",
     "iopub.status.idle": "2021-02-04T13:32:02.539576Z",
     "shell.execute_reply": "2021-02-04T13:32:02.538906Z"
    },
    "papermill": {
     "duration": 0.077417,
     "end_time": "2021-02-04T13:32:02.539723",
     "exception": false,
     "start_time": "2021-02-04T13:32:02.462306",
     "status": "completed"
    },
    "tags": []
   },
   "outputs": [
    {
     "data": {
      "text/html": [
       "<div>\n",
       "<style scoped>\n",
       "    .dataframe tbody tr th:only-of-type {\n",
       "        vertical-align: middle;\n",
       "    }\n",
       "\n",
       "    .dataframe tbody tr th {\n",
       "        vertical-align: top;\n",
       "    }\n",
       "\n",
       "    .dataframe thead th {\n",
       "        text-align: right;\n",
       "    }\n",
       "</style>\n",
       "<table border=\"1\" class=\"dataframe\">\n",
       "  <thead>\n",
       "    <tr style=\"text-align: right;\">\n",
       "      <th></th>\n",
       "      <th>overall</th>\n",
       "      <th>verified</th>\n",
       "      <th>reviewTime</th>\n",
       "      <th>asin</th>\n",
       "      <th>reviewerName</th>\n",
       "      <th>reviewText</th>\n",
       "      <th>summary</th>\n",
       "      <th>unixReviewTime</th>\n",
       "      <th>vote</th>\n",
       "      <th>style</th>\n",
       "      <th>image</th>\n",
       "      <th>userid</th>\n",
       "      <th>itemid</th>\n",
       "      <th>rating</th>\n",
       "    </tr>\n",
       "  </thead>\n",
       "  <tbody>\n",
       "    <tr>\n",
       "      <th>0</th>\n",
       "      <td>5.0</td>\n",
       "      <td>True</td>\n",
       "      <td>10 4, 2016</td>\n",
       "      <td>B01CPNIEQG</td>\n",
       "      <td>Heather</td>\n",
       "      <td>These are my FAVORITE spices in my collection....</td>\n",
       "      <td>Must Add to your Spice kitchen!</td>\n",
       "      <td>1475539200</td>\n",
       "      <td>NaN</td>\n",
       "      <td>NaN</td>\n",
       "      <td>NaN</td>\n",
       "      <td>102179</td>\n",
       "      <td>37138</td>\n",
       "      <td>1.0</td>\n",
       "    </tr>\n",
       "    <tr>\n",
       "      <th>1</th>\n",
       "      <td>5.0</td>\n",
       "      <td>True</td>\n",
       "      <td>03 1, 2016</td>\n",
       "      <td>B006F63M8U</td>\n",
       "      <td>Linda Odom</td>\n",
       "      <td>Add A package to my Coffee and it makes a good...</td>\n",
       "      <td>Milk Chocolate Swiis MIss Hot Cocoa Mix</td>\n",
       "      <td>1456790400</td>\n",
       "      <td>NaN</td>\n",
       "      <td>{'Size:': ' 60-0.73 oz Envelopes'}</td>\n",
       "      <td>NaN</td>\n",
       "      <td>3625</td>\n",
       "      <td>17322</td>\n",
       "      <td>1.0</td>\n",
       "    </tr>\n",
       "  </tbody>\n",
       "</table>\n",
       "</div>"
      ],
      "text/plain": [
       "   overall  verified  reviewTime        asin reviewerName  \\\n",
       "0      5.0      True  10 4, 2016  B01CPNIEQG      Heather   \n",
       "1      5.0      True  03 1, 2016  B006F63M8U   Linda Odom   \n",
       "\n",
       "                                          reviewText  \\\n",
       "0  These are my FAVORITE spices in my collection....   \n",
       "1  Add A package to my Coffee and it makes a good...   \n",
       "\n",
       "                                   summary  unixReviewTime vote  \\\n",
       "0          Must Add to your Spice kitchen!      1475539200  NaN   \n",
       "1  Milk Chocolate Swiis MIss Hot Cocoa Mix      1456790400  NaN   \n",
       "\n",
       "                                style image  userid  itemid  rating  \n",
       "0                                 NaN   NaN  102179   37138     1.0  \n",
       "1  {'Size:': ' 60-0.73 oz Envelopes'}   NaN    3625   17322     1.0  "
      ]
     },
     "execution_count": 10,
     "metadata": {},
     "output_type": "execute_result"
    }
   ],
   "source": [
    "train.head(2)"
   ]
  },
  {
   "cell_type": "markdown",
   "metadata": {
    "papermill": {
     "duration": 0.053613,
     "end_time": "2021-02-04T13:32:02.647772",
     "exception": false,
     "start_time": "2021-02-04T13:32:02.594159",
     "status": "completed"
    },
    "tags": []
   },
   "source": [
    "Посмотрим распределения рейтинга товаров и оценок товаров "
   ]
  },
  {
   "cell_type": "code",
   "execution_count": 11,
   "metadata": {
    "execution": {
     "iopub.execute_input": "2021-02-04T13:32:02.763846Z",
     "iopub.status.busy": "2021-02-04T13:32:02.762618Z",
     "iopub.status.idle": "2021-02-04T13:32:02.985662Z",
     "shell.execute_reply": "2021-02-04T13:32:02.986189Z"
    },
    "papermill": {
     "duration": 0.283835,
     "end_time": "2021-02-04T13:32:02.986388",
     "exception": false,
     "start_time": "2021-02-04T13:32:02.702553",
     "status": "completed"
    },
    "tags": []
   },
   "outputs": [
    {
     "data": {
      "image/png": "[encoded data removed]",
      "text/plain": [
       "<Figure size 432x288 with 1 Axes>"
      ]
     },
     "metadata": {
      "needs_background": "light"
     },
     "output_type": "display_data"
    }
   ],
   "source": [
    "ax = sns.countplot(x=\"rating\", data=train)"
   ]
  },
  {
   "cell_type": "code",
   "execution_count": 12,
   "metadata": {
    "execution": {
     "iopub.execute_input": "2021-02-04T13:32:03.102605Z",
     "iopub.status.busy": "2021-02-04T13:32:03.101413Z",
     "iopub.status.idle": "2021-02-04T13:32:03.309644Z",
     "shell.execute_reply": "2021-02-04T13:32:03.310193Z"
    },
    "papermill": {
     "duration": 0.269201,
     "end_time": "2021-02-04T13:32:03.310410",
     "exception": false,
     "start_time": "2021-02-04T13:32:03.041209",
     "status": "completed"
    },
    "tags": []
   },
   "outputs": [
    {
     "data": {
      "image/png": "[encoded data removed]",
      "text/plain": [
       "<Figure size 432x288 with 1 Axes>"
      ]
     },
     "metadata": {
      "needs_background": "light"
     },
     "output_type": "display_data"
    }
   ],
   "source": [
    "ax = sns.countplot(x=\"overall\", data=train)"
   ]
  },
  {
   "cell_type": "code",
   "execution_count": 13,
   "metadata": {
    "execution": {
     "iopub.execute_input": "2021-02-04T13:32:03.567462Z",
     "iopub.status.busy": "2021-02-04T13:32:03.428759Z",
     "iopub.status.idle": "2021-02-04T13:32:03.585864Z",
     "shell.execute_reply": "2021-02-04T13:32:03.585225Z"
    },
    "papermill": {
     "duration": 0.219897,
     "end_time": "2021-02-04T13:32:03.586009",
     "exception": false,
     "start_time": "2021-02-04T13:32:03.366112",
     "status": "completed"
    },
    "tags": []
   },
   "outputs": [
    {
     "name": "stdout",
     "output_type": "stream",
     "text": [
      "<class 'pandas.core.frame.DataFrame'>\n",
      "RangeIndex: 285965 entries, 0 to 285964\n",
      "Data columns (total 11 columns):\n",
      " #   Column          Non-Null Count   Dtype \n",
      "---  ------          --------------   ----- \n",
      " 0   verified        285965 non-null  bool  \n",
      " 1   reviewTime      285965 non-null  object\n",
      " 2   asin            285965 non-null  object\n",
      " 3   reviewerName    285918 non-null  object\n",
      " 4   unixReviewTime  285965 non-null  int64 \n",
      " 5   vote            39462 non-null   object\n",
      " 6   style           147680 non-null  object\n",
      " 7   image           2368 non-null    object\n",
      " 8   userid          285965 non-null  int64 \n",
      " 9   itemid          285965 non-null  int64 \n",
      " 10  Id              285965 non-null  int64 \n",
      "dtypes: bool(1), int64(4), object(6)\n",
      "memory usage: 22.1+ MB\n"
     ]
    }
   ],
   "source": [
    "test.info()"
   ]
  },
  {
   "cell_type": "code",
   "execution_count": 14,
   "metadata": {
    "execution": {
     "iopub.execute_input": "2021-02-04T13:32:03.706167Z",
     "iopub.status.busy": "2021-02-04T13:32:03.705057Z",
     "iopub.status.idle": "2021-02-04T13:32:03.718217Z",
     "shell.execute_reply": "2021-02-04T13:32:03.717515Z"
    },
    "papermill": {
     "duration": 0.076274,
     "end_time": "2021-02-04T13:32:03.718404",
     "exception": false,
     "start_time": "2021-02-04T13:32:03.642130",
     "status": "completed"
    },
    "tags": []
   },
   "outputs": [
    {
     "data": {
      "text/html": [
       "<div>\n",
       "<style scoped>\n",
       "    .dataframe tbody tr th:only-of-type {\n",
       "        vertical-align: middle;\n",
       "    }\n",
       "\n",
       "    .dataframe tbody tr th {\n",
       "        vertical-align: top;\n",
       "    }\n",
       "\n",
       "    .dataframe thead th {\n",
       "        text-align: right;\n",
       "    }\n",
       "</style>\n",
       "<table border=\"1\" class=\"dataframe\">\n",
       "  <thead>\n",
       "    <tr style=\"text-align: right;\">\n",
       "      <th></th>\n",
       "      <th>verified</th>\n",
       "      <th>reviewTime</th>\n",
       "      <th>asin</th>\n",
       "      <th>reviewerName</th>\n",
       "      <th>unixReviewTime</th>\n",
       "      <th>vote</th>\n",
       "      <th>style</th>\n",
       "      <th>image</th>\n",
       "      <th>userid</th>\n",
       "      <th>itemid</th>\n",
       "      <th>Id</th>\n",
       "    </tr>\n",
       "  </thead>\n",
       "  <tbody>\n",
       "    <tr>\n",
       "      <th>0</th>\n",
       "      <td>True</td>\n",
       "      <td>10 1, 2016</td>\n",
       "      <td>B001E5E3X0</td>\n",
       "      <td>Rudys Mom</td>\n",
       "      <td>1475280000</td>\n",
       "      <td>NaN</td>\n",
       "      <td>NaN</td>\n",
       "      <td>NaN</td>\n",
       "      <td>68877</td>\n",
       "      <td>7506</td>\n",
       "      <td>0</td>\n",
       "    </tr>\n",
       "    <tr>\n",
       "      <th>1</th>\n",
       "      <td>True</td>\n",
       "      <td>06 29, 2014</td>\n",
       "      <td>B005BYXX5E</td>\n",
       "      <td>pharg</td>\n",
       "      <td>1404000000</td>\n",
       "      <td>2</td>\n",
       "      <td>NaN</td>\n",
       "      <td>NaN</td>\n",
       "      <td>50442</td>\n",
       "      <td>15530</td>\n",
       "      <td>1</td>\n",
       "    </tr>\n",
       "  </tbody>\n",
       "</table>\n",
       "</div>"
      ],
      "text/plain": [
       "   verified   reviewTime        asin reviewerName  unixReviewTime vote style  \\\n",
       "0      True   10 1, 2016  B001E5E3X0    Rudys Mom      1475280000  NaN   NaN   \n",
       "1      True  06 29, 2014  B005BYXX5E        pharg      1404000000    2   NaN   \n",
       "\n",
       "  image  userid  itemid  Id  \n",
       "0   NaN   68877    7506   0  \n",
       "1   NaN   50442   15530   1  "
      ]
     },
     "execution_count": 14,
     "metadata": {},
     "output_type": "execute_result"
    }
   ],
   "source": [
    "test.head(2)"
   ]
  },
  {
   "cell_type": "code",
   "execution_count": 15,
   "metadata": {
    "execution": {
     "iopub.execute_input": "2021-02-04T13:32:03.843484Z",
     "iopub.status.busy": "2021-02-04T13:32:03.842810Z",
     "iopub.status.idle": "2021-02-04T13:32:03.847937Z",
     "shell.execute_reply": "2021-02-04T13:32:03.847250Z"
    },
    "papermill": {
     "duration": 0.072739,
     "end_time": "2021-02-04T13:32:03.848085",
     "exception": false,
     "start_time": "2021-02-04T13:32:03.775346",
     "status": "completed"
    },
    "tags": []
   },
   "outputs": [
    {
     "data": {
      "text/html": [
       "<div>\n",
       "<style scoped>\n",
       "    .dataframe tbody tr th:only-of-type {\n",
       "        vertical-align: middle;\n",
       "    }\n",
       "\n",
       "    .dataframe tbody tr th {\n",
       "        vertical-align: top;\n",
       "    }\n",
       "\n",
       "    .dataframe thead th {\n",
       "        text-align: right;\n",
       "    }\n",
       "</style>\n",
       "<table border=\"1\" class=\"dataframe\">\n",
       "  <thead>\n",
       "    <tr style=\"text-align: right;\">\n",
       "      <th></th>\n",
       "      <th>Id</th>\n",
       "      <th>rating</th>\n",
       "    </tr>\n",
       "  </thead>\n",
       "  <tbody>\n",
       "    <tr>\n",
       "      <th>0</th>\n",
       "      <td>0</td>\n",
       "      <td>0.282813</td>\n",
       "    </tr>\n",
       "    <tr>\n",
       "      <th>1</th>\n",
       "      <td>1</td>\n",
       "      <td>0.629758</td>\n",
       "    </tr>\n",
       "    <tr>\n",
       "      <th>2</th>\n",
       "      <td>2</td>\n",
       "      <td>0.916899</td>\n",
       "    </tr>\n",
       "    <tr>\n",
       "      <th>3</th>\n",
       "      <td>3</td>\n",
       "      <td>0.702790</td>\n",
       "    </tr>\n",
       "  </tbody>\n",
       "</table>\n",
       "</div>"
      ],
      "text/plain": [
       "   Id    rating\n",
       "0   0  0.282813\n",
       "1   1  0.629758\n",
       "2   2  0.916899\n",
       "3   3  0.702790"
      ]
     },
     "execution_count": 15,
     "metadata": {},
     "output_type": "execute_result"
    }
   ],
   "source": [
    "submission.head(4)"
   ]
  },
  {
   "cell_type": "code",
   "execution_count": 16,
   "metadata": {
    "execution": {
     "iopub.execute_input": "2021-02-04T13:32:03.969292Z",
     "iopub.status.busy": "2021-02-04T13:32:03.968617Z",
     "iopub.status.idle": "2021-02-04T13:32:03.973120Z",
     "shell.execute_reply": "2021-02-04T13:32:03.972573Z"
    },
    "papermill": {
     "duration": 0.068391,
     "end_time": "2021-02-04T13:32:03.973265",
     "exception": false,
     "start_time": "2021-02-04T13:32:03.904874",
     "status": "completed"
    },
    "tags": []
   },
   "outputs": [
    {
     "data": {
      "text/plain": [
       "((287209, 2), (857895, 14), (285965, 11), (285965, 2))"
      ]
     },
     "execution_count": 16,
     "metadata": {},
     "output_type": "execute_result"
    }
   ],
   "source": [
    "asin_title.shape, train.shape, test.shape, submission.shape"
   ]
  },
  {
   "cell_type": "markdown",
   "metadata": {
    "papermill": {
     "duration": 0.057387,
     "end_time": "2021-02-04T13:32:04.091425",
     "exception": false,
     "start_time": "2021-02-04T13:32:04.034038",
     "status": "completed"
    },
    "tags": []
   },
   "source": [
    "### Очистка и подготовка данных"
   ]
  },
  {
   "cell_type": "code",
   "execution_count": 17,
   "metadata": {
    "execution": {
     "iopub.execute_input": "2021-02-04T13:32:04.244584Z",
     "iopub.status.busy": "2021-02-04T13:32:04.243390Z",
     "iopub.status.idle": "2021-02-04T13:32:04.246948Z",
     "shell.execute_reply": "2021-02-04T13:32:04.246164Z"
    },
    "papermill": {
     "duration": 0.09791,
     "end_time": "2021-02-04T13:32:04.247108",
     "exception": false,
     "start_time": "2021-02-04T13:32:04.149198",
     "status": "completed"
    },
    "tags": []
   },
   "outputs": [],
   "source": [
    "# Удалим в Train ненужные столбцы\n",
    "train = train.drop(['verified', 'reviewTime', 'reviewerName', 'reviewText', 'summary', 'unixReviewTime', 'style', 'image'], axis=1)"
   ]
  },
  {
   "cell_type": "code",
   "execution_count": 18,
   "metadata": {
    "execution": {
     "iopub.execute_input": "2021-02-04T13:32:04.368647Z",
     "iopub.status.busy": "2021-02-04T13:32:04.367512Z",
     "iopub.status.idle": "2021-02-04T13:32:04.518628Z",
     "shell.execute_reply": "2021-02-04T13:32:04.517850Z"
    },
    "papermill": {
     "duration": 0.213879,
     "end_time": "2021-02-04T13:32:04.518817",
     "exception": false,
     "start_time": "2021-02-04T13:32:04.304938",
     "status": "completed"
    },
    "tags": []
   },
   "outputs": [
    {
     "data": {
      "text/plain": [
       "overall         0\n",
       "asin            0\n",
       "vote       739155\n",
       "userid          0\n",
       "itemid          0\n",
       "rating          0\n",
       "dtype: int64"
      ]
     },
     "execution_count": 18,
     "metadata": {},
     "output_type": "execute_result"
    }
   ],
   "source": [
    "# посмотрим число пропущенных значений в train\n",
    "train.isnull().sum()"
   ]
  },
  {
   "cell_type": "code",
   "execution_count": 19,
   "metadata": {
    "execution": {
     "iopub.execute_input": "2021-02-04T13:32:04.718427Z",
     "iopub.status.busy": "2021-02-04T13:32:04.717698Z",
     "iopub.status.idle": "2021-02-04T13:32:04.752818Z",
     "shell.execute_reply": "2021-02-04T13:32:04.753940Z"
    },
    "papermill": {
     "duration": 0.16234,
     "end_time": "2021-02-04T13:32:04.754132",
     "exception": false,
     "start_time": "2021-02-04T13:32:04.591792",
     "status": "completed"
    },
    "tags": []
   },
   "outputs": [
    {
     "name": "stdout",
     "output_type": "stream",
     "text": [
      "Общая доля пропусков в столбце vote: 86.16 %\n"
     ]
    }
   ],
   "source": [
    "column = 'vote'\n",
    "print(f'Общая доля пропусков в столбце {column}:', round((train[column].isnull().value_counts(normalize=True) * 100),2)[1], '%')"
   ]
  },
  {
   "cell_type": "code",
   "execution_count": 20,
   "metadata": {
    "execution": {
     "iopub.execute_input": "2021-02-04T13:32:04.885777Z",
     "iopub.status.busy": "2021-02-04T13:32:04.885033Z",
     "iopub.status.idle": "2021-02-04T13:32:04.911935Z",
     "shell.execute_reply": "2021-02-04T13:32:04.911232Z"
    },
    "papermill": {
     "duration": 0.098417,
     "end_time": "2021-02-04T13:32:04.912099",
     "exception": false,
     "start_time": "2021-02-04T13:32:04.813682",
     "status": "completed"
    },
    "tags": []
   },
   "outputs": [],
   "source": [
    "# Столбец 'vote' с таким количеством пропусков малоинформативен, удалим его тоже\n",
    "train = train.drop(['vote'], axis=1)"
   ]
  },
  {
   "cell_type": "code",
   "execution_count": 21,
   "metadata": {
    "execution": {
     "iopub.execute_input": "2021-02-04T13:32:05.042482Z",
     "iopub.status.busy": "2021-02-04T13:32:05.041658Z",
     "iopub.status.idle": "2021-02-04T13:32:05.046686Z",
     "shell.execute_reply": "2021-02-04T13:32:05.046092Z"
    },
    "papermill": {
     "duration": 0.07492,
     "end_time": "2021-02-04T13:32:05.046841",
     "exception": false,
     "start_time": "2021-02-04T13:32:04.971921",
     "status": "completed"
    },
    "tags": []
   },
   "outputs": [
    {
     "data": {
      "text/html": [
       "<div>\n",
       "<style scoped>\n",
       "    .dataframe tbody tr th:only-of-type {\n",
       "        vertical-align: middle;\n",
       "    }\n",
       "\n",
       "    .dataframe tbody tr th {\n",
       "        vertical-align: top;\n",
       "    }\n",
       "\n",
       "    .dataframe thead th {\n",
       "        text-align: right;\n",
       "    }\n",
       "</style>\n",
       "<table border=\"1\" class=\"dataframe\">\n",
       "  <thead>\n",
       "    <tr style=\"text-align: right;\">\n",
       "      <th></th>\n",
       "      <th>overall</th>\n",
       "      <th>asin</th>\n",
       "      <th>userid</th>\n",
       "      <th>itemid</th>\n",
       "      <th>rating</th>\n",
       "    </tr>\n",
       "  </thead>\n",
       "  <tbody>\n",
       "    <tr>\n",
       "      <th>0</th>\n",
       "      <td>5.0</td>\n",
       "      <td>B01CPNIEQG</td>\n",
       "      <td>102179</td>\n",
       "      <td>37138</td>\n",
       "      <td>1.0</td>\n",
       "    </tr>\n",
       "    <tr>\n",
       "      <th>1</th>\n",
       "      <td>5.0</td>\n",
       "      <td>B006F63M8U</td>\n",
       "      <td>3625</td>\n",
       "      <td>17322</td>\n",
       "      <td>1.0</td>\n",
       "    </tr>\n",
       "  </tbody>\n",
       "</table>\n",
       "</div>"
      ],
      "text/plain": [
       "   overall        asin  userid  itemid  rating\n",
       "0      5.0  B01CPNIEQG  102179   37138     1.0\n",
       "1      5.0  B006F63M8U    3625   17322     1.0"
      ]
     },
     "execution_count": 21,
     "metadata": {},
     "output_type": "execute_result"
    }
   ],
   "source": [
    "train.head(2)"
   ]
  },
  {
   "cell_type": "code",
   "execution_count": 22,
   "metadata": {
    "execution": {
     "iopub.execute_input": "2021-02-04T13:32:05.194826Z",
     "iopub.status.busy": "2021-02-04T13:32:05.179002Z",
     "iopub.status.idle": "2021-02-04T13:32:05.199728Z",
     "shell.execute_reply": "2021-02-04T13:32:05.199176Z"
    },
    "papermill": {
     "duration": 0.088579,
     "end_time": "2021-02-04T13:32:05.199897",
     "exception": false,
     "start_time": "2021-02-04T13:32:05.111318",
     "status": "completed"
    },
    "tags": []
   },
   "outputs": [
    {
     "data": {
      "text/html": [
       "<div>\n",
       "<style scoped>\n",
       "    .dataframe tbody tr th:only-of-type {\n",
       "        vertical-align: middle;\n",
       "    }\n",
       "\n",
       "    .dataframe tbody tr th {\n",
       "        vertical-align: top;\n",
       "    }\n",
       "\n",
       "    .dataframe thead th {\n",
       "        text-align: right;\n",
       "    }\n",
       "</style>\n",
       "<table border=\"1\" class=\"dataframe\">\n",
       "  <thead>\n",
       "    <tr style=\"text-align: right;\">\n",
       "      <th></th>\n",
       "      <th>asin</th>\n",
       "      <th>userid</th>\n",
       "      <th>itemid</th>\n",
       "      <th>Id</th>\n",
       "    </tr>\n",
       "  </thead>\n",
       "  <tbody>\n",
       "    <tr>\n",
       "      <th>0</th>\n",
       "      <td>B001E5E3X0</td>\n",
       "      <td>68877</td>\n",
       "      <td>7506</td>\n",
       "      <td>0</td>\n",
       "    </tr>\n",
       "    <tr>\n",
       "      <th>1</th>\n",
       "      <td>B005BYXX5E</td>\n",
       "      <td>50442</td>\n",
       "      <td>15530</td>\n",
       "      <td>1</td>\n",
       "    </tr>\n",
       "    <tr>\n",
       "      <th>2</th>\n",
       "      <td>B0052OK6OO</td>\n",
       "      <td>64349</td>\n",
       "      <td>15049</td>\n",
       "      <td>2</td>\n",
       "    </tr>\n",
       "    <tr>\n",
       "      <th>3</th>\n",
       "      <td>B003SO8HGE</td>\n",
       "      <td>26206</td>\n",
       "      <td>11957</td>\n",
       "      <td>3</td>\n",
       "    </tr>\n",
       "    <tr>\n",
       "      <th>4</th>\n",
       "      <td>B003XUJ564</td>\n",
       "      <td>59366</td>\n",
       "      <td>12173</td>\n",
       "      <td>4</td>\n",
       "    </tr>\n",
       "    <tr>\n",
       "      <th>...</th>\n",
       "      <td>...</td>\n",
       "      <td>...</td>\n",
       "      <td>...</td>\n",
       "      <td>...</td>\n",
       "    </tr>\n",
       "    <tr>\n",
       "      <th>285960</th>\n",
       "      <td>B00FLD3X28</td>\n",
       "      <td>294</td>\n",
       "      <td>25601</td>\n",
       "      <td>285960</td>\n",
       "    </tr>\n",
       "    <tr>\n",
       "      <th>285961</th>\n",
       "      <td>B0078DQ85S</td>\n",
       "      <td>119653</td>\n",
       "      <td>18204</td>\n",
       "      <td>285961</td>\n",
       "    </tr>\n",
       "    <tr>\n",
       "      <th>285962</th>\n",
       "      <td>B000FZVLFS</td>\n",
       "      <td>54673</td>\n",
       "      <td>2287</td>\n",
       "      <td>285962</td>\n",
       "    </tr>\n",
       "    <tr>\n",
       "      <th>285963</th>\n",
       "      <td>B001PB801Y</td>\n",
       "      <td>16569</td>\n",
       "      <td>9343</td>\n",
       "      <td>285963</td>\n",
       "    </tr>\n",
       "    <tr>\n",
       "      <th>285964</th>\n",
       "      <td>B008X6KE0E</td>\n",
       "      <td>56489</td>\n",
       "      <td>19483</td>\n",
       "      <td>285964</td>\n",
       "    </tr>\n",
       "  </tbody>\n",
       "</table>\n",
       "<p>285965 rows × 4 columns</p>\n",
       "</div>"
      ],
      "text/plain": [
       "              asin  userid  itemid      Id\n",
       "0       B001E5E3X0   68877    7506       0\n",
       "1       B005BYXX5E   50442   15530       1\n",
       "2       B0052OK6OO   64349   15049       2\n",
       "3       B003SO8HGE   26206   11957       3\n",
       "4       B003XUJ564   59366   12173       4\n",
       "...            ...     ...     ...     ...\n",
       "285960  B00FLD3X28     294   25601  285960\n",
       "285961  B0078DQ85S  119653   18204  285961\n",
       "285962  B000FZVLFS   54673    2287  285962\n",
       "285963  B001PB801Y   16569    9343  285963\n",
       "285964  B008X6KE0E   56489   19483  285964\n",
       "\n",
       "[285965 rows x 4 columns]"
      ]
     },
     "execution_count": 22,
     "metadata": {},
     "output_type": "execute_result"
    }
   ],
   "source": [
    "# Удалим в test ненужные столбцы\n",
    "test = test.drop(['verified', 'reviewTime', 'vote', 'reviewerName', 'unixReviewTime', 'style', 'image'], axis=1)\n",
    "test"
   ]
  },
  {
   "cell_type": "code",
   "execution_count": 23,
   "metadata": {
    "execution": {
     "iopub.execute_input": "2021-02-04T13:32:05.355774Z",
     "iopub.status.busy": "2021-02-04T13:32:05.355059Z",
     "iopub.status.idle": "2021-02-04T13:32:05.363116Z",
     "shell.execute_reply": "2021-02-04T13:32:05.363593Z"
    },
    "papermill": {
     "duration": 0.103223,
     "end_time": "2021-02-04T13:32:05.363773",
     "exception": false,
     "start_time": "2021-02-04T13:32:05.260550",
     "status": "completed"
    },
    "tags": []
   },
   "outputs": [
    {
     "data": {
      "text/plain": [
       "asin      0\n",
       "userid    0\n",
       "itemid    0\n",
       "Id        0\n",
       "dtype: int64"
      ]
     },
     "execution_count": 23,
     "metadata": {},
     "output_type": "execute_result"
    }
   ],
   "source": [
    "#посмотрим число пропущенных значений в test\n",
    "test.isnull().sum()"
   ]
  },
  {
   "cell_type": "code",
   "execution_count": 24,
   "metadata": {
    "execution": {
     "iopub.execute_input": "2021-02-04T13:32:05.492434Z",
     "iopub.status.busy": "2021-02-04T13:32:05.491488Z",
     "iopub.status.idle": "2021-02-04T13:32:05.545014Z",
     "shell.execute_reply": "2021-02-04T13:32:05.544443Z"
    },
    "papermill": {
     "duration": 0.118118,
     "end_time": "2021-02-04T13:32:05.545178",
     "exception": false,
     "start_time": "2021-02-04T13:32:05.427060",
     "status": "completed"
    },
    "tags": []
   },
   "outputs": [
    {
     "data": {
      "text/html": [
       "<div>\n",
       "<style scoped>\n",
       "    .dataframe tbody tr th:only-of-type {\n",
       "        vertical-align: middle;\n",
       "    }\n",
       "\n",
       "    .dataframe tbody tr th {\n",
       "        vertical-align: top;\n",
       "    }\n",
       "\n",
       "    .dataframe thead th {\n",
       "        text-align: right;\n",
       "    }\n",
       "</style>\n",
       "<table border=\"1\" class=\"dataframe\">\n",
       "  <thead>\n",
       "    <tr style=\"text-align: right;\">\n",
       "      <th></th>\n",
       "      <th>asin</th>\n",
       "      <th>title</th>\n",
       "    </tr>\n",
       "  </thead>\n",
       "  <tbody>\n",
       "    <tr>\n",
       "      <th>30094</th>\n",
       "      <td>B00104HAOO</td>\n",
       "      <td>None</td>\n",
       "    </tr>\n",
       "    <tr>\n",
       "      <th>51120</th>\n",
       "      <td>B001TO12N0</td>\n",
       "      <td>None</td>\n",
       "    </tr>\n",
       "    <tr>\n",
       "      <th>211916</th>\n",
       "      <td>B00N2FVDGA</td>\n",
       "      <td>None</td>\n",
       "    </tr>\n",
       "    <tr>\n",
       "      <th>212457</th>\n",
       "      <td>B00N4QFR32</td>\n",
       "      <td>None</td>\n",
       "    </tr>\n",
       "  </tbody>\n",
       "</table>\n",
       "</div>"
      ],
      "text/plain": [
       "              asin title\n",
       "30094   B00104HAOO  None\n",
       "51120   B001TO12N0  None\n",
       "211916  B00N2FVDGA  None\n",
       "212457  B00N4QFR32  None"
      ]
     },
     "execution_count": 24,
     "metadata": {},
     "output_type": "execute_result"
    }
   ],
   "source": [
    "# Посмотрим, у скольких продуктов в json-файле не было наименований \n",
    "asin_title[asin_title['title']== \"None\"]"
   ]
  },
  {
   "cell_type": "code",
   "execution_count": 25,
   "metadata": {
    "execution": {
     "iopub.execute_input": "2021-02-04T13:32:06.090217Z",
     "iopub.status.busy": "2021-02-04T13:32:06.088726Z",
     "iopub.status.idle": "2021-02-04T13:32:06.303930Z",
     "shell.execute_reply": "2021-02-04T13:32:06.304410Z"
    },
    "papermill": {
     "duration": 0.697507,
     "end_time": "2021-02-04T13:32:06.304595",
     "exception": false,
     "start_time": "2021-02-04T13:32:05.607088",
     "status": "completed"
    },
    "tags": []
   },
   "outputs": [
    {
     "data": {
      "text/plain": [
       "Mr & Mrs Bride and Groom Silhouette Wedding Cake Topper Pick COVERED WITH A PROTECTIVE LAYER WHICH SHOULD BE TORN OFF BEFORE USE(29 optional kinds of styles)    28\n",
       "2\" ~ Disney Princess Sofia the First Birthday ~ Edible Image Cake/Cupcake Topper!!!                                                                              13\n",
       "New Matcha House Premium Ceremonial Grade Green Tea Powder 84g (3oz) - No Additives - Radiation Free - Zero Sugar - First Harvest - FDA Organic Certified        11\n",
       "Allegro Tea, Organic Happy Tummy Tea Bags, 20 ct                                                                                                                 11\n",
       "Vue Portion Pack                                                                                                                                                  9\n",
       "                                                                                                                                                                 ..\n",
       "Trader Joe's Fleur De Sel Caramels - 2 Pack                                                                                                                       1\n",
       "igourmet Tickler Cheddar with Red Onions (7.5 ounce)                                                                                                              1\n",
       "Coffee-mate Coffee Creamer Liquid Singles, Hazelnut, 24 Count (Pack of 4)                                                                                         1\n",
       "Ghirardelli Chocolate Squares, Limited Edition Pecan Pie, 8.63-Ounce Packages (Pack of 2)                                                                         1\n",
       "Simply Apple, Pure Pressed, 59 fl oz                                                                                                                              1\n",
       "Name: title, Length: 281642, dtype: int64"
      ]
     },
     "execution_count": 25,
     "metadata": {},
     "output_type": "execute_result"
    }
   ],
   "source": [
    "# Теперь посмотрим, повторяются ли какие-нибудь наименования\n",
    "asin_title.title.value_counts()"
   ]
  },
  {
   "cell_type": "markdown",
   "metadata": {
    "papermill": {
     "duration": 0.061514,
     "end_time": "2021-02-04T13:32:06.428087",
     "exception": false,
     "start_time": "2021-02-04T13:32:06.366573",
     "status": "completed"
    },
    "tags": []
   },
   "source": [
    "> Видим, что есть случаи, когда вместо наименования, в соответствующем поле встречается техническая информация. Посмотрим сколько таких случаев было:"
   ]
  },
  {
   "cell_type": "code",
   "execution_count": 26,
   "metadata": {
    "execution": {
     "iopub.execute_input": "2021-02-04T13:32:06.586531Z",
     "iopub.status.busy": "2021-02-04T13:32:06.585304Z",
     "iopub.status.idle": "2021-02-04T13:32:06.779062Z",
     "shell.execute_reply": "2021-02-04T13:32:06.778491Z"
    },
    "papermill": {
     "duration": 0.290277,
     "end_time": "2021-02-04T13:32:06.779234",
     "exception": false,
     "start_time": "2021-02-04T13:32:06.488957",
     "status": "completed"
    },
    "tags": []
   },
   "outputs": [
    {
     "data": {
      "text/html": [
       "<div>\n",
       "<style scoped>\n",
       "    .dataframe tbody tr th:only-of-type {\n",
       "        vertical-align: middle;\n",
       "    }\n",
       "\n",
       "    .dataframe tbody tr th {\n",
       "        vertical-align: top;\n",
       "    }\n",
       "\n",
       "    .dataframe thead th {\n",
       "        text-align: right;\n",
       "    }\n",
       "</style>\n",
       "<table border=\"1\" class=\"dataframe\">\n",
       "  <thead>\n",
       "    <tr style=\"text-align: right;\">\n",
       "      <th></th>\n",
       "      <th>asin</th>\n",
       "      <th>title</th>\n",
       "    </tr>\n",
       "  </thead>\n",
       "  <tbody>\n",
       "    <tr>\n",
       "      <th>31866</th>\n",
       "      <td>B0013FAYDY</td>\n",
       "      <td>var aPageStart = (new Date()).getTime();\\nvar ...</td>\n",
       "    </tr>\n",
       "    <tr>\n",
       "      <th>31867</th>\n",
       "      <td>B0013FBEWE</td>\n",
       "      <td>var aPageStart = (new Date()).getTime();\\nvar ...</td>\n",
       "    </tr>\n",
       "    <tr>\n",
       "      <th>31869</th>\n",
       "      <td>B0013FDMQA</td>\n",
       "      <td>var aPageStart = (new Date()).getTime();\\nvar ...</td>\n",
       "    </tr>\n",
       "    <tr>\n",
       "      <th>31876</th>\n",
       "      <td>B0013FHCXY</td>\n",
       "      <td>var aPageStart = (new Date()).getTime();\\nvar ...</td>\n",
       "    </tr>\n",
       "    <tr>\n",
       "      <th>31885</th>\n",
       "      <td>B0013G34BW</td>\n",
       "      <td>var aPageStart = (new Date()).getTime();\\nvar ...</td>\n",
       "    </tr>\n",
       "    <tr>\n",
       "      <th>...</th>\n",
       "      <td>...</td>\n",
       "      <td>...</td>\n",
       "    </tr>\n",
       "    <tr>\n",
       "      <th>59482</th>\n",
       "      <td>B002WTVOSE</td>\n",
       "      <td>var aPageStart = (new Date()).getTime();\\nvar ...</td>\n",
       "    </tr>\n",
       "    <tr>\n",
       "      <th>130537</th>\n",
       "      <td>B00B08U1XM</td>\n",
       "      <td>var aPageStart = (new Date()).getTime();\\nvar ...</td>\n",
       "    </tr>\n",
       "    <tr>\n",
       "      <th>190925</th>\n",
       "      <td>B00JEGVE7E</td>\n",
       "      <td>var aPageStart = (new Date()).getTime();\\nvar ...</td>\n",
       "    </tr>\n",
       "    <tr>\n",
       "      <th>245158</th>\n",
       "      <td>B00XTX0DG6</td>\n",
       "      <td>var aPageStart = (new Date()).getTime();\\nvar ...</td>\n",
       "    </tr>\n",
       "    <tr>\n",
       "      <th>265591</th>\n",
       "      <td>B0185S89HE</td>\n",
       "      <td>var aPageStart = (new Date()).getTime();\\nvar ...</td>\n",
       "    </tr>\n",
       "  </tbody>\n",
       "</table>\n",
       "<p>5697 rows × 2 columns</p>\n",
       "</div>"
      ],
      "text/plain": [
       "              asin                                              title\n",
       "31866   B0013FAYDY  var aPageStart = (new Date()).getTime();\\nvar ...\n",
       "31867   B0013FBEWE  var aPageStart = (new Date()).getTime();\\nvar ...\n",
       "31869   B0013FDMQA  var aPageStart = (new Date()).getTime();\\nvar ...\n",
       "31876   B0013FHCXY  var aPageStart = (new Date()).getTime();\\nvar ...\n",
       "31885   B0013G34BW  var aPageStart = (new Date()).getTime();\\nvar ...\n",
       "...            ...                                                ...\n",
       "59482   B002WTVOSE  var aPageStart = (new Date()).getTime();\\nvar ...\n",
       "130537  B00B08U1XM  var aPageStart = (new Date()).getTime();\\nvar ...\n",
       "190925  B00JEGVE7E  var aPageStart = (new Date()).getTime();\\nvar ...\n",
       "245158  B00XTX0DG6  var aPageStart = (new Date()).getTime();\\nvar ...\n",
       "265591  B0185S89HE  var aPageStart = (new Date()).getTime();\\nvar ...\n",
       "\n",
       "[5697 rows x 2 columns]"
      ]
     },
     "execution_count": 26,
     "metadata": {},
     "output_type": "execute_result"
    }
   ],
   "source": [
    "asin_title[asin_title['title'].str.contains('var aP')]"
   ]
  },
  {
   "cell_type": "code",
   "execution_count": 27,
   "metadata": {
    "execution": {
     "iopub.execute_input": "2021-02-04T13:32:06.946575Z",
     "iopub.status.busy": "2021-02-04T13:32:06.940122Z",
     "iopub.status.idle": "2021-02-04T13:32:07.129588Z",
     "shell.execute_reply": "2021-02-04T13:32:07.129027Z"
    },
    "papermill": {
     "duration": 0.287788,
     "end_time": "2021-02-04T13:32:07.129742",
     "exception": false,
     "start_time": "2021-02-04T13:32:06.841954",
     "status": "completed"
    },
    "tags": []
   },
   "outputs": [
    {
     "data": {
      "text/html": [
       "<div>\n",
       "<style scoped>\n",
       "    .dataframe tbody tr th:only-of-type {\n",
       "        vertical-align: middle;\n",
       "    }\n",
       "\n",
       "    .dataframe tbody tr th {\n",
       "        vertical-align: top;\n",
       "    }\n",
       "\n",
       "    .dataframe thead th {\n",
       "        text-align: right;\n",
       "    }\n",
       "</style>\n",
       "<table border=\"1\" class=\"dataframe\">\n",
       "  <thead>\n",
       "    <tr style=\"text-align: right;\">\n",
       "      <th></th>\n",
       "      <th>asin</th>\n",
       "      <th>title</th>\n",
       "    </tr>\n",
       "  </thead>\n",
       "  <tbody>\n",
       "    <tr>\n",
       "      <th>30094</th>\n",
       "      <td>B00104HAOO</td>\n",
       "      <td>None</td>\n",
       "    </tr>\n",
       "    <tr>\n",
       "      <th>31866</th>\n",
       "      <td>B0013FAYDY</td>\n",
       "      <td>None</td>\n",
       "    </tr>\n",
       "    <tr>\n",
       "      <th>31867</th>\n",
       "      <td>B0013FBEWE</td>\n",
       "      <td>None</td>\n",
       "    </tr>\n",
       "    <tr>\n",
       "      <th>31869</th>\n",
       "      <td>B0013FDMQA</td>\n",
       "      <td>None</td>\n",
       "    </tr>\n",
       "    <tr>\n",
       "      <th>31876</th>\n",
       "      <td>B0013FHCXY</td>\n",
       "      <td>None</td>\n",
       "    </tr>\n",
       "    <tr>\n",
       "      <th>...</th>\n",
       "      <td>...</td>\n",
       "      <td>...</td>\n",
       "    </tr>\n",
       "    <tr>\n",
       "      <th>190925</th>\n",
       "      <td>B00JEGVE7E</td>\n",
       "      <td>None</td>\n",
       "    </tr>\n",
       "    <tr>\n",
       "      <th>211916</th>\n",
       "      <td>B00N2FVDGA</td>\n",
       "      <td>None</td>\n",
       "    </tr>\n",
       "    <tr>\n",
       "      <th>212457</th>\n",
       "      <td>B00N4QFR32</td>\n",
       "      <td>None</td>\n",
       "    </tr>\n",
       "    <tr>\n",
       "      <th>245158</th>\n",
       "      <td>B00XTX0DG6</td>\n",
       "      <td>None</td>\n",
       "    </tr>\n",
       "    <tr>\n",
       "      <th>265591</th>\n",
       "      <td>B0185S89HE</td>\n",
       "      <td>None</td>\n",
       "    </tr>\n",
       "  </tbody>\n",
       "</table>\n",
       "<p>5701 rows × 2 columns</p>\n",
       "</div>"
      ],
      "text/plain": [
       "              asin title\n",
       "30094   B00104HAOO  None\n",
       "31866   B0013FAYDY  None\n",
       "31867   B0013FBEWE  None\n",
       "31869   B0013FDMQA  None\n",
       "31876   B0013FHCXY  None\n",
       "...            ...   ...\n",
       "190925  B00JEGVE7E  None\n",
       "211916  B00N2FVDGA  None\n",
       "212457  B00N4QFR32  None\n",
       "245158  B00XTX0DG6  None\n",
       "265591  B0185S89HE  None\n",
       "\n",
       "[5701 rows x 2 columns]"
      ]
     },
     "execution_count": 27,
     "metadata": {},
     "output_type": "execute_result"
    }
   ],
   "source": [
    "# Присвоим данным полям также значение 'None':\n",
    "asin_title['title'][asin_title['title'].str.contains('var aP')] = 'None'\n",
    "\n",
    "# Посмотрим, у скольких продуктов в json-файле не было наименований \n",
    "asin_title[asin_title['title']== \"None\"]"
   ]
  },
  {
   "cell_type": "code",
   "execution_count": 28,
   "metadata": {
    "execution": {
     "iopub.execute_input": "2021-02-04T13:32:07.304590Z",
     "iopub.status.busy": "2021-02-04T13:32:07.303731Z",
     "iopub.status.idle": "2021-02-04T13:32:07.310257Z",
     "shell.execute_reply": "2021-02-04T13:32:07.309734Z"
    },
    "papermill": {
     "duration": 0.117188,
     "end_time": "2021-02-04T13:32:07.310433",
     "exception": false,
     "start_time": "2021-02-04T13:32:07.193245",
     "status": "completed"
    },
    "tags": []
   },
   "outputs": [
    {
     "name": "stdout",
     "output_type": "stream",
     "text": [
      "Общая доля None в столбце title: 1.984965652190565 %\n"
     ]
    }
   ],
   "source": [
    "column = \"title\"\n",
    "print(f'Общая доля None в столбце {column}:', len(asin_title[asin_title['title']== \"None\"])/len(asin_title) *100, '%')"
   ]
  },
  {
   "cell_type": "markdown",
   "metadata": {
    "papermill": {
     "duration": 0.064306,
     "end_time": "2021-02-04T13:32:07.438271",
     "exception": false,
     "start_time": "2021-02-04T13:32:07.373965",
     "status": "completed"
    },
    "tags": []
   },
   "source": [
    "Удалять данные строки не будем, т.к. возможно данные товары могут влиять на рекомендации\n",
    "\n",
    "Создадим словарь, с помощью которого по asin мы сможем находить title(описание товара)."
   ]
  },
  {
   "cell_type": "code",
   "execution_count": 29,
   "metadata": {
    "execution": {
     "iopub.execute_input": "2021-02-04T13:32:07.750234Z",
     "iopub.status.busy": "2021-02-04T13:32:07.749491Z",
     "iopub.status.idle": "2021-02-04T13:32:07.753467Z",
     "shell.execute_reply": "2021-02-04T13:32:07.752662Z"
    },
    "papermill": {
     "duration": 0.251423,
     "end_time": "2021-02-04T13:32:07.753644",
     "exception": false,
     "start_time": "2021-02-04T13:32:07.502221",
     "status": "completed"
    },
    "tags": []
   },
   "outputs": [],
   "source": [
    "mapper = dict(zip(asin_title['asin'],asin_title['title']))"
   ]
  },
  {
   "cell_type": "markdown",
   "metadata": {
    "papermill": {
     "duration": 0.067305,
     "end_time": "2021-02-04T13:32:07.888800",
     "exception": false,
     "start_time": "2021-02-04T13:32:07.821495",
     "status": "completed"
    },
    "tags": []
   },
   "source": [
    "Теперь применим этот словарь, чтобы добавить title товара в dataframe'ы train и test."
   ]
  },
  {
   "cell_type": "code",
   "execution_count": 30,
   "metadata": {
    "execution": {
     "iopub.execute_input": "2021-02-04T13:32:08.040105Z",
     "iopub.status.busy": "2021-02-04T13:32:08.039383Z",
     "iopub.status.idle": "2021-02-04T13:32:08.918627Z",
     "shell.execute_reply": "2021-02-04T13:32:08.917906Z"
    },
    "papermill": {
     "duration": 0.959135,
     "end_time": "2021-02-04T13:32:08.918798",
     "exception": false,
     "start_time": "2021-02-04T13:32:07.959663",
     "status": "completed"
    },
    "tags": []
   },
   "outputs": [
    {
     "data": {
      "text/html": [
       "<div>\n",
       "<style scoped>\n",
       "    .dataframe tbody tr th:only-of-type {\n",
       "        vertical-align: middle;\n",
       "    }\n",
       "\n",
       "    .dataframe tbody tr th {\n",
       "        vertical-align: top;\n",
       "    }\n",
       "\n",
       "    .dataframe thead th {\n",
       "        text-align: right;\n",
       "    }\n",
       "</style>\n",
       "<table border=\"1\" class=\"dataframe\">\n",
       "  <thead>\n",
       "    <tr style=\"text-align: right;\">\n",
       "      <th></th>\n",
       "      <th>overall</th>\n",
       "      <th>asin</th>\n",
       "      <th>userid</th>\n",
       "      <th>itemid</th>\n",
       "      <th>rating</th>\n",
       "      <th>title</th>\n",
       "    </tr>\n",
       "  </thead>\n",
       "  <tbody>\n",
       "    <tr>\n",
       "      <th>0</th>\n",
       "      <td>5.0</td>\n",
       "      <td>B01CPNIEQG</td>\n",
       "      <td>102179</td>\n",
       "      <td>37138</td>\n",
       "      <td>1.0</td>\n",
       "      <td>Primal Palate Organic Spices Adobo Seasoning, ...</td>\n",
       "    </tr>\n",
       "    <tr>\n",
       "      <th>1</th>\n",
       "      <td>5.0</td>\n",
       "      <td>B006F63M8U</td>\n",
       "      <td>3625</td>\n",
       "      <td>17322</td>\n",
       "      <td>1.0</td>\n",
       "      <td>Milk Chocolate Swiss Miss Hot Cocoa Mix 60-0.7...</td>\n",
       "    </tr>\n",
       "    <tr>\n",
       "      <th>2</th>\n",
       "      <td>5.0</td>\n",
       "      <td>B00112O8NG</td>\n",
       "      <td>39495</td>\n",
       "      <td>5600</td>\n",
       "      <td>1.0</td>\n",
       "      <td>Torani Syrup, Sugar Free Vanilla, 25.4 oz</td>\n",
       "    </tr>\n",
       "    <tr>\n",
       "      <th>3</th>\n",
       "      <td>5.0</td>\n",
       "      <td>B00MRAQUM8</td>\n",
       "      <td>72854</td>\n",
       "      <td>30249</td>\n",
       "      <td>1.0</td>\n",
       "      <td>Frontier Herb Organic Powdered Ceylon Cinnamon...</td>\n",
       "    </tr>\n",
       "    <tr>\n",
       "      <th>4</th>\n",
       "      <td>5.0</td>\n",
       "      <td>B000R7RN0G</td>\n",
       "      <td>74859</td>\n",
       "      <td>4349</td>\n",
       "      <td>1.0</td>\n",
       "      <td>Miss Vickie's Jalapeño Flavored Kettle Cooked ...</td>\n",
       "    </tr>\n",
       "  </tbody>\n",
       "</table>\n",
       "</div>"
      ],
      "text/plain": [
       "   overall        asin  userid  itemid  rating  \\\n",
       "0      5.0  B01CPNIEQG  102179   37138     1.0   \n",
       "1      5.0  B006F63M8U    3625   17322     1.0   \n",
       "2      5.0  B00112O8NG   39495    5600     1.0   \n",
       "3      5.0  B00MRAQUM8   72854   30249     1.0   \n",
       "4      5.0  B000R7RN0G   74859    4349     1.0   \n",
       "\n",
       "                                               title  \n",
       "0  Primal Palate Organic Spices Adobo Seasoning, ...  \n",
       "1  Milk Chocolate Swiss Miss Hot Cocoa Mix 60-0.7...  \n",
       "2          Torani Syrup, Sugar Free Vanilla, 25.4 oz  \n",
       "3  Frontier Herb Organic Powdered Ceylon Cinnamon...  \n",
       "4  Miss Vickie's Jalapeño Flavored Kettle Cooked ...  "
      ]
     },
     "execution_count": 30,
     "metadata": {},
     "output_type": "execute_result"
    }
   ],
   "source": [
    "train['title'] = train.asin.apply(lambda x: mapper[x])\n",
    "test['title'] = test.asin.apply(lambda x: mapper[x])\n",
    "train.head(5)"
   ]
  },
  {
   "cell_type": "code",
   "execution_count": 31,
   "metadata": {
    "execution": {
     "iopub.execute_input": "2021-02-04T13:32:09.060136Z",
     "iopub.status.busy": "2021-02-04T13:32:09.059438Z",
     "iopub.status.idle": "2021-02-04T13:32:09.285207Z",
     "shell.execute_reply": "2021-02-04T13:32:09.284397Z"
    },
    "papermill": {
     "duration": 0.300374,
     "end_time": "2021-02-04T13:32:09.285512",
     "exception": false,
     "start_time": "2021-02-04T13:32:08.985138",
     "status": "completed"
    },
    "tags": []
   },
   "outputs": [
    {
     "data": {
      "text/plain": [
       "overall    0\n",
       "asin       0\n",
       "userid     0\n",
       "itemid     0\n",
       "rating     0\n",
       "title      0\n",
       "dtype: int64"
      ]
     },
     "execution_count": 31,
     "metadata": {},
     "output_type": "execute_result"
    }
   ],
   "source": [
    "train.isnull().sum()"
   ]
  },
  {
   "cell_type": "markdown",
   "metadata": {
    "papermill": {
     "duration": 0.065942,
     "end_time": "2021-02-04T13:32:09.419029",
     "exception": false,
     "start_time": "2021-02-04T13:32:09.353087",
     "status": "completed"
    },
    "tags": []
   },
   "source": [
    "Проверим train на содержание дубликатов:"
   ]
  },
  {
   "cell_type": "code",
   "execution_count": 32,
   "metadata": {
    "execution": {
     "iopub.execute_input": "2021-02-04T13:32:09.564071Z",
     "iopub.status.busy": "2021-02-04T13:32:09.563331Z",
     "iopub.status.idle": "2021-02-04T13:32:10.036572Z",
     "shell.execute_reply": "2021-02-04T13:32:10.037195Z"
    },
    "papermill": {
     "duration": 0.548312,
     "end_time": "2021-02-04T13:32:10.037440",
     "exception": false,
     "start_time": "2021-02-04T13:32:09.489128",
     "status": "completed"
    },
    "tags": []
   },
   "outputs": [
    {
     "data": {
      "text/html": [
       "<div>\n",
       "<style scoped>\n",
       "    .dataframe tbody tr th:only-of-type {\n",
       "        vertical-align: middle;\n",
       "    }\n",
       "\n",
       "    .dataframe tbody tr th {\n",
       "        vertical-align: top;\n",
       "    }\n",
       "\n",
       "    .dataframe thead th {\n",
       "        text-align: right;\n",
       "    }\n",
       "</style>\n",
       "<table border=\"1\" class=\"dataframe\">\n",
       "  <thead>\n",
       "    <tr style=\"text-align: right;\">\n",
       "      <th></th>\n",
       "      <th>overall</th>\n",
       "      <th>asin</th>\n",
       "      <th>userid</th>\n",
       "      <th>itemid</th>\n",
       "      <th>rating</th>\n",
       "      <th>title</th>\n",
       "    </tr>\n",
       "  </thead>\n",
       "  <tbody>\n",
       "    <tr>\n",
       "      <th>7996</th>\n",
       "      <td>5.0</td>\n",
       "      <td>B000Z93FQC</td>\n",
       "      <td>83374</td>\n",
       "      <td>5462</td>\n",
       "      <td>1.0</td>\n",
       "      <td>Y.S. Eco Bee Farms Raw Honey - 22 oz</td>\n",
       "    </tr>\n",
       "    <tr>\n",
       "      <th>8083</th>\n",
       "      <td>5.0</td>\n",
       "      <td>B00124WBCS</td>\n",
       "      <td>85878</td>\n",
       "      <td>5738</td>\n",
       "      <td>1.0</td>\n",
       "      <td>Spry Xylitol Gum, Natural Peppermint, 600 Count</td>\n",
       "    </tr>\n",
       "    <tr>\n",
       "      <th>8435</th>\n",
       "      <td>5.0</td>\n",
       "      <td>B0013ABIXY</td>\n",
       "      <td>87099</td>\n",
       "      <td>5911</td>\n",
       "      <td>1.0</td>\n",
       "      <td>Blue Cattle Truck Trading Co. Traditional Mexi...</td>\n",
       "    </tr>\n",
       "    <tr>\n",
       "      <th>8510</th>\n",
       "      <td>5.0</td>\n",
       "      <td>B0014EOUWU</td>\n",
       "      <td>74833</td>\n",
       "      <td>6112</td>\n",
       "      <td>1.0</td>\n",
       "      <td>Campbell's Chunky Steak &amp; Potato Soup, 18.8 oz...</td>\n",
       "    </tr>\n",
       "    <tr>\n",
       "      <th>9326</th>\n",
       "      <td>5.0</td>\n",
       "      <td>B0013LVMKW</td>\n",
       "      <td>87367</td>\n",
       "      <td>5971</td>\n",
       "      <td>1.0</td>\n",
       "      <td>None</td>\n",
       "    </tr>\n",
       "    <tr>\n",
       "      <th>...</th>\n",
       "      <td>...</td>\n",
       "      <td>...</td>\n",
       "      <td>...</td>\n",
       "      <td>...</td>\n",
       "      <td>...</td>\n",
       "      <td>...</td>\n",
       "    </tr>\n",
       "    <tr>\n",
       "      <th>857874</th>\n",
       "      <td>1.0</td>\n",
       "      <td>B000X1Q1G8</td>\n",
       "      <td>81147</td>\n",
       "      <td>5191</td>\n",
       "      <td>0.0</td>\n",
       "      <td>Walden Farms, Peanut Spread Calorie-Free, 12-O...</td>\n",
       "    </tr>\n",
       "    <tr>\n",
       "      <th>857882</th>\n",
       "      <td>5.0</td>\n",
       "      <td>B0016JF8NI</td>\n",
       "      <td>90826</td>\n",
       "      <td>6512</td>\n",
       "      <td>1.0</td>\n",
       "      <td>None</td>\n",
       "    </tr>\n",
       "    <tr>\n",
       "      <th>857883</th>\n",
       "      <td>5.0</td>\n",
       "      <td>B000VK88IA</td>\n",
       "      <td>32214</td>\n",
       "      <td>4939</td>\n",
       "      <td>1.0</td>\n",
       "      <td>Enjoy Life Seed &amp; Fruit Mix, Soy free, Nut fre...</td>\n",
       "    </tr>\n",
       "    <tr>\n",
       "      <th>857890</th>\n",
       "      <td>5.0</td>\n",
       "      <td>B000H7ELTW</td>\n",
       "      <td>59433</td>\n",
       "      <td>2566</td>\n",
       "      <td>1.0</td>\n",
       "      <td>Traverse Bay Fruit Dried Cranberries, 4 Pound</td>\n",
       "    </tr>\n",
       "    <tr>\n",
       "      <th>857891</th>\n",
       "      <td>2.0</td>\n",
       "      <td>B0012NI02O</td>\n",
       "      <td>86473</td>\n",
       "      <td>5828</td>\n",
       "      <td>0.0</td>\n",
       "      <td>Ahmad Tea Darjeeling Tea, 3.5-Ounce Tins (Pack...</td>\n",
       "    </tr>\n",
       "  </tbody>\n",
       "</table>\n",
       "<p>41989 rows × 6 columns</p>\n",
       "</div>"
      ],
      "text/plain": [
       "        overall        asin  userid  itemid  rating  \\\n",
       "7996        5.0  B000Z93FQC   83374    5462     1.0   \n",
       "8083        5.0  B00124WBCS   85878    5738     1.0   \n",
       "8435        5.0  B0013ABIXY   87099    5911     1.0   \n",
       "8510        5.0  B0014EOUWU   74833    6112     1.0   \n",
       "9326        5.0  B0013LVMKW   87367    5971     1.0   \n",
       "...         ...         ...     ...     ...     ...   \n",
       "857874      1.0  B000X1Q1G8   81147    5191     0.0   \n",
       "857882      5.0  B0016JF8NI   90826    6512     1.0   \n",
       "857883      5.0  B000VK88IA   32214    4939     1.0   \n",
       "857890      5.0  B000H7ELTW   59433    2566     1.0   \n",
       "857891      2.0  B0012NI02O   86473    5828     0.0   \n",
       "\n",
       "                                                    title  \n",
       "7996                 Y.S. Eco Bee Farms Raw Honey - 22 oz  \n",
       "8083      Spry Xylitol Gum, Natural Peppermint, 600 Count  \n",
       "8435    Blue Cattle Truck Trading Co. Traditional Mexi...  \n",
       "8510    Campbell's Chunky Steak & Potato Soup, 18.8 oz...  \n",
       "9326                                                 None  \n",
       "...                                                   ...  \n",
       "857874  Walden Farms, Peanut Spread Calorie-Free, 12-O...  \n",
       "857882                                               None  \n",
       "857883  Enjoy Life Seed & Fruit Mix, Soy free, Nut fre...  \n",
       "857890      Traverse Bay Fruit Dried Cranberries, 4 Pound  \n",
       "857891  Ahmad Tea Darjeeling Tea, 3.5-Ounce Tins (Pack...  \n",
       "\n",
       "[41989 rows x 6 columns]"
      ]
     },
     "execution_count": 32,
     "metadata": {},
     "output_type": "execute_result"
    }
   ],
   "source": [
    "train[train.duplicated(subset=['overall', 'asin', 'userid'])]"
   ]
  },
  {
   "cell_type": "code",
   "execution_count": 33,
   "metadata": {
    "execution": {
     "iopub.execute_input": "2021-02-04T13:32:10.340013Z",
     "iopub.status.busy": "2021-02-04T13:32:10.338019Z",
     "iopub.status.idle": "2021-02-04T13:32:10.356765Z",
     "shell.execute_reply": "2021-02-04T13:32:10.355957Z"
    },
    "papermill": {
     "duration": 0.246795,
     "end_time": "2021-02-04T13:32:10.356931",
     "exception": false,
     "start_time": "2021-02-04T13:32:10.110136",
     "status": "completed"
    },
    "tags": []
   },
   "outputs": [
    {
     "data": {
      "text/html": [
       "<div>\n",
       "<style scoped>\n",
       "    .dataframe tbody tr th:only-of-type {\n",
       "        vertical-align: middle;\n",
       "    }\n",
       "\n",
       "    .dataframe tbody tr th {\n",
       "        vertical-align: top;\n",
       "    }\n",
       "\n",
       "    .dataframe thead th {\n",
       "        text-align: right;\n",
       "    }\n",
       "</style>\n",
       "<table border=\"1\" class=\"dataframe\">\n",
       "  <thead>\n",
       "    <tr style=\"text-align: right;\">\n",
       "      <th></th>\n",
       "      <th>overall</th>\n",
       "      <th>asin</th>\n",
       "      <th>userid</th>\n",
       "      <th>itemid</th>\n",
       "      <th>rating</th>\n",
       "      <th>title</th>\n",
       "    </tr>\n",
       "  </thead>\n",
       "  <tbody>\n",
       "    <tr>\n",
       "      <th>6689</th>\n",
       "      <td>5.0</td>\n",
       "      <td>B000Z93FQC</td>\n",
       "      <td>83374</td>\n",
       "      <td>5462</td>\n",
       "      <td>1.0</td>\n",
       "      <td>Y.S. Eco Bee Farms Raw Honey - 22 oz</td>\n",
       "    </tr>\n",
       "    <tr>\n",
       "      <th>7996</th>\n",
       "      <td>5.0</td>\n",
       "      <td>B000Z93FQC</td>\n",
       "      <td>83374</td>\n",
       "      <td>5462</td>\n",
       "      <td>1.0</td>\n",
       "      <td>Y.S. Eco Bee Farms Raw Honey - 22 oz</td>\n",
       "    </tr>\n",
       "  </tbody>\n",
       "</table>\n",
       "</div>"
      ],
      "text/plain": [
       "      overall        asin  userid  itemid  rating  \\\n",
       "6689      5.0  B000Z93FQC   83374    5462     1.0   \n",
       "7996      5.0  B000Z93FQC   83374    5462     1.0   \n",
       "\n",
       "                                     title  \n",
       "6689  Y.S. Eco Bee Farms Raw Honey - 22 oz  \n",
       "7996  Y.S. Eco Bee Farms Raw Honey - 22 oz  "
      ]
     },
     "execution_count": 33,
     "metadata": {},
     "output_type": "execute_result"
    }
   ],
   "source": [
    "train[(train['overall'] == 5.0) & (train['asin'] == 'B000Z93FQC') &(train['userid'] == 83374) ]"
   ]
  },
  {
   "cell_type": "markdown",
   "metadata": {
    "papermill": {
     "duration": 0.069526,
     "end_time": "2021-02-04T13:32:10.499265",
     "exception": false,
     "start_time": "2021-02-04T13:32:10.429739",
     "status": "completed"
    },
    "tags": []
   },
   "source": [
    "Удаление дубликатов привело к ухудшению метрики с 0.74 до 0.71. В свою очередь, добавление еще одной группы дубликатов (вместо удаления) привело к улучшению метрики до 0.77 при предсказании на test_data"
   ]
  },
  {
   "cell_type": "code",
   "execution_count": 34,
   "metadata": {
    "execution": {
     "iopub.execute_input": "2021-02-04T13:32:10.643724Z",
     "iopub.status.busy": "2021-02-04T13:32:10.642638Z",
     "iopub.status.idle": "2021-02-04T13:32:10.860695Z",
     "shell.execute_reply": "2021-02-04T13:32:10.859719Z"
    },
    "papermill": {
     "duration": 0.294138,
     "end_time": "2021-02-04T13:32:10.860862",
     "exception": false,
     "start_time": "2021-02-04T13:32:10.566724",
     "status": "completed"
    },
    "tags": []
   },
   "outputs": [],
   "source": [
    "#поставим эксперимент: увеличим train в 2 раза, продублировав имеющиеся данные (на величине разреженной матрицы это никак не скажется) \n",
    "train = pd.concat([train, train])"
   ]
  },
  {
   "cell_type": "code",
   "execution_count": 35,
   "metadata": {
    "execution": {
     "iopub.execute_input": "2021-02-04T13:32:11.009272Z",
     "iopub.status.busy": "2021-02-04T13:32:11.008563Z",
     "iopub.status.idle": "2021-02-04T13:32:11.024059Z",
     "shell.execute_reply": "2021-02-04T13:32:11.023401Z"
    },
    "papermill": {
     "duration": 0.094214,
     "end_time": "2021-02-04T13:32:11.024221",
     "exception": false,
     "start_time": "2021-02-04T13:32:10.930007",
     "status": "completed"
    },
    "tags": []
   },
   "outputs": [
    {
     "data": {
      "text/html": [
       "<div>\n",
       "<style scoped>\n",
       "    .dataframe tbody tr th:only-of-type {\n",
       "        vertical-align: middle;\n",
       "    }\n",
       "\n",
       "    .dataframe tbody tr th {\n",
       "        vertical-align: top;\n",
       "    }\n",
       "\n",
       "    .dataframe thead th {\n",
       "        text-align: right;\n",
       "    }\n",
       "</style>\n",
       "<table border=\"1\" class=\"dataframe\">\n",
       "  <thead>\n",
       "    <tr style=\"text-align: right;\">\n",
       "      <th></th>\n",
       "      <th>asin</th>\n",
       "      <th>userid</th>\n",
       "      <th>itemid</th>\n",
       "      <th>Id</th>\n",
       "      <th>title</th>\n",
       "    </tr>\n",
       "  </thead>\n",
       "  <tbody>\n",
       "    <tr>\n",
       "      <th>0</th>\n",
       "      <td>B001E5E3X0</td>\n",
       "      <td>68877</td>\n",
       "      <td>7506</td>\n",
       "      <td>0</td>\n",
       "      <td>None</td>\n",
       "    </tr>\n",
       "    <tr>\n",
       "      <th>1</th>\n",
       "      <td>B005BYXX5E</td>\n",
       "      <td>50442</td>\n",
       "      <td>15530</td>\n",
       "      <td>1</td>\n",
       "      <td>Anasazi Beans 1 lb burlap bag</td>\n",
       "    </tr>\n",
       "  </tbody>\n",
       "</table>\n",
       "</div>"
      ],
      "text/plain": [
       "         asin  userid  itemid  Id                          title\n",
       "0  B001E5E3X0   68877    7506   0                           None\n",
       "1  B005BYXX5E   50442   15530   1  Anasazi Beans 1 lb burlap bag"
      ]
     },
     "execution_count": 35,
     "metadata": {},
     "output_type": "execute_result"
    }
   ],
   "source": [
    "test.head(2)"
   ]
  },
  {
   "cell_type": "code",
   "execution_count": 36,
   "metadata": {
    "execution": {
     "iopub.execute_input": "2021-02-04T13:32:11.199556Z",
     "iopub.status.busy": "2021-02-04T13:32:11.198851Z",
     "iopub.status.idle": "2021-02-04T13:32:11.249232Z",
     "shell.execute_reply": "2021-02-04T13:32:11.250129Z"
    },
    "papermill": {
     "duration": 0.156236,
     "end_time": "2021-02-04T13:32:11.250414",
     "exception": false,
     "start_time": "2021-02-04T13:32:11.094178",
     "status": "completed"
    },
    "tags": []
   },
   "outputs": [
    {
     "data": {
      "text/plain": [
       "asin      0\n",
       "userid    0\n",
       "itemid    0\n",
       "Id        0\n",
       "title     0\n",
       "dtype: int64"
      ]
     },
     "execution_count": 36,
     "metadata": {},
     "output_type": "execute_result"
    }
   ],
   "source": [
    "test.isnull().sum()"
   ]
  },
  {
   "cell_type": "markdown",
   "metadata": {
    "papermill": {
     "duration": 0.069443,
     "end_time": "2021-02-04T13:32:11.393036",
     "exception": false,
     "start_time": "2021-02-04T13:32:11.323593",
     "status": "completed"
    },
    "tags": []
   },
   "source": [
    "Чтобы работать с моделями в библиотеке LightFm, нам нужно создать разреженные матрицы. Мы будем хранить данные в формате COO (координатный формат представления данных). Вместо хранения всех значений, которые включают нулевые значения, мы будем хранить только ненулевые значения. В COO данные представлены в виде (строка, столбец, значение).\n",
    "\n",
    "Формируем разреженную матрицу\n",
    "\n",
    "ratings_coo: размером train_data.userid(row) * train_data.itemid(col), с соответствующим значением рейтинга товара train_data.rating в полях"
   ]
  },
  {
   "cell_type": "code",
   "execution_count": 37,
   "metadata": {
    "execution": {
     "iopub.execute_input": "2021-02-04T13:32:11.543883Z",
     "iopub.status.busy": "2021-02-04T13:32:11.542961Z",
     "iopub.status.idle": "2021-02-04T13:32:12.722969Z",
     "shell.execute_reply": "2021-02-04T13:32:12.722157Z"
    },
    "papermill": {
     "duration": 1.256725,
     "end_time": "2021-02-04T13:32:12.723137",
     "exception": false,
     "start_time": "2021-02-04T13:32:11.466412",
     "status": "completed"
    },
    "tags": []
   },
   "outputs": [],
   "source": [
    "train_data, test_data = train_test_split(train,random_state=32, shuffle=True)"
   ]
  },
  {
   "cell_type": "code",
   "execution_count": 38,
   "metadata": {
    "execution": {
     "iopub.execute_input": "2021-02-04T13:32:12.872704Z",
     "iopub.status.busy": "2021-02-04T13:32:12.871973Z",
     "iopub.status.idle": "2021-02-04T13:32:12.896998Z",
     "shell.execute_reply": "2021-02-04T13:32:12.896108Z"
    },
    "papermill": {
     "duration": 0.100673,
     "end_time": "2021-02-04T13:32:12.897175",
     "exception": false,
     "start_time": "2021-02-04T13:32:12.796502",
     "status": "completed"
    },
    "tags": []
   },
   "outputs": [],
   "source": [
    "ratings_coo = sparse.coo_matrix((train_data['rating'].astype(int),\n",
    "                                 (train_data['userid'],\n",
    "                                  train_data['itemid'])))\n",
    "#Разбиваем наш датасет на обучающую и тестовую выборки\n",
    "#ratings_coo_train,ratings_coo_test = random_train_test_split(ratings_coo, test_percentage=0.2, random_state=32)"
   ]
  },
  {
   "cell_type": "code",
   "execution_count": 39,
   "metadata": {
    "execution": {
     "iopub.execute_input": "2021-02-04T13:32:13.051598Z",
     "iopub.status.busy": "2021-02-04T13:32:13.050872Z",
     "iopub.status.idle": "2021-02-04T13:32:13.055003Z",
     "shell.execute_reply": "2021-02-04T13:32:13.054288Z"
    },
    "papermill": {
     "duration": 0.086464,
     "end_time": "2021-02-04T13:32:13.055160",
     "exception": false,
     "start_time": "2021-02-04T13:32:12.968696",
     "status": "completed"
    },
    "tags": []
   },
   "outputs": [],
   "source": [
    "#ratings_coo_train"
   ]
  },
  {
   "cell_type": "code",
   "execution_count": 40,
   "metadata": {
    "execution": {
     "iopub.execute_input": "2021-02-04T13:32:13.203972Z",
     "iopub.status.busy": "2021-02-04T13:32:13.203110Z",
     "iopub.status.idle": "2021-02-04T13:32:13.207197Z",
     "shell.execute_reply": "2021-02-04T13:32:13.206508Z"
    },
    "papermill": {
     "duration": 0.081934,
     "end_time": "2021-02-04T13:32:13.207377",
     "exception": false,
     "start_time": "2021-02-04T13:32:13.125443",
     "status": "completed"
    },
    "tags": []
   },
   "outputs": [],
   "source": [
    "#ratings_coo_test"
   ]
  },
  {
   "cell_type": "markdown",
   "metadata": {
    "papermill": {
     "duration": 0.074955,
     "end_time": "2021-02-04T13:32:13.358457",
     "exception": false,
     "start_time": "2021-02-04T13:32:13.283502",
     "status": "completed"
    },
    "tags": []
   },
   "source": [
    "### Models"
   ]
  },
  {
   "cell_type": "markdown",
   "metadata": {
    "papermill": {
     "duration": 0.070702,
     "end_time": "2021-02-04T13:32:13.501744",
     "exception": false,
     "start_time": "2021-02-04T13:32:13.431042",
     "status": "completed"
    },
    "tags": []
   },
   "source": [
    "#### Model 1"
   ]
  },
  {
   "cell_type": "code",
   "execution_count": 41,
   "metadata": {
    "execution": {
     "iopub.execute_input": "2021-02-04T13:32:13.651960Z",
     "iopub.status.busy": "2021-02-04T13:32:13.651189Z",
     "iopub.status.idle": "2021-02-04T13:32:13.654553Z",
     "shell.execute_reply": "2021-02-04T13:32:13.655053Z"
    },
    "papermill": {
     "duration": 0.080664,
     "end_time": "2021-02-04T13:32:13.655242",
     "exception": false,
     "start_time": "2021-02-04T13:32:13.574578",
     "status": "completed"
    },
    "tags": []
   },
   "outputs": [],
   "source": [
    "# объявляем вспомогательные константы для обучения модели\n",
    "\n",
    "#число потоков нашего процессора\n",
    "NUM_THREADS = 2 \n",
    "\n",
    "#число параметров вектора \n",
    "NUM_COMPONENTS = 30 \n",
    "\n",
    "#число эпох обучения\n",
    "NUM_EPOCHS = 20 "
   ]
  },
  {
   "cell_type": "code",
   "execution_count": 42,
   "metadata": {
    "execution": {
     "iopub.execute_input": "2021-02-04T13:32:13.806935Z",
     "iopub.status.busy": "2021-02-04T13:32:13.805839Z",
     "iopub.status.idle": "2021-02-04T13:32:13.809054Z",
     "shell.execute_reply": "2021-02-04T13:32:13.809680Z"
    },
    "papermill": {
     "duration": 0.081498,
     "end_time": "2021-02-04T13:32:13.809932",
     "exception": false,
     "start_time": "2021-02-04T13:32:13.728434",
     "status": "completed"
    },
    "tags": []
   },
   "outputs": [],
   "source": [
    "#Создаём модель\n",
    "#model1 = LightFM(learning_rate=0.1, loss='logistic', no_components=NUM_COMPONENTS)\n",
    "\n",
    "#Обучаем модель\n",
    "#model1 = model1.fit(ratings_coo, epochs=NUM_EPOCHS, num_threads=NUM_THREADS)"
   ]
  },
  {
   "cell_type": "code",
   "execution_count": 43,
   "metadata": {
    "execution": {
     "iopub.execute_input": "2021-02-04T13:32:13.959203Z",
     "iopub.status.busy": "2021-02-04T13:32:13.957875Z",
     "iopub.status.idle": "2021-02-04T13:32:13.961950Z",
     "shell.execute_reply": "2021-02-04T13:32:13.961043Z"
    },
    "papermill": {
     "duration": 0.081387,
     "end_time": "2021-02-04T13:32:13.962133",
     "exception": false,
     "start_time": "2021-02-04T13:32:13.880746",
     "status": "completed"
    },
    "tags": []
   },
   "outputs": [],
   "source": [
    "# вычисляем прелсказание рейтинга\n",
    "\n",
    "#preds1 = model1.predict(test_data.userid.values,\n",
    "#                      test_data.itemid.values)"
   ]
  },
  {
   "cell_type": "code",
   "execution_count": 44,
   "metadata": {
    "execution": {
     "iopub.execute_input": "2021-02-04T13:32:14.121347Z",
     "iopub.status.busy": "2021-02-04T13:32:14.120648Z",
     "iopub.status.idle": "2021-02-04T13:32:14.124728Z",
     "shell.execute_reply": "2021-02-04T13:32:14.124003Z"
    },
    "papermill": {
     "duration": 0.082242,
     "end_time": "2021-02-04T13:32:14.124880",
     "exception": false,
     "start_time": "2021-02-04T13:32:14.042638",
     "status": "completed"
    },
    "tags": []
   },
   "outputs": [],
   "source": [
    "#sklearn.metrics.roc_auc_score(test_data.rating,preds1)"
   ]
  },
  {
   "cell_type": "code",
   "execution_count": 45,
   "metadata": {
    "execution": {
     "iopub.execute_input": "2021-02-04T13:32:14.280037Z",
     "iopub.status.busy": "2021-02-04T13:32:14.279158Z",
     "iopub.status.idle": "2021-02-04T13:32:14.283751Z",
     "shell.execute_reply": "2021-02-04T13:32:14.282523Z"
    },
    "papermill": {
     "duration": 0.086078,
     "end_time": "2021-02-04T13:32:14.284002",
     "exception": false,
     "start_time": "2021-02-04T13:32:14.197924",
     "status": "completed"
    },
    "tags": []
   },
   "outputs": [],
   "source": [
    "#show_roc_curve(test_data.rating, preds1)#"
   ]
  },
  {
   "cell_type": "markdown",
   "metadata": {
    "papermill": {
     "duration": 0.070229,
     "end_time": "2021-02-04T13:32:14.427079",
     "exception": false,
     "start_time": "2021-02-04T13:32:14.356850",
     "status": "completed"
    },
    "tags": []
   },
   "source": [
    "#### Model 2"
   ]
  },
  {
   "cell_type": "code",
   "execution_count": 46,
   "metadata": {
    "execution": {
     "iopub.execute_input": "2021-02-04T13:32:14.588164Z",
     "iopub.status.busy": "2021-02-04T13:32:14.587167Z",
     "iopub.status.idle": "2021-02-04T13:32:14.591320Z",
     "shell.execute_reply": "2021-02-04T13:32:14.590719Z"
    },
    "papermill": {
     "duration": 0.086667,
     "end_time": "2021-02-04T13:32:14.591508",
     "exception": false,
     "start_time": "2021-02-04T13:32:14.504841",
     "status": "completed"
    },
    "tags": []
   },
   "outputs": [],
   "source": [
    "# объявляем вспомогательные константы для обучения модели\n",
    "\n",
    "#число потоков нашего процессора\n",
    "NUM_THREADS = 2 \n",
    "\n",
    "#число параметров вектора \n",
    "NUM_COMPONENTS = 80 \n",
    "\n",
    "#число эпох обучения\n",
    "NUM_EPOCHS = 20 "
   ]
  },
  {
   "cell_type": "code",
   "execution_count": 47,
   "metadata": {
    "execution": {
     "iopub.execute_input": "2021-02-04T13:32:14.745467Z",
     "iopub.status.busy": "2021-02-04T13:32:14.744210Z",
     "iopub.status.idle": "2021-02-04T13:32:56.535861Z",
     "shell.execute_reply": "2021-02-04T13:32:56.534271Z"
    },
    "papermill": {
     "duration": 41.871789,
     "end_time": "2021-02-04T13:32:56.536055",
     "exception": false,
     "start_time": "2021-02-04T13:32:14.664266",
     "status": "completed"
    },
    "tags": []
   },
   "outputs": [],
   "source": [
    "#Создаём модель\n",
    "model2 = LightFM(learning_rate=0.1, loss='logistic',\n",
    "                no_components=NUM_COMPONENTS)\n",
    "#Обучаем модель\n",
    "model2 = model2.fit(ratings_coo, epochs=NUM_EPOCHS, \n",
    "                  num_threads=NUM_THREADS)"
   ]
  },
  {
   "cell_type": "code",
   "execution_count": 48,
   "metadata": {
    "execution": {
     "iopub.execute_input": "2021-02-04T13:32:56.681324Z",
     "iopub.status.busy": "2021-02-04T13:32:56.680613Z",
     "iopub.status.idle": "2021-02-04T13:32:56.884634Z",
     "shell.execute_reply": "2021-02-04T13:32:56.885118Z"
    },
    "papermill": {
     "duration": 0.279626,
     "end_time": "2021-02-04T13:32:56.885310",
     "exception": false,
     "start_time": "2021-02-04T13:32:56.605684",
     "status": "completed"
    },
    "tags": []
   },
   "outputs": [],
   "source": [
    "preds2 = model2.predict(test_data.userid.values,\n",
    "                      test_data.itemid.values)"
   ]
  },
  {
   "cell_type": "code",
   "execution_count": 49,
   "metadata": {
    "execution": {
     "iopub.execute_input": "2021-02-04T13:32:57.037762Z",
     "iopub.status.busy": "2021-02-04T13:32:57.036721Z",
     "iopub.status.idle": "2021-02-04T13:32:57.211472Z",
     "shell.execute_reply": "2021-02-04T13:32:57.210778Z"
    },
    "papermill": {
     "duration": 0.255497,
     "end_time": "2021-02-04T13:32:57.211656",
     "exception": false,
     "start_time": "2021-02-04T13:32:56.956159",
     "status": "completed"
    },
    "tags": []
   },
   "outputs": [
    {
     "data": {
      "text/plain": [
       "0.9666552889851642"
      ]
     },
     "execution_count": 49,
     "metadata": {},
     "output_type": "execute_result"
    }
   ],
   "source": [
    "sklearn.metrics.roc_auc_score(test_data.rating,preds2)"
   ]
  },
  {
   "cell_type": "code",
   "execution_count": 50,
   "metadata": {
    "execution": {
     "iopub.execute_input": "2021-02-04T13:32:57.358973Z",
     "iopub.status.busy": "2021-02-04T13:32:57.358273Z",
     "iopub.status.idle": "2021-02-04T13:32:57.837075Z",
     "shell.execute_reply": "2021-02-04T13:32:57.835977Z"
    },
    "papermill": {
     "duration": 0.554553,
     "end_time": "2021-02-04T13:32:57.837233",
     "exception": false,
     "start_time": "2021-02-04T13:32:57.282680",
     "status": "completed"
    },
    "tags": []
   },
   "outputs": [
    {
     "data": {
      "image/png": "[encoded data removed]",
      "text/plain": [
       "<Figure size 432x288 with 1 Axes>"
      ]
     },
     "metadata": {
      "needs_background": "light"
     },
     "output_type": "display_data"
    }
   ],
   "source": [
    "show_roc_curve(test_data.rating, preds2)"
   ]
  },
  {
   "cell_type": "markdown",
   "metadata": {
    "papermill": {
     "duration": 0.072823,
     "end_time": "2021-02-04T13:32:57.980672",
     "exception": false,
     "start_time": "2021-02-04T13:32:57.907849",
     "status": "completed"
    },
    "tags": []
   },
   "source": [
    "### Тест модели"
   ]
  },
  {
   "cell_type": "code",
   "execution_count": 51,
   "metadata": {
    "execution": {
     "iopub.execute_input": "2021-02-04T13:32:58.131428Z",
     "iopub.status.busy": "2021-02-04T13:32:58.130667Z",
     "iopub.status.idle": "2021-02-04T13:36:56.098870Z",
     "shell.execute_reply": "2021-02-04T13:36:56.099404Z"
    },
    "papermill": {
     "duration": 238.044587,
     "end_time": "2021-02-04T13:36:56.099591",
     "exception": false,
     "start_time": "2021-02-04T13:32:58.055004",
     "status": "completed"
    },
    "tags": []
   },
   "outputs": [
    {
     "name": "stdout",
     "output_type": "stream",
     "text": [
      "0.78861564\n"
     ]
    }
   ],
   "source": [
    "#Тестируем нашу модель\n",
    "\"\"\"prec_score = precision_at_k(\n",
    "                     model2,\n",
    "                     ratings_coo_test,\n",
    "                     num_threads=NUM_THREADS,\n",
    "                     k=10).mean()\n",
    " \n",
    "recall_at_k = recall_at_k(model2,\n",
    "                     ratings_coo_test,\n",
    "                     num_threads=NUM_THREADS,\n",
    "                     k=10).mean()\"\"\"\n",
    "\n",
    "auc_score = auc_score(model2,\n",
    "                     ratings_coo,\n",
    "                     num_threads=NUM_THREADS).mean()\n",
    "\n",
    "print(auc_score)"
   ]
  },
  {
   "cell_type": "markdown",
   "metadata": {
    "papermill": {
     "duration": 0.070116,
     "end_time": "2021-02-04T13:36:56.240173",
     "exception": false,
     "start_time": "2021-02-04T13:36:56.170057",
     "status": "completed"
    },
    "tags": []
   },
   "source": [
    "Предсказание rating на test:"
   ]
  },
  {
   "cell_type": "code",
   "execution_count": 52,
   "metadata": {
    "execution": {
     "iopub.execute_input": "2021-02-04T13:36:56.386619Z",
     "iopub.status.busy": "2021-02-04T13:36:56.385650Z",
     "iopub.status.idle": "2021-02-04T13:36:56.518119Z",
     "shell.execute_reply": "2021-02-04T13:36:56.518680Z"
    },
    "papermill": {
     "duration": 0.207851,
     "end_time": "2021-02-04T13:36:56.518870",
     "exception": false,
     "start_time": "2021-02-04T13:36:56.311019",
     "status": "completed"
    },
    "tags": []
   },
   "outputs": [],
   "source": [
    "preds2 = model2.predict(test.userid.values,\n",
    "                      test.itemid.values)"
   ]
  },
  {
   "cell_type": "code",
   "execution_count": 53,
   "metadata": {
    "execution": {
     "iopub.execute_input": "2021-02-04T13:36:56.667884Z",
     "iopub.status.busy": "2021-02-04T13:36:56.666899Z",
     "iopub.status.idle": "2021-02-04T13:36:56.672972Z",
     "shell.execute_reply": "2021-02-04T13:36:56.673499Z"
    },
    "papermill": {
     "duration": 0.080258,
     "end_time": "2021-02-04T13:36:56.673675",
     "exception": false,
     "start_time": "2021-02-04T13:36:56.593417",
     "status": "completed"
    },
    "tags": []
   },
   "outputs": [
    {
     "data": {
      "text/plain": [
       "(-31.484694, 31.213306)"
      ]
     },
     "execution_count": 53,
     "metadata": {},
     "output_type": "execute_result"
    }
   ],
   "source": [
    "preds2.min(), preds2.max()"
   ]
  },
  {
   "cell_type": "code",
   "execution_count": 54,
   "metadata": {
    "execution": {
     "iopub.execute_input": "2021-02-04T13:36:56.820142Z",
     "iopub.status.busy": "2021-02-04T13:36:56.819160Z",
     "iopub.status.idle": "2021-02-04T13:36:56.824870Z",
     "shell.execute_reply": "2021-02-04T13:36:56.825417Z"
    },
    "papermill": {
     "duration": 0.081157,
     "end_time": "2021-02-04T13:36:56.825596",
     "exception": false,
     "start_time": "2021-02-04T13:36:56.744439",
     "status": "completed"
    },
    "tags": []
   },
   "outputs": [],
   "source": [
    "normalized_preds = (preds2 - preds2.min())/(preds2 - preds2.min()).max()"
   ]
  },
  {
   "cell_type": "code",
   "execution_count": 55,
   "metadata": {
    "execution": {
     "iopub.execute_input": "2021-02-04T13:36:56.973526Z",
     "iopub.status.busy": "2021-02-04T13:36:56.972578Z",
     "iopub.status.idle": "2021-02-04T13:36:56.978709Z",
     "shell.execute_reply": "2021-02-04T13:36:56.979279Z"
    },
    "papermill": {
     "duration": 0.081491,
     "end_time": "2021-02-04T13:36:56.979473",
     "exception": false,
     "start_time": "2021-02-04T13:36:56.897982",
     "status": "completed"
    },
    "tags": []
   },
   "outputs": [
    {
     "data": {
      "text/plain": [
       "array([0.54287165, 0.5266616 , 0.50398153, ..., 0.510045  , 0.5241254 ,\n",
       "       0.54827553], dtype=float32)"
      ]
     },
     "execution_count": 55,
     "metadata": {},
     "output_type": "execute_result"
    }
   ],
   "source": [
    "normalized_preds"
   ]
  },
  {
   "cell_type": "markdown",
   "metadata": {
    "papermill": {
     "duration": 0.07174,
     "end_time": "2021-02-04T13:36:57.123642",
     "exception": false,
     "start_time": "2021-02-04T13:36:57.051902",
     "status": "completed"
    },
    "tags": []
   },
   "source": [
    "Добавим  предсказанный рейтинг к test и посмотрим график распределения рейтинга (точнее вероятности получения максимального рейтинга ?)"
   ]
  },
  {
   "cell_type": "code",
   "execution_count": 56,
   "metadata": {
    "execution": {
     "iopub.execute_input": "2021-02-04T13:36:57.272769Z",
     "iopub.status.busy": "2021-02-04T13:36:57.271641Z",
     "iopub.status.idle": "2021-02-04T13:36:57.290259Z",
     "shell.execute_reply": "2021-02-04T13:36:57.290828Z"
    },
    "papermill": {
     "duration": 0.09536,
     "end_time": "2021-02-04T13:36:57.291001",
     "exception": false,
     "start_time": "2021-02-04T13:36:57.195641",
     "status": "completed"
    },
    "tags": []
   },
   "outputs": [
    {
     "data": {
      "text/html": [
       "<div>\n",
       "<style scoped>\n",
       "    .dataframe tbody tr th:only-of-type {\n",
       "        vertical-align: middle;\n",
       "    }\n",
       "\n",
       "    .dataframe tbody tr th {\n",
       "        vertical-align: top;\n",
       "    }\n",
       "\n",
       "    .dataframe thead th {\n",
       "        text-align: right;\n",
       "    }\n",
       "</style>\n",
       "<table border=\"1\" class=\"dataframe\">\n",
       "  <thead>\n",
       "    <tr style=\"text-align: right;\">\n",
       "      <th></th>\n",
       "      <th>asin</th>\n",
       "      <th>userid</th>\n",
       "      <th>itemid</th>\n",
       "      <th>Id</th>\n",
       "      <th>title</th>\n",
       "      <th>pred_rating</th>\n",
       "    </tr>\n",
       "  </thead>\n",
       "  <tbody>\n",
       "    <tr>\n",
       "      <th>0</th>\n",
       "      <td>B001E5E3X0</td>\n",
       "      <td>68877</td>\n",
       "      <td>7506</td>\n",
       "      <td>0</td>\n",
       "      <td>None</td>\n",
       "      <td>0.542872</td>\n",
       "    </tr>\n",
       "    <tr>\n",
       "      <th>1</th>\n",
       "      <td>B005BYXX5E</td>\n",
       "      <td>50442</td>\n",
       "      <td>15530</td>\n",
       "      <td>1</td>\n",
       "      <td>Anasazi Beans 1 lb burlap bag</td>\n",
       "      <td>0.526662</td>\n",
       "    </tr>\n",
       "    <tr>\n",
       "      <th>2</th>\n",
       "      <td>B0052OK6OO</td>\n",
       "      <td>64349</td>\n",
       "      <td>15049</td>\n",
       "      <td>2</td>\n",
       "      <td>Green Mountain Coffee, Kenya Keurig K-Cup Pods...</td>\n",
       "      <td>0.503982</td>\n",
       "    </tr>\n",
       "    <tr>\n",
       "      <th>3</th>\n",
       "      <td>B003SO8HGE</td>\n",
       "      <td>26206</td>\n",
       "      <td>11957</td>\n",
       "      <td>3</td>\n",
       "      <td>Organic India Tulsi Tea, Loose Leaf, Sweet Ros...</td>\n",
       "      <td>0.496795</td>\n",
       "    </tr>\n",
       "    <tr>\n",
       "      <th>4</th>\n",
       "      <td>B003XUJ564</td>\n",
       "      <td>59366</td>\n",
       "      <td>12173</td>\n",
       "      <td>4</td>\n",
       "      <td>Chef Boyardee Overstuffed Italian Sausage Ravi...</td>\n",
       "      <td>0.528133</td>\n",
       "    </tr>\n",
       "    <tr>\n",
       "      <th>...</th>\n",
       "      <td>...</td>\n",
       "      <td>...</td>\n",
       "      <td>...</td>\n",
       "      <td>...</td>\n",
       "      <td>...</td>\n",
       "      <td>...</td>\n",
       "    </tr>\n",
       "    <tr>\n",
       "      <th>285960</th>\n",
       "      <td>B00FLD3X28</td>\n",
       "      <td>294</td>\n",
       "      <td>25601</td>\n",
       "      <td>285960</td>\n",
       "      <td>Natural Mate Sweetener, Sucralose and Erythrit...</td>\n",
       "      <td>0.552440</td>\n",
       "    </tr>\n",
       "    <tr>\n",
       "      <th>285961</th>\n",
       "      <td>B0078DQ85S</td>\n",
       "      <td>119653</td>\n",
       "      <td>18204</td>\n",
       "      <td>285961</td>\n",
       "      <td>Doctor In The Kitchen, Flackers Organic Flax S...</td>\n",
       "      <td>0.420322</td>\n",
       "    </tr>\n",
       "    <tr>\n",
       "      <th>285962</th>\n",
       "      <td>B000FZVLFS</td>\n",
       "      <td>54673</td>\n",
       "      <td>2287</td>\n",
       "      <td>285962</td>\n",
       "      <td>Peet's Coffee, French Roast Dark Roast, Whole ...</td>\n",
       "      <td>0.510045</td>\n",
       "    </tr>\n",
       "    <tr>\n",
       "      <th>285963</th>\n",
       "      <td>B001PB801Y</td>\n",
       "      <td>16569</td>\n",
       "      <td>9343</td>\n",
       "      <td>285963</td>\n",
       "      <td>Two Pounds Of Dates Pitted - We Got Nuts</td>\n",
       "      <td>0.524125</td>\n",
       "    </tr>\n",
       "    <tr>\n",
       "      <th>285964</th>\n",
       "      <td>B008X6KE0E</td>\n",
       "      <td>56489</td>\n",
       "      <td>19483</td>\n",
       "      <td>285964</td>\n",
       "      <td>Hoosier Hill Farm Prague Powder Curing Salt, P...</td>\n",
       "      <td>0.548276</td>\n",
       "    </tr>\n",
       "  </tbody>\n",
       "</table>\n",
       "<p>285965 rows × 6 columns</p>\n",
       "</div>"
      ],
      "text/plain": [
       "              asin  userid  itemid      Id  \\\n",
       "0       B001E5E3X0   68877    7506       0   \n",
       "1       B005BYXX5E   50442   15530       1   \n",
       "2       B0052OK6OO   64349   15049       2   \n",
       "3       B003SO8HGE   26206   11957       3   \n",
       "4       B003XUJ564   59366   12173       4   \n",
       "...            ...     ...     ...     ...   \n",
       "285960  B00FLD3X28     294   25601  285960   \n",
       "285961  B0078DQ85S  119653   18204  285961   \n",
       "285962  B000FZVLFS   54673    2287  285962   \n",
       "285963  B001PB801Y   16569    9343  285963   \n",
       "285964  B008X6KE0E   56489   19483  285964   \n",
       "\n",
       "                                                    title  pred_rating  \n",
       "0                                                    None     0.542872  \n",
       "1                           Anasazi Beans 1 lb burlap bag     0.526662  \n",
       "2       Green Mountain Coffee, Kenya Keurig K-Cup Pods...     0.503982  \n",
       "3       Organic India Tulsi Tea, Loose Leaf, Sweet Ros...     0.496795  \n",
       "4       Chef Boyardee Overstuffed Italian Sausage Ravi...     0.528133  \n",
       "...                                                   ...          ...  \n",
       "285960  Natural Mate Sweetener, Sucralose and Erythrit...     0.552440  \n",
       "285961  Doctor In The Kitchen, Flackers Organic Flax S...     0.420322  \n",
       "285962  Peet's Coffee, French Roast Dark Roast, Whole ...     0.510045  \n",
       "285963           Two Pounds Of Dates Pitted - We Got Nuts     0.524125  \n",
       "285964  Hoosier Hill Farm Prague Powder Curing Salt, P...     0.548276  \n",
       "\n",
       "[285965 rows x 6 columns]"
      ]
     },
     "execution_count": 56,
     "metadata": {},
     "output_type": "execute_result"
    }
   ],
   "source": [
    "test['pred_rating'] = normalized_preds\n",
    "test"
   ]
  },
  {
   "cell_type": "code",
   "execution_count": 57,
   "metadata": {
    "execution": {
     "iopub.execute_input": "2021-02-04T13:36:57.440443Z",
     "iopub.status.busy": "2021-02-04T13:36:57.439497Z",
     "iopub.status.idle": "2021-02-04T13:36:59.337959Z",
     "shell.execute_reply": "2021-02-04T13:36:59.337391Z"
    },
    "papermill": {
     "duration": 1.974231,
     "end_time": "2021-02-04T13:36:59.338106",
     "exception": false,
     "start_time": "2021-02-04T13:36:57.363875",
     "status": "completed"
    },
    "tags": []
   },
   "outputs": [
    {
     "data": {
      "text/plain": [
       "<matplotlib.legend.Legend at 0x7f3c202c8b50>"
      ]
     },
     "execution_count": 57,
     "metadata": {},
     "output_type": "execute_result"
    },
    {
     "data": {
      "image/png": "[encoded data removed]",
      "text/plain": [
       "<Figure size 1152x504 with 1 Axes>"
      ]
     },
     "metadata": {
      "needs_background": "light"
     },
     "output_type": "display_data"
    }
   ],
   "source": [
    "plt.figure(figsize=(16,7)) # figure ration 16:7\n",
    "sns.set() # for style\n",
    " \n",
    "sns.distplot(test['pred_rating'],label='Predict rating',)\n",
    " \n",
    "plt.title(\"Histogram of predict rating\") # for histogram title\n",
    "plt.legend() # for label"
   ]
  },
  {
   "cell_type": "markdown",
   "metadata": {
    "papermill": {
     "duration": 0.074231,
     "end_time": "2021-02-04T13:36:59.486802",
     "exception": false,
     "start_time": "2021-02-04T13:36:59.412571",
     "status": "completed"
    },
    "tags": []
   },
   "source": [
    "### Улучшаем модель"
   ]
  },
  {
   "cell_type": "markdown",
   "metadata": {
    "papermill": {
     "duration": 0.076739,
     "end_time": "2021-02-04T13:36:59.637681",
     "exception": false,
     "start_time": "2021-02-04T13:36:59.560942",
     "status": "completed"
    },
    "tags": []
   },
   "source": [
    "Воспользуемся обученной моделью, чтобы получить новые векторные представления njdfhjd. Формально говоря, мы просто представим кажый товар б'ольшим количеством чисел. В нашем случае одному товару соответствует NUM_COMPONENTS = 80"
   ]
  },
  {
   "cell_type": "code",
   "execution_count": 58,
   "metadata": {
    "execution": {
     "iopub.execute_input": "2021-02-04T13:36:59.792113Z",
     "iopub.status.busy": "2021-02-04T13:36:59.791332Z",
     "iopub.status.idle": "2021-02-04T13:36:59.794498Z",
     "shell.execute_reply": "2021-02-04T13:36:59.793839Z"
    },
    "papermill": {
     "duration": 0.08211,
     "end_time": "2021-02-04T13:36:59.794649",
     "exception": false,
     "start_time": "2021-02-04T13:36:59.712539",
     "status": "completed"
    },
    "tags": []
   },
   "outputs": [],
   "source": [
    "# Достаём эбмеддинги\n",
    "\n",
    "item_biases, item_embeddings = model2.get_item_representations()"
   ]
  },
  {
   "cell_type": "code",
   "execution_count": 59,
   "metadata": {
    "execution": {
     "iopub.execute_input": "2021-02-04T13:36:59.950740Z",
     "iopub.status.busy": "2021-02-04T13:36:59.949727Z",
     "iopub.status.idle": "2021-02-04T13:36:59.954457Z",
     "shell.execute_reply": "2021-02-04T13:36:59.953802Z"
    },
    "papermill": {
     "duration": 0.085121,
     "end_time": "2021-02-04T13:36:59.954613",
     "exception": false,
     "start_time": "2021-02-04T13:36:59.869492",
     "status": "completed"
    },
    "tags": []
   },
   "outputs": [
    {
     "data": {
      "text/plain": [
       "((41320,), (41320, 80))"
      ]
     },
     "execution_count": 59,
     "metadata": {},
     "output_type": "execute_result"
    }
   ],
   "source": [
    "item_biases.shape, item_embeddings.shape"
   ]
  },
  {
   "cell_type": "markdown",
   "metadata": {
    "papermill": {
     "duration": 0.075036,
     "end_time": "2021-02-04T13:37:00.110289",
     "exception": false,
     "start_time": "2021-02-04T13:37:00.035253",
     "status": "completed"
    },
    "tags": []
   },
   "source": [
    "Мы получили эмбеддинги — что делать с ними дальше? Эмбеддинги нам нужны, чтобы давать предсказание к каждому товару, а точнее искать наиболее похожие. Но как быстро найти среди более 40 000 товаров наиболее похожий? На помощь нам приходит метод ближайших соседей, approximate k-nn, который реализован в библиотеке nmslib.\n",
    "\n",
    "Вместо того, чтобы перебирать все вершины, мы можем очень быстро обходить граф."
   ]
  },
  {
   "cell_type": "code",
   "execution_count": 60,
   "metadata": {
    "execution": {
     "iopub.execute_input": "2021-02-04T13:37:00.266061Z",
     "iopub.status.busy": "2021-02-04T13:37:00.265417Z",
     "iopub.status.idle": "2021-02-04T13:37:00.341095Z",
     "shell.execute_reply": "2021-02-04T13:37:00.340515Z"
    },
    "papermill": {
     "duration": 0.155924,
     "end_time": "2021-02-04T13:37:00.341238",
     "exception": false,
     "start_time": "2021-02-04T13:37:00.185314",
     "status": "completed"
    },
    "tags": []
   },
   "outputs": [
    {
     "ename": "ModuleNotFoundError",
     "evalue": "No module named 'nmslib'",
     "output_type": "error",
     "traceback": [
      "\u001b[0;31m---------------------------------------------------------------------------\u001b[0m",
      "\u001b[0;31mModuleNotFoundError\u001b[0m                       Traceback (most recent call last)",
      "\u001b[0;32m<ipython-input-60-61952c986200>\u001b[0m in \u001b[0;36m<module>\u001b[0;34m\u001b[0m\n\u001b[0;32m----> 1\u001b[0;31m \u001b[0;32mimport\u001b[0m \u001b[0mnmslib\u001b[0m\u001b[0;34m\u001b[0m\u001b[0;34m\u001b[0m\u001b[0m\n\u001b[0m\u001b[1;32m      2\u001b[0m \u001b[0;34m\u001b[0m\u001b[0m\n\u001b[1;32m      3\u001b[0m \u001b[0;31m#Создаём наш граф для поиска\u001b[0m\u001b[0;34m\u001b[0m\u001b[0;34m\u001b[0m\u001b[0;34m\u001b[0m\u001b[0m\n\u001b[1;32m      4\u001b[0m \u001b[0mnms_idx\u001b[0m \u001b[0;34m=\u001b[0m \u001b[0mnmslib\u001b[0m\u001b[0;34m.\u001b[0m\u001b[0minit\u001b[0m\u001b[0;34m(\u001b[0m\u001b[0mmethod\u001b[0m\u001b[0;34m=\u001b[0m\u001b[0;34m'hnsw'\u001b[0m\u001b[0;34m,\u001b[0m \u001b[0mspace\u001b[0m\u001b[0;34m=\u001b[0m\u001b[0;34m'cosinesimil'\u001b[0m\u001b[0;34m)\u001b[0m\u001b[0;34m\u001b[0m\u001b[0;34m\u001b[0m\u001b[0m\n\u001b[1;32m      5\u001b[0m \u001b[0;34m\u001b[0m\u001b[0m\n",
      "\u001b[0;31mModuleNotFoundError\u001b[0m: No module named 'nmslib'"
     ]
    }
   ],
   "source": [
    "import nmslib\n",
    " \n",
    "#Создаём наш граф для поиска\n",
    "nms_idx = nmslib.init(method='hnsw', space='cosinesimil')\n",
    " \n",
    "#Начинаем добавлять наши товары в граф\n",
    "nms_idx.addDataPointBatch(item_embeddings)\n",
    "nms_idx.createIndex(print_progress=True)"
   ]
  },
  {
   "cell_type": "code",
   "execution_count": 61,
   "metadata": {
    "execution": {
     "iopub.execute_input": "2021-02-04T13:37:00.500745Z",
     "iopub.status.busy": "2021-02-04T13:37:00.500025Z",
     "iopub.status.idle": "2021-02-04T13:37:00.503562Z",
     "shell.execute_reply": "2021-02-04T13:37:00.504689Z"
    },
    "papermill": {
     "duration": 0.088644,
     "end_time": "2021-02-04T13:37:00.504881",
     "exception": false,
     "start_time": "2021-02-04T13:37:00.416237",
     "status": "completed"
    },
    "tags": []
   },
   "outputs": [],
   "source": [
    "#Вспомогательная функция для поиска по графу\n",
    "def nearest_item_nms(itemid, index, n=10):\n",
    "    nn = index.knnQuery(item_embeddings[itemid], k=n)\n",
    "    return nn"
   ]
  },
  {
   "cell_type": "markdown",
   "metadata": {
    "papermill": {
     "duration": 0.076017,
     "end_time": "2021-02-04T13:37:00.657456",
     "exception": false,
     "start_time": "2021-02-04T13:37:00.581439",
     "status": "completed"
    },
    "tags": []
   },
   "source": [
    "### Проверка модели "
   ]
  },
  {
   "cell_type": "markdown",
   "metadata": {
    "papermill": {
     "duration": 0.075277,
     "end_time": "2021-02-04T13:37:00.808244",
     "exception": false,
     "start_time": "2021-02-04T13:37:00.732967",
     "status": "completed"
    },
    "tags": []
   },
   "source": [
    "Попробуем написать рекомендации к какому-нибудь товару. Например, торт"
   ]
  },
  {
   "cell_type": "code",
   "execution_count": 62,
   "metadata": {
    "execution": {
     "iopub.execute_input": "2021-02-04T13:37:01.169674Z",
     "iopub.status.busy": "2021-02-04T13:37:01.168969Z",
     "iopub.status.idle": "2021-02-04T13:37:03.224517Z",
     "shell.execute_reply": "2021-02-04T13:37:03.223846Z"
    },
    "papermill": {
     "duration": 2.340624,
     "end_time": "2021-02-04T13:37:03.224665",
     "exception": false,
     "start_time": "2021-02-04T13:37:00.884041",
     "status": "completed"
    },
    "tags": []
   },
   "outputs": [
    {
     "data": {
      "text/html": [
       "<div>\n",
       "<style scoped>\n",
       "    .dataframe tbody tr th:only-of-type {\n",
       "        vertical-align: middle;\n",
       "    }\n",
       "\n",
       "    .dataframe tbody tr th {\n",
       "        vertical-align: top;\n",
       "    }\n",
       "\n",
       "    .dataframe thead th {\n",
       "        text-align: right;\n",
       "    }\n",
       "</style>\n",
       "<table border=\"1\" class=\"dataframe\">\n",
       "  <thead>\n",
       "    <tr style=\"text-align: right;\">\n",
       "      <th></th>\n",
       "      <th>overall</th>\n",
       "      <th>asin</th>\n",
       "      <th>userid</th>\n",
       "      <th>itemid</th>\n",
       "      <th>rating</th>\n",
       "      <th>title</th>\n",
       "    </tr>\n",
       "  </thead>\n",
       "  <tbody>\n",
       "    <tr>\n",
       "      <th>197</th>\n",
       "      <td>3.0</td>\n",
       "      <td>B00NY3LRHK</td>\n",
       "      <td>126766</td>\n",
       "      <td>30900</td>\n",
       "      <td>0.0</td>\n",
       "      <td>Organic Chocolate Chip Pancake and Waffle Mix ...</td>\n",
       "    </tr>\n",
       "    <tr>\n",
       "      <th>349</th>\n",
       "      <td>1.0</td>\n",
       "      <td>B000MOGV0C</td>\n",
       "      <td>33464</td>\n",
       "      <td>3563</td>\n",
       "      <td>0.0</td>\n",
       "      <td>New Hope Mills Sugar Free Pancake &amp; Waffle Mix...</td>\n",
       "    </tr>\n",
       "    <tr>\n",
       "      <th>793</th>\n",
       "      <td>5.0</td>\n",
       "      <td>B00C9LFK26</td>\n",
       "      <td>112018</td>\n",
       "      <td>22636</td>\n",
       "      <td>1.0</td>\n",
       "      <td>Carbon's Golden Malted Pancake and Waffle Flou...</td>\n",
       "    </tr>\n",
       "    <tr>\n",
       "      <th>804</th>\n",
       "      <td>5.0</td>\n",
       "      <td>B0010VO7ES</td>\n",
       "      <td>17236</td>\n",
       "      <td>5567</td>\n",
       "      <td>1.0</td>\n",
       "      <td>Betty Crocker Bisquick Baking Mix, Shake 'n Po...</td>\n",
       "    </tr>\n",
       "    <tr>\n",
       "      <th>1095</th>\n",
       "      <td>2.0</td>\n",
       "      <td>B01ARX1FOE</td>\n",
       "      <td>124616</td>\n",
       "      <td>36598</td>\n",
       "      <td>0.0</td>\n",
       "      <td>Paleo Pancake and Waffle Mix by Birch Benders,...</td>\n",
       "    </tr>\n",
       "  </tbody>\n",
       "</table>\n",
       "</div>"
      ],
      "text/plain": [
       "      overall        asin  userid  itemid  rating  \\\n",
       "197       3.0  B00NY3LRHK  126766   30900     0.0   \n",
       "349       1.0  B000MOGV0C   33464    3563     0.0   \n",
       "793       5.0  B00C9LFK26  112018   22636     1.0   \n",
       "804       5.0  B0010VO7ES   17236    5567     1.0   \n",
       "1095      2.0  B01ARX1FOE  124616   36598     0.0   \n",
       "\n",
       "                                                  title  \n",
       "197   Organic Chocolate Chip Pancake and Waffle Mix ...  \n",
       "349   New Hope Mills Sugar Free Pancake & Waffle Mix...  \n",
       "793   Carbon's Golden Malted Pancake and Waffle Flou...  \n",
       "804   Betty Crocker Bisquick Baking Mix, Shake 'n Po...  \n",
       "1095  Paleo Pancake and Waffle Mix by Birch Benders,...  "
      ]
     },
     "execution_count": 62,
     "metadata": {},
     "output_type": "execute_result"
    }
   ],
   "source": [
    "train[train.title.str.find('cake')>=0].head(5)"
   ]
  },
  {
   "cell_type": "markdown",
   "metadata": {
    "papermill": {
     "duration": 0.076063,
     "end_time": "2021-02-04T13:37:03.377200",
     "exception": false,
     "start_time": "2021-02-04T13:37:03.301137",
     "status": "completed"
    },
    "tags": []
   },
   "source": [
    "Возьмем itemid =22636.\n",
    "\n",
    "Ищем похожие товары."
   ]
  },
  {
   "cell_type": "code",
   "execution_count": 63,
   "metadata": {
    "execution": {
     "iopub.execute_input": "2021-02-04T13:37:03.545155Z",
     "iopub.status.busy": "2021-02-04T13:37:03.544109Z",
     "iopub.status.idle": "2021-02-04T13:37:03.548772Z",
     "shell.execute_reply": "2021-02-04T13:37:03.548207Z"
    },
    "papermill": {
     "duration": 0.095086,
     "end_time": "2021-02-04T13:37:03.548916",
     "exception": false,
     "start_time": "2021-02-04T13:37:03.453830",
     "status": "completed"
    },
    "tags": []
   },
   "outputs": [
    {
     "ename": "NameError",
     "evalue": "name 'nms_idx' is not defined",
     "output_type": "error",
     "traceback": [
      "\u001b[0;31m---------------------------------------------------------------------------\u001b[0m",
      "\u001b[0;31mNameError\u001b[0m                                 Traceback (most recent call last)",
      "\u001b[0;32m<ipython-input-63-4a1de151a499>\u001b[0m in \u001b[0;36m<module>\u001b[0;34m\u001b[0m\n\u001b[0;32m----> 1\u001b[0;31m \u001b[0mnbm\u001b[0m \u001b[0;34m=\u001b[0m \u001b[0mnearest_item_nms\u001b[0m\u001b[0;34m(\u001b[0m\u001b[0;36m22636\u001b[0m\u001b[0;34m,\u001b[0m\u001b[0mnms_idx\u001b[0m\u001b[0;34m)\u001b[0m\u001b[0;34m[\u001b[0m\u001b[0;36m0\u001b[0m\u001b[0;34m]\u001b[0m\u001b[0;34m\u001b[0m\u001b[0;34m\u001b[0m\u001b[0m\n\u001b[0m\u001b[1;32m      2\u001b[0m \u001b[0mnbm\u001b[0m\u001b[0;34m\u001b[0m\u001b[0;34m\u001b[0m\u001b[0m\n",
      "\u001b[0;31mNameError\u001b[0m: name 'nms_idx' is not defined"
     ]
    }
   ],
   "source": [
    "nbm = nearest_item_nms(22636,nms_idx)[0]\n",
    "nbm"
   ]
  },
  {
   "cell_type": "markdown",
   "metadata": {
    "tags": [
     "papermill-error-cell-tag"
    ]
   },
   "source": [
    "<span id=\"papermill-error-cell\" style=\"color:red; font-family:Helvetica Neue, Helvetica, Arial, sans-serif; font-size:2em;\">Execution using papermill encountered an exception here and stopped:</span>"
   ]
  },
  {
   "cell_type": "code",
   "execution_count": 64,
   "metadata": {
    "execution": {
     "iopub.execute_input": "2021-02-04T13:37:03.719403Z",
     "iopub.status.busy": "2021-02-04T13:37:03.718392Z",
     "iopub.status.idle": "2021-02-04T13:37:03.723200Z",
     "shell.execute_reply": "2021-02-04T13:37:03.722550Z"
    },
    "papermill": {
     "duration": 0.095991,
     "end_time": "2021-02-04T13:37:03.723342",
     "exception": false,
     "start_time": "2021-02-04T13:37:03.627351",
     "status": "completed"
    },
    "tags": []
   },
   "outputs": [
    {
     "ename": "NameError",
     "evalue": "name 'nbm' is not defined",
     "output_type": "error",
     "traceback": [
      "\u001b[0;31m---------------------------------------------------------------------------\u001b[0m",
      "\u001b[0;31mNameError\u001b[0m                                 Traceback (most recent call last)",
      "\u001b[0;32m<ipython-input-64-dcf2d91a6770>\u001b[0m in \u001b[0;36m<module>\u001b[0;34m\u001b[0m\n\u001b[0;32m----> 1\u001b[0;31m \u001b[0mtrain\u001b[0m\u001b[0;34m[\u001b[0m\u001b[0;34m'title'\u001b[0m\u001b[0;34m]\u001b[0m\u001b[0;34m[\u001b[0m\u001b[0mtrain\u001b[0m\u001b[0;34m.\u001b[0m\u001b[0mitemid\u001b[0m\u001b[0;34m.\u001b[0m\u001b[0misin\u001b[0m\u001b[0;34m(\u001b[0m\u001b[0mnbm\u001b[0m\u001b[0;34m)\u001b[0m\u001b[0;34m]\u001b[0m\u001b[0;34m\u001b[0m\u001b[0;34m\u001b[0m\u001b[0m\n\u001b[0m",
      "\u001b[0;31mNameError\u001b[0m: name 'nbm' is not defined"
     ]
    }
   ],
   "source": [
    "train['title'][train.itemid.isin(nbm)]"
   ]
  },
  {
   "cell_type": "markdown",
   "metadata": {
    "papermill": {
     "duration": 0.077654,
     "end_time": "2021-02-04T13:37:03.878375",
     "exception": false,
     "start_time": "2021-02-04T13:37:03.800721",
     "status": "completed"
    },
    "tags": []
   },
   "source": [
    "#### Submission"
   ]
  },
  {
   "cell_type": "code",
   "execution_count": 65,
   "metadata": {
    "execution": {
     "iopub.execute_input": "2021-02-04T13:37:04.041545Z",
     "iopub.status.busy": "2021-02-04T13:37:04.040566Z",
     "iopub.status.idle": "2021-02-04T13:37:04.053761Z",
     "shell.execute_reply": "2021-02-04T13:37:04.053037Z"
    },
    "papermill": {
     "duration": 0.097865,
     "end_time": "2021-02-04T13:37:04.053953",
     "exception": false,
     "start_time": "2021-02-04T13:37:03.956088",
     "status": "completed"
    },
    "tags": []
   },
   "outputs": [
    {
     "data": {
      "text/html": [
       "<div>\n",
       "<style scoped>\n",
       "    .dataframe tbody tr th:only-of-type {\n",
       "        vertical-align: middle;\n",
       "    }\n",
       "\n",
       "    .dataframe tbody tr th {\n",
       "        vertical-align: top;\n",
       "    }\n",
       "\n",
       "    .dataframe thead th {\n",
       "        text-align: right;\n",
       "    }\n",
       "</style>\n",
       "<table border=\"1\" class=\"dataframe\">\n",
       "  <thead>\n",
       "    <tr style=\"text-align: right;\">\n",
       "      <th></th>\n",
       "      <th>Id</th>\n",
       "      <th>rating</th>\n",
       "    </tr>\n",
       "  </thead>\n",
       "  <tbody>\n",
       "    <tr>\n",
       "      <th>0</th>\n",
       "      <td>0</td>\n",
       "      <td>0.542872</td>\n",
       "    </tr>\n",
       "    <tr>\n",
       "      <th>1</th>\n",
       "      <td>1</td>\n",
       "      <td>0.526662</td>\n",
       "    </tr>\n",
       "    <tr>\n",
       "      <th>2</th>\n",
       "      <td>2</td>\n",
       "      <td>0.503982</td>\n",
       "    </tr>\n",
       "    <tr>\n",
       "      <th>3</th>\n",
       "      <td>3</td>\n",
       "      <td>0.496795</td>\n",
       "    </tr>\n",
       "    <tr>\n",
       "      <th>4</th>\n",
       "      <td>4</td>\n",
       "      <td>0.528133</td>\n",
       "    </tr>\n",
       "    <tr>\n",
       "      <th>...</th>\n",
       "      <td>...</td>\n",
       "      <td>...</td>\n",
       "    </tr>\n",
       "    <tr>\n",
       "      <th>285960</th>\n",
       "      <td>285960</td>\n",
       "      <td>0.552440</td>\n",
       "    </tr>\n",
       "    <tr>\n",
       "      <th>285961</th>\n",
       "      <td>285961</td>\n",
       "      <td>0.420322</td>\n",
       "    </tr>\n",
       "    <tr>\n",
       "      <th>285962</th>\n",
       "      <td>285962</td>\n",
       "      <td>0.510045</td>\n",
       "    </tr>\n",
       "    <tr>\n",
       "      <th>285963</th>\n",
       "      <td>285963</td>\n",
       "      <td>0.524125</td>\n",
       "    </tr>\n",
       "    <tr>\n",
       "      <th>285964</th>\n",
       "      <td>285964</td>\n",
       "      <td>0.548276</td>\n",
       "    </tr>\n",
       "  </tbody>\n",
       "</table>\n",
       "<p>285965 rows × 2 columns</p>\n",
       "</div>"
      ],
      "text/plain": [
       "            Id    rating\n",
       "0            0  0.542872\n",
       "1            1  0.526662\n",
       "2            2  0.503982\n",
       "3            3  0.496795\n",
       "4            4  0.528133\n",
       "...        ...       ...\n",
       "285960  285960  0.552440\n",
       "285961  285961  0.420322\n",
       "285962  285962  0.510045\n",
       "285963  285963  0.524125\n",
       "285964  285964  0.548276\n",
       "\n",
       "[285965 rows x 2 columns]"
      ]
     },
     "execution_count": 65,
     "metadata": {},
     "output_type": "execute_result"
    }
   ],
   "source": [
    "submission_pred = submission.copy()\n",
    "\n",
    "submission_pred['rating']= normalized_preds\n",
    "\n",
    "submission_pred"
   ]
  },
  {
   "cell_type": "code",
   "execution_count": 66,
   "metadata": {
    "execution": {
     "iopub.execute_input": "2021-02-04T13:37:04.214860Z",
     "iopub.status.busy": "2021-02-04T13:37:04.214157Z",
     "iopub.status.idle": "2021-02-04T13:37:05.082890Z",
     "shell.execute_reply": "2021-02-04T13:37:05.083404Z"
    },
    "papermill": {
     "duration": 0.952033,
     "end_time": "2021-02-04T13:37:05.083683",
     "exception": false,
     "start_time": "2021-02-04T13:37:04.131650",
     "status": "completed"
    },
    "tags": []
   },
   "outputs": [],
   "source": [
    "submission_pred.to_csv('submission_log.csv', index=False)"
   ]
  },
  {
   "cell_type": "markdown",
   "metadata": {
    "papermill": {
     "duration": 0.079651,
     "end_time": "2021-02-04T13:37:05.243216",
     "exception": false,
     "start_time": "2021-02-04T13:37:05.163565",
     "status": "completed"
    },
    "tags": []
   },
   "source": [
    "#### Выводы"
   ]
  },
  {
   "cell_type": "markdown",
   "metadata": {
    "papermill": {
     "duration": 0.078045,
     "end_time": "2021-02-04T13:37:05.399865",
     "exception": false,
     "start_time": "2021-02-04T13:37:05.321820",
     "status": "completed"
    },
    "tags": []
   },
   "source": [
    "В виду недостаточного хорошего понимания работы LightFM не получилось понять, как из значений train['overall'] сделать матрицу весов, т.к. попытка сделать:\n",
    "\n",
    "*feature_ratings = sparse.coo_matrix(\n",
    "    (train_data['overall']) , (train_data['itemid'], train_data['userid'])))*\n",
    "    \n",
    "привела к значительному ухудшению метрики\n",
    "\n",
    "Также непонятно, почему удаление дубликатов в train (~ 4.9% от общего объема) привело к ухудшению метрики на 3 сотых, а добавление этих же дубликатов вместо удаления, привело к улучшению метрики на эти же 3 сотые.\n",
    "Чисто технически это можно объяснить увеличением обучающего датасета, но данные там остаются теми же самыми(?)\n",
    "\n",
    "Интереса ради, увеличил датасет обучающей и тестируемой метрики в 2 раза, продублировав имеющиеся данные. На итоговой метрике в kaggle получено увеличение\n",
    "\n",
    "Увеличение числа компонентов NUM_COMPONENTS - гиперпараметра LightFM незначительно улучшает метрику"
   ]
  },
  {
   "cell_type": "code",
   "execution_count": null,
   "metadata": {
    "papermill": {
     "duration": 0.080096,
     "end_time": "2021-02-04T13:37:05.558088",
     "exception": false,
     "start_time": "2021-02-04T13:37:05.477992",
     "status": "completed"
    },
    "tags": []
   },
   "outputs": [],
   "source": []
  }
 ],
 "metadata": {
  "kernelspec": {
   "display_name": "Python 3",
   "language": "python",
   "name": "python3"
  },
  "language_info": {
   "codemirror_mode": {
    "name": "ipython",
    "version": 3
   },
   "file_extension": ".py",
   "mimetype": "text/x-python",
   "name": "python",
   "nbconvert_exporter": "python",
   "pygments_lexer": "ipython3",
   "version": "3.7.6"
  },
  "papermill": {
   "default_parameters": {},
   "duration": 336.214928,
   "end_time": "2021-02-04T13:37:07.622721",
   "environment_variables": {},
   "exception": null,
   "input_path": "__notebook__.ipynb",
   "output_path": "__notebook__.ipynb",
   "parameters": {},
   "start_time": "2021-02-04T13:31:31.407793",
   "version": "2.2.2"
  }
 },
 "nbformat": 4,
 "nbformat_minor": 4
}
